{
 "cells": [
  {
   "cell_type": "markdown",
   "metadata": {},
   "source": [
    "**Exercise 1: FizzBuzz**\n",
    "1. Write a FizzBuzz Function: Create a function fizzbuzz(n) that takes an integer n as a parameter.\n",
    "\n",
    "2. Implement FizzBuzz Logic: The function should print:\n",
    "- \"Fizz\" for multiples of 3\n",
    "- \"Buzz\" for multiples of 5\n",
    "- \"FizzBuzz\" for multiples of both 3 and 5\n",
    "- The number itself for other numbers\n",
    "3. Call the Function: Call the function for numbers 1 to 20."
   ]
  },
  {
   "cell_type": "code",
   "execution_count": 21,
   "metadata": {},
   "outputs": [
    {
     "name": "stdout",
     "output_type": "stream",
     "text": [
      "1\n",
      "2\n",
      "Fizz\n",
      "4\n",
      "Buzz\n",
      "Fizz\n",
      "7\n",
      "8\n",
      "Fizz\n",
      "Buzz\n",
      "11\n",
      "Fizz\n",
      "13\n",
      "14\n",
      "FizzBuzz\n",
      "16\n",
      "17\n",
      "Fizz\n",
      "19\n",
      "Buzz\n"
     ]
    }
   ],
   "source": [
    "def fizzbuzz(n):\n",
    "    \n",
    "    if n%3==0 and n%5==0:\n",
    "        result = 'FizzBuzz'\n",
    "\n",
    "    elif n%3==0:\n",
    "        result = 'Fizz'\n",
    "\n",
    "    elif n%5==0:\n",
    "        result = 'Buzz'\n",
    "    \n",
    "    else:\n",
    "        result = n\n",
    "    \n",
    "    print(result)\n",
    "\n",
    "for i in range(20):\n",
    "    fizzbuzz(i+1)"
   ]
  },
  {
   "cell_type": "markdown",
   "metadata": {},
   "source": [
    "**Exercise 2: Basic Data Filtering**\n",
    "1. Create a List of Mixed Data Types: Create a list that contains a mix of integers, strings, and floats.\n",
    "\n",
    "2. Filter the List: Use list comprehension to create a new list that contains only the integers from the original list.\n",
    "\n",
    "3. Print the New List: Output the filtered list of integers"
   ]
  },
  {
   "cell_type": "code",
   "execution_count": 28,
   "metadata": {},
   "outputs": [
    {
     "data": {
      "text/plain": [
       "[1, 2, 3, 4, 5]"
      ]
     },
     "execution_count": 28,
     "metadata": {},
     "output_type": "execute_result"
    }
   ],
   "source": [
    "mixed_data_types = [1, 2, 3, 4, 5, 'a', 'b', 'c', 'd', 'e', 1.5, 2.5, 3.5, 4.5, 5.5]\n",
    "\n",
    "only_integers = [i for i in mixed_data_types if type(i) == int]\n",
    "\n",
    "only_integers"
   ]
  },
  {
   "cell_type": "markdown",
   "metadata": {},
   "source": [
    "Exercise 3: Simple To-Do List\n",
    "1. Create an Empty List: Start with an empty list called todo_list.\n",
    "\n",
    "2. Define Functions:\n",
    "- A function add_task(task) that adds a task to the list.\n",
    "- A function show_tasks() that prints all tasks in the list"
   ]
  },
  {
   "cell_type": "code",
   "execution_count": 31,
   "metadata": {},
   "outputs": [],
   "source": [
    "todo_list = []\n",
    "\n",
    "def add_task(task):\n",
    "    todo_list.append(task)\n",
    "\n",
    "def show_tasks():\n",
    "    return todo_list"
   ]
  },
  {
   "cell_type": "markdown",
   "metadata": {},
   "source": [
    "Exercise 4: Temperature Converter\n",
    "1. Define a Conversion Function: Write a function celsius_to_fahrenheit(celsius) that converts Celsius to Fahrenheit.\n",
    "\n",
    "2. Print the Result: Output the converted temperature for 22ºF, 46ºF, 51ºF and 76ºF."
   ]
  },
  {
   "cell_type": "code",
   "execution_count": 42,
   "metadata": {},
   "outputs": [
    {
     "name": "stdout",
     "output_type": "stream",
     "text": [
      "-5.56\n",
      "7.78\n",
      "10.56\n",
      "24.44\n"
     ]
    }
   ],
   "source": [
    "farenheits = [22, 46, 51, 76]\n",
    "\n",
    "for i in farenheits:\n",
    "    print(round((i-32)*(5/9), 2))"
   ]
  }
 ],
 "metadata": {
  "kernelspec": {
   "display_name": "esade",
   "language": "python",
   "name": "python3"
  },
  "language_info": {
   "codemirror_mode": {
    "name": "ipython",
    "version": 3
   },
   "file_extension": ".py",
   "mimetype": "text/x-python",
   "name": "python",
   "nbconvert_exporter": "python",
   "pygments_lexer": "ipython3",
   "version": "3.12.6"
  }
 },
 "nbformat": 4,
 "nbformat_minor": 2
}
