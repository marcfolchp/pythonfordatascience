{
 "cells": [
  {
   "cell_type": "markdown",
   "id": "24b98369-c7ba-450b-a8b5-e34319000695",
   "metadata": {
    "slideshow": {
     "slide_type": "slide"
    },
    "tags": []
   },
   "source": [
    "# Python for Data Science\n",
    "## Session 5 \n",
    "### Basic Libraries II"
   ]
  },
  {
   "cell_type": "markdown",
   "id": "3ace1343-d73d-466d-aa07-56febbb7cbf1",
   "metadata": {
    "slideshow": {
     "slide_type": "skip"
    },
    "tags": []
   },
   "source": [
    "---"
   ]
  },
  {
   "cell_type": "markdown",
   "id": "c5ffee69-5d4d-4f1c-9ed7-083afbc931ec",
   "metadata": {
    "slideshow": {
     "slide_type": "slide"
    },
    "tags": []
   },
   "source": [
    "## Outline\n",
    "\n",
    "1. Json, pickle and parquet formats\n",
    "\n",
    "2. Re library\n",
    "\n",
    "3. Time and Datetime libraries"
   ]
  },
  {
   "cell_type": "markdown",
   "id": "aba315f4-e9bf-4a66-b3d3-593037c3ca70",
   "metadata": {
    "slideshow": {
     "slide_type": "skip"
    },
    "tags": []
   },
   "source": [
    "---"
   ]
  },
  {
   "cell_type": "markdown",
   "id": "8ed45dcb-2cf5-4bfa-ba6e-5da25c59757c",
   "metadata": {
    "slideshow": {
     "slide_type": "slide"
    },
    "tags": []
   },
   "source": [
    "## Basic Libraries II\n",
    "\n",
    "Before starting working with different formats, let's see how we can create and read text files using Python buil-in function called **open**. "
   ]
  },
  {
   "cell_type": "code",
   "execution_count": 4,
   "id": "5f7ccded",
   "metadata": {
    "slideshow": {
     "slide_type": "subslide"
    }
   },
   "outputs": [],
   "source": [
    "# Open and write down a file\n",
    "f = open('text_file.txt', 'w')\n",
    "f.write('Hello')\n",
    "f.write('\\n')\n",
    "f.write('Bye')\n",
    "f.close()"
   ]
  },
  {
   "cell_type": "code",
   "execution_count": 5,
   "id": "116186a1",
   "metadata": {
    "slideshow": {
     "slide_type": "subslide"
    }
   },
   "outputs": [
    {
     "name": "stdout",
     "output_type": "stream",
     "text": [
      "Hello\n",
      "Bye\n"
     ]
    }
   ],
   "source": [
    "# Open and read content of a file\n",
    "f = open('text_file.txt', 'r')\n",
    "content = f.read()\n",
    "f.close()\n",
    "print(content)"
   ]
  },
  {
   "cell_type": "code",
   "execution_count": 6,
   "id": "5d60bcc2",
   "metadata": {
    "slideshow": {
     "slide_type": "subslide"
    }
   },
   "outputs": [
    {
     "name": "stdout",
     "output_type": "stream",
     "text": [
      "Line 0: Hello\n",
      "Line 1: Bye\n"
     ]
    }
   ],
   "source": [
    "# We can also simply split lines by using\n",
    "f = open('text_file.txt', 'r')\n",
    "lines = f.read().splitlines()\n",
    "f.close()\n",
    "# loop over the lines\n",
    "for idx, line in enumerate(lines): # enumerate provides returns the index and element\n",
    "    print(f'Line {idx}: {line}')"
   ]
  },
  {
   "cell_type": "code",
   "execution_count": 7,
   "id": "ef202e60",
   "metadata": {
    "slideshow": {
     "slide_type": "subslide"
    }
   },
   "outputs": [],
   "source": [
    "# Let's create a CSV (comma separated values) file\n",
    "header = \"Name,Age,Grade\\n\"\n",
    "rows = [\n",
    "    \"Jaume,30,8.9\\n\",\n",
    "    \"Francisco,25,7.1\\n\",\n",
    "    \"Elena,35,9.2\\n\"\n",
    "]"
   ]
  },
  {
   "cell_type": "code",
   "execution_count": 8,
   "id": "f4d4930e",
   "metadata": {
    "slideshow": {
     "slide_type": "subslide"
    }
   },
   "outputs": [],
   "source": [
    "with open(\"grades.csv\", \"w\") as f:\n",
    "    f.write(header) # Write the header\n",
    "    \n",
    "    # Write each row of data\n",
    "    for row in rows:\n",
    "        f.write(row)"
   ]
  },
  {
   "cell_type": "code",
   "execution_count": 9,
   "id": "35de8a4b",
   "metadata": {
    "slideshow": {
     "slide_type": "subslide"
    }
   },
   "outputs": [
    {
     "name": "stdout",
     "output_type": "stream",
     "text": [
      "['Name', 'Age', 'Grade']\n"
     ]
    },
    {
     "data": {
      "text/plain": [
       "{'students': [{'Name': 'Jaume', 'Age': '30', 'Grade': '8.9'},\n",
       "  {'Name': 'Francisco', 'Age': '25', 'Grade': '7.1'},\n",
       "  {'Name': 'Elena', 'Age': '35', 'Grade': '9.2'}]}"
      ]
     },
     "execution_count": 9,
     "metadata": {},
     "output_type": "execute_result"
    }
   ],
   "source": [
    "with open(\"grades.csv\", \"r\") as f:\n",
    "    lines = f.read().splitlines()\n",
    "    \n",
    "header = lines.pop(0)\n",
    "header = header.split(',')\n",
    "\n",
    "print(header)\n",
    "\n",
    "grades = {'students': []}\n",
    "# create dictionary\n",
    "for line in lines:\n",
    "    student_dict = {}\n",
    "    values = line.split(',')\n",
    "    for idx, column in enumerate(header):\n",
    "        student_dict[column] = values[idx]\n",
    "    grades['students'].append(student_dict)\n",
    "    \n",
    "grades"
   ]
  },
  {
   "cell_type": "markdown",
   "id": "35dc1a74",
   "metadata": {
    "slideshow": {
     "slide_type": "slide"
    },
    "tags": []
   },
   "source": [
    "## Basic Libraries II\n",
    "\n",
    "Another useful statement is **with**. It helps handling properly the resources within its reach, by closing them after its execution. It also makes the code more readable and maintainable."
   ]
  },
  {
   "cell_type": "code",
   "execution_count": 10,
   "id": "474a10ea",
   "metadata": {
    "slideshow": {
     "slide_type": "subslide"
    }
   },
   "outputs": [
    {
     "name": "stdout",
     "output_type": "stream",
     "text": [
      "['Hello', 'Bye']\n"
     ]
    }
   ],
   "source": [
    "with open('text_file.txt', 'r') as f: # we don't have to close the open file, f.close()\n",
    "    lines = f.read().splitlines()\n",
    "    \n",
    "print(lines)"
   ]
  },
  {
   "cell_type": "markdown",
   "id": "557f7645",
   "metadata": {
    "slideshow": {
     "slide_type": "slide"
    },
    "tags": []
   },
   "source": [
    "## Basic Libraries II\n",
    "\n",
    "JavaScript Object Notation (JSON) is a text-based format used for data storing and data interchange across different platforms and languages.\n",
    "\n",
    "Same as dictionaries, data is represented as key-value pairs. "
   ]
  },
  {
   "cell_type": "markdown",
   "id": "9e3e215c",
   "metadata": {
    "slideshow": {
     "slide_type": "slide"
    },
    "tags": []
   },
   "source": [
    "## Basic Libraries II\n",
    "\n",
    "JavaScript Object Notation (JSON) is a text-based format used for data storing and data interchange across different platforms and languages.\n",
    "\n",
    "Same as dictionaries, data is represented as key-value pairs. "
   ]
  },
  {
   "cell_type": "code",
   "execution_count": 11,
   "id": "a85baeee",
   "metadata": {
    "slideshow": {
     "slide_type": "fragment"
    }
   },
   "outputs": [
    {
     "data": {
      "text/plain": [
       "{'students': [{'name': 'Amelie', 'age': 35}, {'name': 'Edgar', 'age': 32}]}"
      ]
     },
     "execution_count": 11,
     "metadata": {},
     "output_type": "execute_result"
    }
   ],
   "source": [
    "{\n",
    "    \"students\": [\n",
    "        {\n",
    "            \"name\": \"Amelie\",\n",
    "            \"age\": 35\n",
    "        },\n",
    "        {\n",
    "            \"name\": \"Edgar\",\n",
    "            \"age\": 32\n",
    "        }\n",
    "    ]\n",
    "}"
   ]
  },
  {
   "cell_type": "code",
   "execution_count": 12,
   "id": "03372288",
   "metadata": {
    "slideshow": {
     "slide_type": "subslide"
    }
   },
   "outputs": [
    {
     "data": {
      "text/plain": [
       "[{'name': 'Amelie', 'age': 35}, {'name': 'Edgar', 'age': 32}]"
      ]
     },
     "execution_count": 12,
     "metadata": {},
     "output_type": "execute_result"
    }
   ],
   "source": [
    "# other valid formats\n",
    "[\n",
    "    {\n",
    "        \"name\": \"Amelie\",\n",
    "        \"age\": 35\n",
    "    },\n",
    "    {\n",
    "        \"name\": \"Edgar\",\n",
    "        \"age\": 32\n",
    "    }\n",
    "]"
   ]
  },
  {
   "cell_type": "code",
   "execution_count": 13,
   "id": "21363512",
   "metadata": {
    "slideshow": {
     "slide_type": "subslide"
    }
   },
   "outputs": [
    {
     "data": {
      "text/plain": [
       "['Amelie', 137, True, None, {'age': 35}, [10, 12, 13]]"
      ]
     },
     "execution_count": 13,
     "metadata": {},
     "output_type": "execute_result"
    }
   ],
   "source": [
    "# other valid formats\n",
    "[\n",
    "    \"Amelie\",\n",
    "    137,\n",
    "    True, # within the json file True is equivalent to true\n",
    "    None, # within the json file None is equivalent to null\n",
    "    {\"age\": 35},\n",
    "    [10, 12, 13]\n",
    "]"
   ]
  },
  {
   "cell_type": "markdown",
   "id": "2d4f9fc6",
   "metadata": {
    "slideshow": {
     "slide_type": "slide"
    }
   },
   "source": [
    "## Basic Libraries II\n",
    "\n",
    "To read and write down json files and manipulate them, we have the built-in json library within Python."
   ]
  },
  {
   "cell_type": "code",
   "execution_count": 14,
   "id": "550d6310",
   "metadata": {
    "slideshow": {
     "slide_type": "subslide"
    }
   },
   "outputs": [],
   "source": [
    "import json\n",
    "data = {\n",
    "    \"students\": [\n",
    "        {\n",
    "            \"name\": \"Amelie\",\n",
    "            \"age\": 35,\n",
    "            \"scolarship\": True\n",
    "        },\n",
    "        {\n",
    "            \"name\": \"Edgar\",\n",
    "            \"age\": 32,\n",
    "            \"scolarship\": None\n",
    "        }\n",
    "    ]\n",
    "}\n",
    "\n",
    "with open('json_example.json', 'w') as f: # write down json\n",
    "    json.dump(data, f)"
   ]
  },
  {
   "cell_type": "code",
   "execution_count": 15,
   "id": "6094e3cf",
   "metadata": {
    "slideshow": {
     "slide_type": "subslide"
    }
   },
   "outputs": [
    {
     "name": "stdout",
     "output_type": "stream",
     "text": [
      "{'students': [{'name': 'Amelie', 'age': 35, 'scolarship': True}, {'name': 'Edgar', 'age': 32, 'scolarship': None}]}\n"
     ]
    }
   ],
   "source": [
    "with open('json_example.json', 'r') as f:\n",
    "    json_data = json.load(f)\n",
    "    \n",
    "print(json_data)"
   ]
  },
  {
   "cell_type": "markdown",
   "id": "c8ad57c3",
   "metadata": {
    "slideshow": {
     "slide_type": "slide"
    },
    "tags": []
   },
   "source": [
    "## Basic Libraries II\n",
    "\n",
    "Similar to JSON, Python includes a Pickle library. However, in contrast to the JSON format, Pickle is a Python-specific serialization format. The Pickle library provides tools to serialize Python objects, which involves transforming them into a stream of bytes. It also allows you to read these byte streams by deserializing them, transforming them back into their original Python objects.\n",
    "\n",
    "In contrast to the JSON format, the binary format is usually more compact and, therefore, more efficient."
   ]
  },
  {
   "cell_type": "code",
   "execution_count": 16,
   "id": "5ab37f4f",
   "metadata": {
    "slideshow": {
     "slide_type": "subslide"
    }
   },
   "outputs": [
    {
     "name": "stdout",
     "output_type": "stream",
     "text": [
      "[0.91947641 0.86985317 0.0284893  0.20638716 0.9050356  0.35147935\n",
      " 0.96971366 0.30535128 0.31189988 0.20729123]\n"
     ]
    }
   ],
   "source": [
    "import numpy as np\n",
    "data = np.random.rand(10)\n",
    "\n",
    "import pickle\n",
    "\n",
    "# Serializing (dumping) the object\n",
    "with open('data.pkl', 'wb') as f:\n",
    "    pickle.dump(data, f)\n",
    "\n",
    "# Deserializing (loading) the object\n",
    "with open('data.pkl', 'rb') as f:\n",
    "    loaded_data = pickle.load(f)\n",
    "\n",
    "print(loaded_data)"
   ]
  },
  {
   "cell_type": "markdown",
   "id": "502f8a2f",
   "metadata": {
    "slideshow": {
     "slide_type": "subslide"
    }
   },
   "source": [
    "## Basic Libraries II\n",
    "\n",
    "**IMPORTANT**: Be extremely carefull when loading pickled data from untrusted sources. Pickles can execute arbitrary code."
   ]
  },
  {
   "cell_type": "markdown",
   "id": "f5826f2d",
   "metadata": {
    "slideshow": {
     "slide_type": "slide"
    },
    "tags": []
   },
   "source": [
    "## Basic Libraries II\n",
    "\n",
    "To work with **Parquet** files, you need either the **pyarrow** or **pandas** library. Parquet is a columnar storage format, meaning that each row represents a sample, and each column represents an attribute. This is a powerful format commonly used as a standard in platforms like **Hugging Face**."
   ]
  },
  {
   "cell_type": "code",
   "execution_count": 17,
   "id": "72fce0ca",
   "metadata": {
    "slideshow": {
     "slide_type": "subslide"
    }
   },
   "outputs": [
    {
     "name": "stdout",
     "output_type": "stream",
     "text": [
      "      name  age\n",
      "0    Alice   25\n",
      "1      Bob   30\n",
      "2  Charlie   35\n"
     ]
    }
   ],
   "source": [
    "import pandas as pd # if it is not working, simply uncomment the following line\n",
    "# !pip install pandas\n",
    "\n",
    "# Creating a DataFrame\n",
    "df = pd.DataFrame({\n",
    "    'name': ['Alice', 'Bob', 'Charlie'],\n",
    "    'age': [25, 30, 35]\n",
    "})\n",
    "\n",
    "# Writing DataFrame to Parquet file with Pandas\n",
    "df.to_parquet('data.parquet')\n",
    "\n",
    "# Reading DataFrame from Parquet file with Pandas\n",
    "df_loaded = pd.read_parquet('data.parquet')\n",
    "\n",
    "print(df_loaded)"
   ]
  },
  {
   "cell_type": "markdown",
   "id": "004bb3cc",
   "metadata": {
    "slideshow": {
     "slide_type": "slide"
    },
    "tags": []
   },
   "source": [
    "## Basic Libraries II\n",
    "\n",
    "When working with text, one of the most powerful tools is regular expressions, aka **regex**. With regex, you can perform complex pattern matching using wildcards and other special characters. Let's see how we could have handled session's four exercise:"
   ]
  },
  {
   "cell_type": "code",
   "execution_count": 18,
   "id": "0746e487",
   "metadata": {
    "slideshow": {
     "slide_type": "subslide"
    }
   },
   "outputs": [
    {
     "name": "stdout",
     "output_type": "stream",
     "text": [
      "['if', 'if']\n"
     ]
    }
   ],
   "source": [
    "import re\n",
    "\n",
    "data = \"What a wonderful life if we could play more time.\"\n",
    "\n",
    "# Regex pattern to find 'if'\n",
    "pattern = 'if'\n",
    "\n",
    "# Search for the pattern\n",
    "matches = re.findall(pattern, data)\n",
    "\n",
    "print(matches) "
   ]
  },
  {
   "cell_type": "markdown",
   "id": "cef1d4ba",
   "metadata": {
    "slideshow": {
     "slide_type": "slide"
    },
    "tags": []
   },
   "source": [
    "## Basic Libraries II\n",
    "\n",
    "Let's see how we could have handled session's four exercise:"
   ]
  },
  {
   "cell_type": "code",
   "execution_count": 19,
   "id": "37e73afc",
   "metadata": {
    "slideshow": {
     "slide_type": "subslide"
    }
   },
   "outputs": [
    {
     "name": "stdout",
     "output_type": "stream",
     "text": [
      "Date: 20240101; Time: 174301; SN: 33; ver: 1_1_10; region: SATL-2KM-11N_404_3770\n",
      "Date: 20240101; Time: 174301; SN: 33; ver: 1_1_10; region: SATL-2KM-11N_404_3772\n",
      "Date: 20240101; Time: 192856; SN: 24; ver: 1_1_10; region: SATL-2KM-10N_552_4162\n",
      "Date: 20240101; Time: 192856; SN: 24; ver: 1_1_10; region: SATL-2KM-10N_552_4164\n",
      "Date: 20240101; Time: 192856; SN: 24; ver: 1_1_10; region: SATL-2KM-10N_554_4162\n",
      "Date: 20240101; Time: 213601; SN: 31; ver: 1_1_10; region: SATL-2KM-11N_392_3740\n",
      "Date: 20240101; Time: 213601; SN: 31; ver: 1_1_10; region: SATL-2KM-11N_392_3742\n",
      "Date: 20240101; Time: 213601; SN: 31; ver: 1_1_10; region: SATL-2KM-11N_396_3752\n",
      "Date: 20240102; Time: 185527; SN: 27; ver: 1_1_10; region: SATL-2KM-11N_740_3850\n",
      "Date: 20240102; Time: 185605; SN: 27; ver: 1_1_10; region: SATL-2KM-11N_690_3572\n",
      "Date: 20240102; Time: 185954; SN: 24; ver: 1_1_10; region: SATL-2KM-11N_414_3786\n",
      "Date: 20240104; Time: 220339; SN: 31; ver: 1_1_10; region: SATL-2KM-10N_556_4178\n",
      "Date: 20240110; Time: 192002; SN: 27; ver: 1_1_10; region: SATL-2KM-11N_380_3728\n",
      "Date: 20240112; Time: 192510; SN: 27; ver: 1_1_10; region: SATL-2KM-11N_386_3750\n",
      "Date: 20240115; Time: 213834; SN: 28; ver: 1_1_10; region: SATL-2KM-11N_376_3722\n",
      "Date: 20240115; Time: 213834; SN: 28; ver: 1_1_10; region: SATL-2KM-11N_380_3724\n",
      "Date: 20240126; Time: 173752; SN: 33; ver: 1_1_10; region: SATL-2KM-11N_386_3722\n",
      "Date: 20240127; Time: 190620; SN: 27; ver: 1_1_10; region: SATL-2KM-11N_500_3600\n",
      "Date: 20240127; Time: 190620; SN: 27; ver: 1_1_10; region: SATL-2KM-11N_500_3602\n",
      "Date: 20240127; Time: 190620; SN: 27; ver: 1_1_10; region: SATL-2KM-11N_502_3600\n",
      "Date: 20240127; Time: 190620; SN: 27; ver: 1_1_10; region: SATL-2KM-11N_502_3602\n",
      "Date: 20240128; Time: 213258; SN: 29; ver: 1_1_10; region: SATL-2KM-11N_418_3862\n",
      "Date: 20240128; Time: 213258; SN: 29; ver: 1_1_10; region: SATL-2KM-11N_418_3864\n",
      "Date: 20240130; Time: 173903; SN: 33; ver: 1_1_10; region: SATL-2KM-11N_360_3748\n",
      "Date: 20240130; Time: 173903; SN: 33; ver: 1_1_10; region: SATL-2KM-11N_364_3754\n",
      "Date: 20240130; Time: 173903; SN: 33; ver: 1_1_10; region: SATL-2KM-11N_366_3756\n",
      "Date: 20240130; Time: 215036; SN: 31; ver: 1_1_10; region: SATL-2KM-11N_366_3756\n",
      "Date: 20240201; Time: 075140; SN: 26; ver: 1_1_10; region: SATL-2KM-39N_556_2792\n",
      "Date: 20240201; Time: 075140; SN: 26; ver: 1_1_10; region: SATL-2KM-39N_556_2794\n",
      "Date: 20240201; Time: 075140; SN: 26; ver: 1_1_10; region: SATL-2KM-39N_558_2794\n",
      "Date: 20240201; Time: 075140; SN: 26; ver: 1_1_10; region: SATL-2KM-39N_560_2792\n",
      "Date: 20240201; Time: 075140; SN: 26; ver: 1_1_10; region: SATL-2KM-39N_560_2794\n",
      "Date: 20240201; Time: 075140; SN: 26; ver: 1_1_10; region: SATL-2KM-39N_560_2796\n",
      "Date: 20240201; Time: 075140; SN: 26; ver: 1_1_10; region: SATL-2KM-39N_562_2792\n",
      "Date: 20240201; Time: 075140; SN: 26; ver: 1_1_10; region: SATL-2KM-39N_562_2794\n",
      "Date: 20240201; Time: 075143; SN: 26; ver: 1_1_10; region: SATL-2KM-39N_556_2792\n",
      "Date: 20240201; Time: 075143; SN: 26; ver: 1_1_10; region: SATL-2KM-39N_562_2788\n",
      "Date: 20240202; Time: 184725; SN: 24; ver: 1_1_10; region: SATL-2KM-11N_624_3630\n",
      "Date: 20240202; Time: 191114; SN: 27; ver: 1_1_10; region: SATL-2KM-11N_718_3608\n",
      "Date: 20240203; Time: 173953; SN: 33; ver: 1_1_10; region: SATL-2KM-11N_366_3756\n",
      "Date: 20240203; Time: 173953; SN: 33; ver: 1_1_10; region: SATL-2KM-11N_368_3756\n",
      "Date: 20240208; Time: 184650; SN: 24; ver: 1_1_10; region: SATL-2KM-11N_624_3632\n",
      "Date: 20240209; Time: 212744; SN: 29; ver: 1_1_10; region: SATL-2KM-11N_380_3722\n",
      "Date: 20240211; Time: 211057; SN: 30; ver: 1_1_10; region: SATL-2KM-11N_700_3690\n",
      "Date: 20240212; Time: 213506; SN: 31; ver: 1_1_10; region: SATL-2KM-11N_408_3712\n",
      "Date: 20240213; Time: 212524; SN: 29; ver: 1_1_10; region: SATL-2KM-11N_540_3748\n",
      "Date: 20240213; Time: 212524; SN: 29; ver: 1_1_10; region: SATL-2KM-11N_542_3750\n",
      "Date: 20240213; Time: 212524; SN: 29; ver: 1_1_10; region: SATL-2KM-11N_544_3742\n",
      "Date: 20240214; Time: 184340; SN: 24; ver: 1_1_10; region: SATL-2KM-11N_688_3630\n",
      "Date: 20240216; Time: 213630; SN: 31; ver: 1_1_10; region: SATL-2KM-11N_418_3724\n",
      "Date: 20240218; Time: 180121; SN: 33; ver: 1_1_10; region: SATL-2KM-10N_568_4176\n",
      "Date: 20240219; Time: 214312; SN: 28; ver: 1_1_10; region: SATL-2KM-11N_252_3954\n",
      "Date: 20240220; Time: 190455; SN: 27; ver: 1_1_10; region: SATL-2KM-11N_718_3608\n",
      "Date: 20240221; Time: 190608; SN: 26; ver: 1_1_10; region: SATL-2KM-11N_380_3764\n",
      "Date: 20240222; Time: 074151; SN: 26; ver: 1_1_10; region: SATL-2KM-39N_556_2794\n",
      "Date: 20240222; Time: 074151; SN: 26; ver: 1_1_10; region: SATL-2KM-39N_558_2796\n",
      "Date: 20240222; Time: 074151; SN: 26; ver: 1_1_10; region: SATL-2KM-39N_560_2794\n",
      "Date: 20240222; Time: 074151; SN: 26; ver: 1_1_10; region: SATL-2KM-39N_560_2796\n",
      "Date: 20240222; Time: 074151; SN: 26; ver: 1_1_10; region: SATL-2KM-39N_562_2794\n",
      "Date: 20240222; Time: 074155; SN: 26; ver: 1_1_10; region: SATL-2KM-39N_556_2792\n",
      "Date: 20240222; Time: 074155; SN: 26; ver: 1_1_10; region: SATL-2KM-39N_556_2794\n",
      "Date: 20240222; Time: 074155; SN: 26; ver: 1_1_10; region: SATL-2KM-39N_558_2794\n",
      "Date: 20240222; Time: 074155; SN: 26; ver: 1_1_10; region: SATL-2KM-39N_560_2792\n",
      "Date: 20240222; Time: 074155; SN: 26; ver: 1_1_10; region: SATL-2KM-39N_562_2792\n",
      "Date: 20240222; Time: 074155; SN: 26; ver: 1_1_10; region: SATL-2KM-39N_562_2794\n",
      "Date: 20240222; Time: 074256; SN: 26; ver: 1_1_10; region: SATL-2KM-39N_564_2790\n",
      "Date: 20240222; Time: 212250; SN: 30; ver: 1_1_10; region: SATL-2KM-11N_382_3722\n",
      "Date: 20240223; Time: 025420; SN: 24; ver: 1_1_10; region: SATL-2KM-51N_686_4422\n",
      "Date: 20240224; Time: 214855; SN: 30; ver: 1_1_10; region: SATL-2KM-10N_552_4162\n",
      "Date: 20240224; Time: 214855; SN: 30; ver: 1_1_10; region: SATL-2KM-10N_554_4162\n",
      "Date: 20240227; Time: 214218; SN: 30; ver: 1_1_10; region: SATL-2KM-10N_562_4170\n",
      "Date: 20240228; Time: 213951; SN: 29; ver: 1_1_10; region: SATL-2KM-11N_248_4068\n",
      "Date: 20240304; Time: 212824; SN: 30; ver: 1_2_0; region: SATL-2KM-11N_378_3722\n",
      "Date: 20240308; Time: 191212; SN: 27; ver: 1_2_0; region: SATL-2KM-11N_506_3614\n",
      "Date: 20240308; Time: 211248; SN: 29; ver: 1_2_0; region: SATL-2KM-11N_718_3640\n",
      "Date: 20240314; Time: 220020; SN: 30; ver: 1_2_0; region: SATL-2KM-10N_544_4186\n",
      "Date: 20240314; Time: 220020; SN: 30; ver: 1_2_0; region: SATL-2KM-10N_550_4202\n",
      "Date: 20240316; Time: 191451; SN: 26; ver: 1_2_0; region: SATL-2KM-11N_380_3764\n",
      "Date: 20240317; Time: 215115; SN: 28; ver: 1_2_0; region: SATL-2KM-10N_552_4162\n",
      "Date: 20240317; Time: 215115; SN: 28; ver: 1_2_0; region: SATL-2KM-10N_552_4164\n",
      "Date: 20240317; Time: 215115; SN: 28; ver: 1_2_0; region: SATL-2KM-10N_554_4162\n",
      "Date: 20240317; Time: 221229; SN: 31; ver: 1_2_0; region: SATL-2KM-10N_556_4176\n",
      "Date: 20240321; Time: 190819; SN: 27; ver: 1_2_0; region: SATL-2KM-11N_714_3632\n",
      "Date: 20240321; Time: 220846; SN: 31; ver: 1_2_0; region: SATL-2KM-10N_560_4178\n",
      "Date: 20240322; Time: 184801; SN: 24; ver: 1_2_0; region: SATL-2KM-11N_500_3632\n",
      "Date: 20240322; Time: 184801; SN: 24; ver: 1_2_0; region: SATL-2KM-11N_502_3632\n",
      "Date: 20240322; Time: 212516; SN: 28; ver: 1_2_0; region: SATL-2KM-11N_502_3600\n",
      "Date: 20240324; Time: 180232; SN: 33; ver: 1_2_0; region: SATL-2KM-10N_554_4172\n",
      "Date: 20240325; Time: 173936; SN: 33; ver: 1_2_0; region: SATL-2KM-11N_378_3722\n",
      "Date: 20240401; Time: 032415; SN: 27; ver: 1_2_0; region: SATL-2KM-51N_688_4420\n",
      "Date: 20240401; Time: 175918; SN: 33; ver: 1_2_0; region: SATL-2KM-10N_542_4168\n",
      "Date: 20240401; Time: 175918; SN: 33; ver: 1_2_0; region: SATL-2KM-10N_546_4206\n",
      "Date: 20240401; Time: 175925; SN: 33; ver: 1_2_0; region: SATL-2KM-10N_542_4168\n",
      "Date: 20240401; Time: 221819; SN: 31; ver: 1_2_0; region: SATL-2KM-10N_602_4148\n",
      "Date: 20240402; Time: 184757; SN: 24; ver: 1_2_0; region: SATL-2KM-11N_486_3630\n",
      "Date: 20240402; Time: 184757; SN: 24; ver: 1_2_0; region: SATL-2KM-11N_486_3636\n",
      "Date: 20240402; Time: 184757; SN: 24; ver: 1_2_0; region: SATL-2KM-11N_488_3638\n",
      "Date: 20240402; Time: 184757; SN: 24; ver: 1_2_0; region: SATL-2KM-11N_490_3638\n",
      "Date: 20240402; Time: 215421; SN: 31; ver: 1_2_0; region: SATL-2KM-11N_500_3632\n",
      "Date: 20240402; Time: 215427; SN: 31; ver: 1_2_0; region: SATL-2KM-11N_502_3600\n",
      "Date: 20240423; Time: 190101; SN: 26; ver: 1_5_0; region: SATL-2KM-11N_414_3862\n",
      "Date: 20240423; Time: 190101; SN: 26; ver: 1_5_0; region: SATL-2KM-11N_416_3862\n",
      "Date: 20240423; Time: 190101; SN: 26; ver: 1_5_0; region: SATL-2KM-11N_416_3864\n",
      "Date: 20240423; Time: 190101; SN: 26; ver: 1_5_0; region: SATL-2KM-11N_418_3860\n",
      "Date: 20240423; Time: 190101; SN: 26; ver: 1_5_0; region: SATL-2KM-11N_418_3862\n",
      "Date: 20240423; Time: 190101; SN: 26; ver: 1_5_0; region: SATL-2KM-11N_418_3864\n",
      "Date: 20240423; Time: 190101; SN: 26; ver: 1_5_0; region: SATL-2KM-11N_418_3872\n",
      "Date: 20240426; Time: 215224; SN: 29; ver: 1_5_0; region: SATL-2KM-11N_244_3818\n",
      "Date: 20240427; Time: 221308; SN: 31; ver: 1_5_0; region: SATL-2KM-10N_722_3848\n",
      "Date: 20240428; Time: 191026; SN: 24; ver: 1_5_0; region: SATL-2KM-11N_380_3722\n",
      "Date: 20240428; Time: 215426; SN: 43; ver: 1_5_0; region: SATL-2KM-10N_630_4262\n",
      "Date: 20240428; Time: 215426; SN: 43; ver: 1_5_0; region: SATL-2KM-10N_630_4264\n",
      "Date: 20240428; Time: 215426; SN: 43; ver: 1_5_0; region: SATL-2KM-10N_634_4282\n",
      "Date: 20240428; Time: 215557; SN: 43; ver: 1_5_0; region: SATL-2KM-10N_726_3862\n",
      "Date: 20240503; Time: 214759; SN: 28; ver: 1_5_0; region: SATL-2KM-11N_376_3724\n",
      "Date: 20240506; Time: 192008; SN: 26; ver: 1_5_0; region: SATL-2KM-10N_562_4178\n",
      "Date: 20240506; Time: 213507; SN: 43; ver: 1_5_0; region: SATL-2KM-11N_384_3750\n",
      "Date: 20240507; Time: 191326; SN: 27; ver: 1_5_0; region: SATL-2KM-11N_718_3608\n",
      "Date: 20240508; Time: 194502; SN: 27; ver: 1_5_0; region: SATL-2KM-11N_262_4022\n",
      "Date: 20240508; Time: 194502; SN: 27; ver: 1_5_0; region: SATL-2KM-11N_264_4022\n",
      "Date: 20240509; Time: 193206; SN: 26; ver: 1_5_0; region: SATL-2KM-10N_562_4196\n",
      "Date: 20240509; Time: 212336; SN: 29; ver: 1_5_0; region: SATL-2KM-11N_706_3778\n",
      "Date: 20240510; Time: 191908; SN: 27; ver: 1_5_0; region: SATL-2KM-11N_718_3608\n",
      "Date: 20240510; Time: 191914; SN: 27; ver: 1_5_0; region: SATL-2KM-11N_712_3566\n",
      "Date: 20240513; Time: 212022; SN: 29; ver: 1_5_0; region: SATL-2KM-11N_630_3742\n",
      "Date: 20240514; Time: 052716; SN: 43; ver: 1_5_0; region: SATL-2KM-51N_730_4342\n",
      "Date: 20240516; Time: 190328; SN: 24; ver: 1_5_0; region: SATL-2KM-11N_262_4052\n",
      "Date: 20240516; Time: 211630; SN: 28; ver: 1_5_0; region: SATL-2KM-11N_716_3848\n",
      "Date: 20240519; Time: 184534; SN: 24; ver: 1_5_0; region: SATL-2KM-11N_658_3700\n",
      "Date: 20240519; Time: 191838; SN: 27; ver: 1_5_0; region: SATL-2KM-11N_718_3608\n",
      "Date: 20240519; Time: 214917; SN: 31; ver: 1_5_0; region: SATL-2KM-11N_500_3598\n",
      "Date: 20240519; Time: 214917; SN: 31; ver: 1_5_0; region: SATL-2KM-11N_500_3600\n",
      "Date: 20240519; Time: 214917; SN: 31; ver: 1_5_0; region: SATL-2KM-11N_500_3602\n",
      "Date: 20240520; Time: 194539; SN: 27; ver: 1_5_0; region: SATL-2KM-10N_638_4280\n",
      "Date: 20240520; Time: 194539; SN: 27; ver: 1_5_0; region: SATL-2KM-10N_638_4282\n",
      "Date: 20240521; Time: 052621; SN: 43; ver: 1_6_0; region: SATL-2KM-51N_730_4342\n",
      "Date: 20240521; Time: 101252; SN: 43; ver: 1_6_0; region: SATL-2KM-39N_556_2792\n",
      "Date: 20240521; Time: 101252; SN: 43; ver: 1_6_0; region: SATL-2KM-39N_558_2796\n",
      "Date: 20240524; Time: 213504; SN: 29; ver: 1_6_0; region: SATL-2KM-11N_378_3724\n",
      "Date: 20240524; Time: 213504; SN: 29; ver: 1_6_0; region: SATL-2KM-11N_380_3724\n",
      "Date: 20240528; Time: 191448; SN: 24; ver: 1_6_0; region: SATL-2KM-11N_248_4068\n",
      "Date: 20240528; Time: 191604; SN: 24; ver: 1_6_0; region: SATL-2KM-11N_344_3836\n",
      "Date: 20240602; Time: 215203; SN: 30; ver: 1_6_0; region: SATL-2KM-10N_712_3948\n",
      "Date: 20240602; Time: 215203; SN: 30; ver: 1_6_0; region: SATL-2KM-10N_714_3948\n",
      "Date: 20240603; Time: 215226; SN: 28; ver: 1_6_0; region: SATL-2KM-11N_248_4068\n",
      "Date: 20240603; Time: 215348; SN: 28; ver: 1_6_0; region: SATL-2KM-11N_346_3786\n",
      "Date: 20240604; Time: 214955; SN: 29; ver: 1_7_0; region: SATL-2KM-10N_594_4136\n",
      "Date: 20240605; Time: 212717; SN: 29; ver: 1_7_0; region: SATL-2KM-11N_718_3608\n",
      "Date: 20240606; Time: 180251; SN: 33; ver: 1_7_0; region: SATL-2KM-10N_556_4180\n",
      "Date: 20240607; Time: 200250; SN: 27; ver: 1_7_0; region: SATL-2KM-10N_554_4172\n",
      "Date: 20240608; Time: 214614; SN: 29; ver: 1_7_0; region: SATL-2KM-11N_248_4068\n",
      "Date: 20240609; Time: 191744; SN: 24; ver: 1_7_0; region: SATL-2KM-10N_564_4194\n",
      "Date: 20240609; Time: 191959; SN: 27; ver: 1_7_0; region: SATL-2KM-11N_702_3540\n",
      "Date: 20240609; Time: 214259; SN: 30; ver: 1_7_0; region: SATL-2KM-11N_262_4052\n",
      "Date: 20240610; Time: 191018; SN: 26; ver: 1_7_0; region: SATL-2KM-11N_384_3750\n",
      "Date: 20240611; Time: 025943; SN: 26; ver: 1_7_0; region: SATL-2KM-51N_748_4364\n",
      "Date: 20240611; Time: 025943; SN: 26; ver: 1_7_0; region: SATL-2KM-51N_748_4366\n",
      "Date: 20240611; Time: 215323; SN: 30; ver: 1_7_0; region: SATL-2KM-10N_702_3948\n",
      "Date: 20240612; Time: 053829; SN: 28; ver: 1_7_0; region: SATL-2KM-51N_686_4422\n",
      "Date: 20240612; Time: 053829; SN: 28; ver: 1_7_0; region: SATL-2KM-51N_688_4420\n",
      "Date: 20240612; Time: 185400; SN: 24; ver: 1_7_0; region: SATL-2KM-11N_574_3714\n",
      "Date: 20240612; Time: 185400; SN: 24; ver: 1_7_0; region: SATL-2KM-11N_576_3720\n",
      "Date: 20240612; Time: 185400; SN: 24; ver: 1_7_0; region: SATL-2KM-11N_578_3722\n",
      "Date: 20240612; Time: 185419; SN: 24; ver: 1_7_0; region: SATL-2KM-11N_554_3610\n",
      "Date: 20240613; Time: 053340; SN: 29; ver: 1_7_0; region: SATL-2KM-51N_728_4342\n",
      "Date: 20240613; Time: 053340; SN: 29; ver: 1_7_0; region: SATL-2KM-51N_730_4342\n",
      "Date: 20240613; Time: 192217; SN: 26; ver: 1_7_0; region: SATL-2KM-10N_560_4178\n",
      "Date: 20240613; Time: 214203; SN: 43; ver: 1_7_0; region: SATL-2KM-11N_384_3750\n",
      "Date: 20240614; Time: 221436; SN: 31; ver: 1_7_0; region: SATL-2KM-10N_558_4184\n",
      "Date: 20240615; Time: 173631; SN: 33; ver: 1_7_0; region: SATL-2KM-11N_546_3742\n",
      "Date: 20240616; Time: 081345; SN: 27; ver: 1_7_0; region: SATL-2KM-39N_560_2792\n",
      "Date: 20240616; Time: 081345; SN: 27; ver: 1_7_0; region: SATL-2KM-39N_560_2794\n",
      "Date: 20240616; Time: 081345; SN: 27; ver: 1_7_0; region: SATL-2KM-39N_562_2792\n",
      "Date: 20240616; Time: 081345; SN: 27; ver: 1_7_0; region: SATL-2KM-39N_562_2794\n",
      "Date: 20240616; Time: 102144; SN: 28; ver: 1_7_0; region: SATL-2KM-39N_556_2794\n",
      "Date: 20240616; Time: 102144; SN: 28; ver: 1_7_0; region: SATL-2KM-39N_558_2794\n",
      "Date: 20240616; Time: 102144; SN: 28; ver: 1_7_0; region: SATL-2KM-39N_560_2792\n",
      "Date: 20240616; Time: 213047; SN: 30; ver: 1_7_0; region: SATL-2KM-11N_464_3828\n",
      "Date: 20240616; Time: 213047; SN: 30; ver: 1_7_0; region: SATL-2KM-11N_464_3830\n",
      "Date: 20240616; Time: 213047; SN: 30; ver: 1_7_0; region: SATL-2KM-11N_466_3826\n",
      "Date: 20240616; Time: 213047; SN: 30; ver: 1_7_0; region: SATL-2KM-11N_466_3828\n",
      "Date: 20240616; Time: 213053; SN: 30; ver: 1_7_0; region: SATL-2KM-11N_460_3792\n",
      "Date: 20240617; Time: 052859; SN: 29; ver: 1_7_0; region: SATL-2KM-51N_730_4348\n",
      "Date: 20240617; Time: 184443; SN: 24; ver: 1_7_0; region: SATL-2KM-11N_702_3566\n",
      "Date: 20240617; Time: 211350; SN: 29; ver: 1_7_0; region: SATL-2KM-11N_724_3614\n",
      "Date: 20240618; Time: 193146; SN: 27; ver: 1_7_0; region: SATL-2KM-11N_530_3682\n",
      "Date: 20240618; Time: 215539; SN: 31; ver: 1_7_0; region: SATL-2KM-11N_452_3740\n",
      "Date: 20240618; Time: 215539; SN: 31; ver: 1_7_0; region: SATL-2KM-11N_458_3756\n",
      "Date: 20240619; Time: 052401; SN: 30; ver: 1_7_0; region: SATL-2KM-52N_368_4336\n",
      "Date: 20240619; Time: 185757; SN: 24; ver: 1_7_0; region: SATL-2KM-11N_528_3700\n",
      "Date: 20240619; Time: 215556; SN: 29; ver: 1_7_0; region: SATL-2KM-10N_742_4460\n",
      "Date: 20240623; Time: 193704; SN: 27; ver: 1_7_0; region: SATL-2KM-11N_566_3734\n",
      "Date: 20240623; Time: 215102; SN: 43; ver: 1_7_0; region: SATL-2KM-11N_384_3750\n",
      "Date: 20240623; Time: 215120; SN: 29; ver: 1_7_0; region: SATL-2KM-10N_596_4134\n"
     ]
    }
   ],
   "source": [
    "import re\n",
    "import glob\n",
    "import os\n",
    "\n",
    "# Regex pattern, r in front of strings tell python to treat them as raw strings\n",
    "# we do this so slashes don't get interpret as scaping symbol\n",
    "pattern = r'(\\d{8})_(\\d{6})_SN(\\d+)_QUICKVIEW_VISUAL_([\\d_]+)_([A-Za-z0-9\\-_.]+)\\.txt' \n",
    "\n",
    "annotations = glob.glob('../Session 4/session_4/annotations/*.txt')\n",
    "\n",
    "for annotation in annotations:\n",
    "\n",
    "    # extract the file name\n",
    "    filename = os.path.basename(annotation)\n",
    "    \n",
    "    # Search and extract values\n",
    "    match = re.match(pattern, filename)\n",
    "    if match:\n",
    "        date, time, satellite_number, version, unique_region = match.groups()\n",
    "        print(f\"Date: {date}; Time: {time}; SN: {satellite_number}; ver: {version}; region: {unique_region}\")"
   ]
  },
  {
   "cell_type": "code",
   "execution_count": 20,
   "id": "6b9fc572",
   "metadata": {
    "slideshow": {
     "slide_type": "subslide"
    }
   },
   "outputs": [
    {
     "name": "stderr",
     "output_type": "stream",
     "text": [
      "<>:3: SyntaxWarning: invalid escape sequence '\\d'\n",
      "<>:3: SyntaxWarning: invalid escape sequence '\\d'\n",
      "C:\\Users\\marcf\\AppData\\Local\\Temp\\ipykernel_31752\\134246782.py:3: SyntaxWarning: invalid escape sequence '\\d'\n",
      "  '''\n"
     ]
    },
    {
     "data": {
      "text/plain": [
       "'\\n(\\\\d{8}): Captures 8 digits (YYYYMMDD).\\n_(\\\\d{6}): Captures 6 digits (HHMMSS).\\n_SN(\\\\d+): Captures one or more digits.\\n_QUICKVIEW_VISUAL_([\\\\d_]+): Captures digits and underscores.\\n_([A-Za-z0-9\\\\-_.]+): Captures letters, numbers, hyphens (-), underscores (_), and dots (.).\\n\\\\.txt: Makes sure that the filename ends with .txt.\\n'"
      ]
     },
     "execution_count": 20,
     "metadata": {},
     "output_type": "execute_result"
    }
   ],
   "source": [
    "pattern = r'(\\d{8})_(\\d{6})_SN(\\d+)_QUICKVIEW_VISUAL_([\\d_]+)_([A-Za-z0-9\\-_.]+)\\.txt'\n",
    "\n",
    "'''\n",
    "(\\d{8}): Captures 8 digits (YYYYMMDD).\n",
    "_(\\d{6}): Captures 6 digits (HHMMSS).\n",
    "_SN(\\d+): Captures one or more digits.\n",
    "_QUICKVIEW_VISUAL_([\\d_]+): Captures digits and underscores.\n",
    "_([A-Za-z0-9\\-_.]+): Captures letters, numbers, hyphens (-), underscores (_), and dots (.).\n",
    "\\.txt: Makes sure that the filename ends with .txt.\n",
    "'''"
   ]
  },
  {
   "cell_type": "markdown",
   "id": "24c2d658",
   "metadata": {
    "slideshow": {
     "slide_type": "slide"
    },
    "tags": []
   },
   "source": [
    "## Basic Libraries II\n",
    "\n",
    "**Time** and **Datetime** are other two Python built-in libraries used in plenty of pipelines involving time measurements, timestamp creation and dates manipulation."
   ]
  },
  {
   "cell_type": "code",
   "execution_count": 21,
   "id": "1a90b193",
   "metadata": {
    "slideshow": {
     "slide_type": "subslide"
    }
   },
   "outputs": [],
   "source": [
    "import time"
   ]
  },
  {
   "cell_type": "code",
   "execution_count": 22,
   "id": "9d51166e",
   "metadata": {
    "slideshow": {
     "slide_type": "fragment"
    }
   },
   "outputs": [
    {
     "name": "stdout",
     "output_type": "stream",
     "text": [
      "1731450404.5018685\n"
     ]
    }
   ],
   "source": [
    "# Get current timestamp\n",
    "t = time.time() \n",
    "print(t)"
   ]
  },
  {
   "cell_type": "code",
   "execution_count": 23,
   "id": "dd05bf5d",
   "metadata": {
    "slideshow": {
     "slide_type": "fragment"
    }
   },
   "outputs": [],
   "source": [
    "time.sleep(1) # wait 1 second(s)"
   ]
  },
  {
   "cell_type": "code",
   "execution_count": 24,
   "id": "32d7f7e7",
   "metadata": {
    "slideshow": {
     "slide_type": "fragment"
    }
   },
   "outputs": [
    {
     "name": "stdout",
     "output_type": "stream",
     "text": [
      "2024-11-12 23:26:45\n"
     ]
    }
   ],
   "source": [
    "# Formatting time, localtime where the code is run\n",
    "formatted_time = time.strftime(\"%Y-%m-%d %H:%M:%S\", time.localtime()) \n",
    "print(formatted_time)"
   ]
  },
  {
   "cell_type": "code",
   "execution_count": 25,
   "id": "4ec76a98",
   "metadata": {
    "slideshow": {
     "slide_type": "subslide"
    }
   },
   "outputs": [
    {
     "name": "stdout",
     "output_type": "stream",
     "text": [
      "2024-11-12 23:26:45.779677\n",
      "2024-11-12 23:26:45\n",
      "2024-10-17 21:00:00\n",
      "2024-11-19 23:26:45.779677\n"
     ]
    }
   ],
   "source": [
    "from datetime import datetime, timedelta\n",
    "\n",
    "# method now() gives us the current date and time\n",
    "now = datetime.now()\n",
    "print(now)\n",
    "\n",
    "# Similar to the strftime function in time, we can it from datetime\n",
    "formatted_now = now.strftime(\"%Y-%m-%d %H:%M:%S\")\n",
    "print(formatted_now)\n",
    "\n",
    "# Parsing a string to a datetime object\n",
    "parsed_date = datetime.strptime(\"2024-10-17 21:00:00\", \"%Y-%m-%d %H:%M:%S\")\n",
    "print(parsed_date)\n",
    "\n",
    "# Adding a week using days with timedelta\n",
    "future_date = now + timedelta(days=7)\n",
    "print(future_date)"
   ]
  },
  {
   "cell_type": "code",
   "execution_count": 26,
   "id": "adc567b3",
   "metadata": {
    "slideshow": {
     "slide_type": "subslide"
    }
   },
   "outputs": [
    {
     "data": {
      "text/plain": [
       "(2024, 10, 17, 21)"
      ]
     },
     "execution_count": 26,
     "metadata": {},
     "output_type": "execute_result"
    }
   ],
   "source": [
    "parsed_date.year, parsed_date.month, parsed_date.day, parsed_date.hour"
   ]
  },
  {
   "cell_type": "markdown",
   "id": "0fc70e0c",
   "metadata": {
    "slideshow": {
     "slide_type": "slide"
    }
   },
   "source": [
    "## Basic Libraries II\n",
    "\n",
    "Let's now try to use them to order the annotations by date"
   ]
  },
  {
   "cell_type": "code",
   "execution_count": 27,
   "id": "bc5ffd12",
   "metadata": {
    "slideshow": {
     "slide_type": "subslide"
    }
   },
   "outputs": [
    {
     "name": "stdout",
     "output_type": "stream",
     "text": [
      "Datetime Object: 2024-01-01 17:43:01\n",
      "Datetime Object: 2024-01-01 17:43:01\n",
      "Datetime Object: 2024-01-01 19:28:56\n",
      "Datetime Object: 2024-01-01 19:28:56\n",
      "Datetime Object: 2024-01-01 19:28:56\n",
      "Datetime Object: 2024-01-01 21:36:01\n",
      "Datetime Object: 2024-01-01 21:36:01\n",
      "Datetime Object: 2024-01-01 21:36:01\n",
      "Datetime Object: 2024-01-02 18:55:27\n",
      "Datetime Object: 2024-01-02 18:56:05\n",
      "Datetime Object: 2024-01-02 18:59:54\n",
      "Datetime Object: 2024-01-04 22:03:39\n",
      "Datetime Object: 2024-01-10 19:20:02\n",
      "Datetime Object: 2024-01-12 19:25:10\n",
      "Datetime Object: 2024-01-15 21:38:34\n",
      "Datetime Object: 2024-01-15 21:38:34\n",
      "Datetime Object: 2024-01-26 17:37:52\n",
      "Datetime Object: 2024-01-27 19:06:20\n",
      "Datetime Object: 2024-01-27 19:06:20\n",
      "Datetime Object: 2024-01-27 19:06:20\n",
      "Datetime Object: 2024-01-27 19:06:20\n",
      "Datetime Object: 2024-01-28 21:32:58\n",
      "Datetime Object: 2024-01-28 21:32:58\n",
      "Datetime Object: 2024-01-30 17:39:03\n",
      "Datetime Object: 2024-01-30 17:39:03\n",
      "Datetime Object: 2024-01-30 17:39:03\n",
      "Datetime Object: 2024-01-30 21:50:36\n",
      "Datetime Object: 2024-02-01 07:51:40\n",
      "Datetime Object: 2024-02-01 07:51:40\n",
      "Datetime Object: 2024-02-01 07:51:40\n",
      "Datetime Object: 2024-02-01 07:51:40\n",
      "Datetime Object: 2024-02-01 07:51:40\n",
      "Datetime Object: 2024-02-01 07:51:40\n",
      "Datetime Object: 2024-02-01 07:51:40\n",
      "Datetime Object: 2024-02-01 07:51:40\n",
      "Datetime Object: 2024-02-01 07:51:43\n",
      "Datetime Object: 2024-02-01 07:51:43\n",
      "Datetime Object: 2024-02-02 18:47:25\n",
      "Datetime Object: 2024-02-02 19:11:14\n",
      "Datetime Object: 2024-02-03 17:39:53\n",
      "Datetime Object: 2024-02-03 17:39:53\n",
      "Datetime Object: 2024-02-08 18:46:50\n",
      "Datetime Object: 2024-02-09 21:27:44\n",
      "Datetime Object: 2024-02-11 21:10:57\n",
      "Datetime Object: 2024-02-12 21:35:06\n",
      "Datetime Object: 2024-02-13 21:25:24\n",
      "Datetime Object: 2024-02-13 21:25:24\n",
      "Datetime Object: 2024-02-13 21:25:24\n",
      "Datetime Object: 2024-02-14 18:43:40\n",
      "Datetime Object: 2024-02-16 21:36:30\n",
      "Datetime Object: 2024-02-18 18:01:21\n",
      "Datetime Object: 2024-02-19 21:43:12\n",
      "Datetime Object: 2024-02-20 19:04:55\n",
      "Datetime Object: 2024-02-21 19:06:08\n",
      "Datetime Object: 2024-02-22 07:41:51\n",
      "Datetime Object: 2024-02-22 07:41:51\n",
      "Datetime Object: 2024-02-22 07:41:51\n",
      "Datetime Object: 2024-02-22 07:41:51\n",
      "Datetime Object: 2024-02-22 07:41:51\n",
      "Datetime Object: 2024-02-22 07:41:55\n",
      "Datetime Object: 2024-02-22 07:41:55\n",
      "Datetime Object: 2024-02-22 07:41:55\n",
      "Datetime Object: 2024-02-22 07:41:55\n",
      "Datetime Object: 2024-02-22 07:41:55\n",
      "Datetime Object: 2024-02-22 07:41:55\n",
      "Datetime Object: 2024-02-22 07:42:56\n",
      "Datetime Object: 2024-02-22 21:22:50\n",
      "Datetime Object: 2024-02-23 02:54:20\n",
      "Datetime Object: 2024-02-24 21:48:55\n",
      "Datetime Object: 2024-02-24 21:48:55\n",
      "Datetime Object: 2024-02-27 21:42:18\n",
      "Datetime Object: 2024-02-28 21:39:51\n",
      "Datetime Object: 2024-03-04 21:28:24\n",
      "Datetime Object: 2024-03-08 19:12:12\n",
      "Datetime Object: 2024-03-08 21:12:48\n",
      "Datetime Object: 2024-03-14 22:00:20\n",
      "Datetime Object: 2024-03-14 22:00:20\n",
      "Datetime Object: 2024-03-16 19:14:51\n",
      "Datetime Object: 2024-03-17 21:51:15\n",
      "Datetime Object: 2024-03-17 21:51:15\n",
      "Datetime Object: 2024-03-17 21:51:15\n",
      "Datetime Object: 2024-03-17 22:12:29\n",
      "Datetime Object: 2024-03-21 19:08:19\n",
      "Datetime Object: 2024-03-21 22:08:46\n",
      "Datetime Object: 2024-03-22 18:48:01\n",
      "Datetime Object: 2024-03-22 18:48:01\n",
      "Datetime Object: 2024-03-22 21:25:16\n",
      "Datetime Object: 2024-03-24 18:02:32\n",
      "Datetime Object: 2024-03-25 17:39:36\n",
      "Datetime Object: 2024-04-01 03:24:15\n",
      "Datetime Object: 2024-04-01 17:59:18\n",
      "Datetime Object: 2024-04-01 17:59:18\n",
      "Datetime Object: 2024-04-01 17:59:25\n",
      "Datetime Object: 2024-04-01 22:18:19\n",
      "Datetime Object: 2024-04-02 18:47:57\n",
      "Datetime Object: 2024-04-02 18:47:57\n",
      "Datetime Object: 2024-04-02 18:47:57\n",
      "Datetime Object: 2024-04-02 18:47:57\n",
      "Datetime Object: 2024-04-02 21:54:21\n",
      "Datetime Object: 2024-04-02 21:54:27\n",
      "Datetime Object: 2024-04-23 19:01:01\n",
      "Datetime Object: 2024-04-23 19:01:01\n",
      "Datetime Object: 2024-04-23 19:01:01\n",
      "Datetime Object: 2024-04-23 19:01:01\n",
      "Datetime Object: 2024-04-23 19:01:01\n",
      "Datetime Object: 2024-04-23 19:01:01\n",
      "Datetime Object: 2024-04-23 19:01:01\n",
      "Datetime Object: 2024-04-26 21:52:24\n",
      "Datetime Object: 2024-04-27 22:13:08\n",
      "Datetime Object: 2024-04-28 19:10:26\n",
      "Datetime Object: 2024-04-28 21:54:26\n",
      "Datetime Object: 2024-04-28 21:54:26\n",
      "Datetime Object: 2024-04-28 21:54:26\n",
      "Datetime Object: 2024-04-28 21:55:57\n",
      "Datetime Object: 2024-05-03 21:47:59\n",
      "Datetime Object: 2024-05-06 19:20:08\n",
      "Datetime Object: 2024-05-06 21:35:07\n",
      "Datetime Object: 2024-05-07 19:13:26\n",
      "Datetime Object: 2024-05-08 19:45:02\n",
      "Datetime Object: 2024-05-08 19:45:02\n",
      "Datetime Object: 2024-05-09 19:32:06\n",
      "Datetime Object: 2024-05-09 21:23:36\n",
      "Datetime Object: 2024-05-10 19:19:08\n",
      "Datetime Object: 2024-05-10 19:19:14\n",
      "Datetime Object: 2024-05-13 21:20:22\n",
      "Datetime Object: 2024-05-14 05:27:16\n",
      "Datetime Object: 2024-05-16 19:03:28\n",
      "Datetime Object: 2024-05-16 21:16:30\n",
      "Datetime Object: 2024-05-19 18:45:34\n",
      "Datetime Object: 2024-05-19 19:18:38\n",
      "Datetime Object: 2024-05-19 21:49:17\n",
      "Datetime Object: 2024-05-19 21:49:17\n",
      "Datetime Object: 2024-05-19 21:49:17\n",
      "Datetime Object: 2024-05-20 19:45:39\n",
      "Datetime Object: 2024-05-20 19:45:39\n",
      "Datetime Object: 2024-05-21 05:26:21\n",
      "Datetime Object: 2024-05-21 10:12:52\n",
      "Datetime Object: 2024-05-21 10:12:52\n",
      "Datetime Object: 2024-05-24 21:35:04\n",
      "Datetime Object: 2024-05-24 21:35:04\n",
      "Datetime Object: 2024-05-28 19:14:48\n",
      "Datetime Object: 2024-05-28 19:16:04\n",
      "Datetime Object: 2024-06-02 21:52:03\n",
      "Datetime Object: 2024-06-02 21:52:03\n",
      "Datetime Object: 2024-06-03 21:52:26\n",
      "Datetime Object: 2024-06-03 21:53:48\n",
      "Datetime Object: 2024-06-04 21:49:55\n",
      "Datetime Object: 2024-06-05 21:27:17\n",
      "Datetime Object: 2024-06-06 18:02:51\n",
      "Datetime Object: 2024-06-07 20:02:50\n",
      "Datetime Object: 2024-06-08 21:46:14\n",
      "Datetime Object: 2024-06-09 19:17:44\n",
      "Datetime Object: 2024-06-09 19:19:59\n",
      "Datetime Object: 2024-06-09 21:42:59\n",
      "Datetime Object: 2024-06-10 19:10:18\n",
      "Datetime Object: 2024-06-11 02:59:43\n",
      "Datetime Object: 2024-06-11 02:59:43\n",
      "Datetime Object: 2024-06-11 21:53:23\n",
      "Datetime Object: 2024-06-12 05:38:29\n",
      "Datetime Object: 2024-06-12 05:38:29\n",
      "Datetime Object: 2024-06-12 18:54:00\n",
      "Datetime Object: 2024-06-12 18:54:00\n",
      "Datetime Object: 2024-06-12 18:54:00\n",
      "Datetime Object: 2024-06-12 18:54:19\n",
      "Datetime Object: 2024-06-13 05:33:40\n",
      "Datetime Object: 2024-06-13 05:33:40\n",
      "Datetime Object: 2024-06-13 19:22:17\n",
      "Datetime Object: 2024-06-13 21:42:03\n",
      "Datetime Object: 2024-06-14 22:14:36\n",
      "Datetime Object: 2024-06-15 17:36:31\n",
      "Datetime Object: 2024-06-16 08:13:45\n",
      "Datetime Object: 2024-06-16 08:13:45\n",
      "Datetime Object: 2024-06-16 08:13:45\n",
      "Datetime Object: 2024-06-16 08:13:45\n",
      "Datetime Object: 2024-06-16 10:21:44\n",
      "Datetime Object: 2024-06-16 10:21:44\n",
      "Datetime Object: 2024-06-16 10:21:44\n",
      "Datetime Object: 2024-06-16 21:30:47\n",
      "Datetime Object: 2024-06-16 21:30:47\n",
      "Datetime Object: 2024-06-16 21:30:47\n",
      "Datetime Object: 2024-06-16 21:30:47\n",
      "Datetime Object: 2024-06-16 21:30:53\n",
      "Datetime Object: 2024-06-17 05:28:59\n",
      "Datetime Object: 2024-06-17 18:44:43\n",
      "Datetime Object: 2024-06-17 21:13:50\n",
      "Datetime Object: 2024-06-18 19:31:46\n",
      "Datetime Object: 2024-06-18 21:55:39\n",
      "Datetime Object: 2024-06-18 21:55:39\n",
      "Datetime Object: 2024-06-19 05:24:01\n",
      "Datetime Object: 2024-06-19 18:57:57\n",
      "Datetime Object: 2024-06-19 21:55:56\n",
      "Datetime Object: 2024-06-23 19:37:04\n",
      "Datetime Object: 2024-06-23 21:51:02\n",
      "Datetime Object: 2024-06-23 21:51:20\n"
     ]
    }
   ],
   "source": [
    "import re\n",
    "import glob\n",
    "import os\n",
    "from datetime import datetime\n",
    "\n",
    "# Regex pattern, r in front of strings tell python to treat them as raw strings\n",
    "# we do this so slashes don't get interpret as scaping symbol\n",
    "pattern = r'(\\d{8})_(\\d{6})_SN(\\d+)_QUICKVIEW_VISUAL_([\\d_]+)_([A-Za-z0-9\\-_.]+)\\.txt' \n",
    "\n",
    "annotations = glob.glob('../Session 4/session_4/annotations/*.txt')\n",
    "\n",
    "# let's create a dictionary where per each annotations we gather the datetime object\n",
    "ann_datetime = []\n",
    "date_times = []\n",
    "\n",
    "for annotation in annotations:\n",
    "\n",
    "    # extract the file name\n",
    "    filename = os.path.basename(annotation)\n",
    "\n",
    "    # Search and extract values\n",
    "    match = re.match(pattern, filename)\n",
    "    if match:\n",
    "        date, time, _, _, _ = match.groups()\n",
    "\n",
    "        # Put them together, e.g. \"20240101192856\"\n",
    "        datetime_str = date + time \n",
    "\n",
    "        # Parse the string into a datetime object\n",
    "        datetime_obj = datetime.strptime(datetime_str, \"%Y%m%d%H%M%S\")\n",
    "\n",
    "        \"\"\"\n",
    "        My new code\n",
    "        \"\"\"\n",
    "        date_times.append(datetime_obj)\n",
    "\n",
    "        # Output the datetime object\n",
    "        print(f\"Datetime Object: {datetime_obj}\")\n",
    "        \n",
    "        ann_datetime.append((filename, datetime_obj))"
   ]
  },
  {
   "cell_type": "code",
   "execution_count": 28,
   "id": "878a7793",
   "metadata": {
    "slideshow": {
     "slide_type": "subslide"
    }
   },
   "outputs": [
    {
     "data": {
      "text/plain": [
       "array([  0,   1,   2,   3,   4,   5,   6,   7,   8,   9,  10,  11,  12,\n",
       "        13,  14,  15,  16,  17,  18,  19,  20,  22,  21,  23,  24,  25,\n",
       "        26,  33,  34,  31,  32,  29,  28,  27,  30,  35,  36,  37,  38,\n",
       "        39,  40,  41,  42,  43,  44,  46,  47,  45,  48,  49,  50,  51,\n",
       "        52,  53,  57,  56,  58,  54,  55,  59,  60,  61,  62,  63,  64,\n",
       "        65,  66,  67,  68,  69,  70,  71,  72,  73,  74,  75,  76,  77,\n",
       "        78,  79,  80,  81,  82,  83,  84,  85,  86,  87,  88,  89,  90,\n",
       "        91,  92,  93,  97,  96,  95,  94,  98,  99, 105, 104, 103, 106,\n",
       "       101, 100, 102, 107, 108, 109, 110, 111, 112, 113, 114, 115, 116,\n",
       "       117, 119, 118, 120, 121, 122, 123, 124, 125, 126, 127, 128, 129,\n",
       "       131, 132, 130, 133, 134, 135, 136, 137, 138, 139, 140, 141, 142,\n",
       "       143, 144, 145, 146, 147, 148, 149, 150, 151, 152, 153, 154, 156,\n",
       "       155, 157, 158, 159, 160, 161, 162, 163, 164, 165, 166, 167, 168,\n",
       "       169, 170, 171, 172, 173, 174, 175, 176, 179, 180, 177, 178, 181,\n",
       "       182, 183, 184, 185, 186, 187, 188, 189, 190, 191, 192, 193],\n",
       "      dtype=int64)"
      ]
     },
     "execution_count": 28,
     "metadata": {},
     "output_type": "execute_result"
    }
   ],
   "source": [
    "indices = np.argsort([date for name, date in ann_datetime])\n",
    "indices"
   ]
  },
  {
   "cell_type": "code",
   "execution_count": 29,
   "id": "22f9ba90",
   "metadata": {
    "slideshow": {
     "slide_type": "subslide"
    }
   },
   "outputs": [
    {
     "name": "stdout",
     "output_type": "stream",
     "text": [
      "20240101_174301_SN33_QUICKVIEW_VISUAL_1_1_10_SATL-2KM-11N_404_3770.txt\n",
      "20240101_174301_SN33_QUICKVIEW_VISUAL_1_1_10_SATL-2KM-11N_404_3772.txt\n",
      "20240101_192856_SN24_QUICKVIEW_VISUAL_1_1_10_SATL-2KM-10N_552_4162.txt\n",
      "20240101_192856_SN24_QUICKVIEW_VISUAL_1_1_10_SATL-2KM-10N_552_4164.txt\n",
      "20240101_192856_SN24_QUICKVIEW_VISUAL_1_1_10_SATL-2KM-10N_554_4162.txt\n",
      "20240101_213601_SN31_QUICKVIEW_VISUAL_1_1_10_SATL-2KM-11N_392_3740.txt\n",
      "20240101_213601_SN31_QUICKVIEW_VISUAL_1_1_10_SATL-2KM-11N_392_3742.txt\n",
      "20240101_213601_SN31_QUICKVIEW_VISUAL_1_1_10_SATL-2KM-11N_396_3752.txt\n",
      "20240102_185527_SN27_QUICKVIEW_VISUAL_1_1_10_SATL-2KM-11N_740_3850.txt\n",
      "20240102_185605_SN27_QUICKVIEW_VISUAL_1_1_10_SATL-2KM-11N_690_3572.txt\n",
      "20240102_185954_SN24_QUICKVIEW_VISUAL_1_1_10_SATL-2KM-11N_414_3786.txt\n",
      "20240104_220339_SN31_QUICKVIEW_VISUAL_1_1_10_SATL-2KM-10N_556_4178.txt\n",
      "20240110_192002_SN27_QUICKVIEW_VISUAL_1_1_10_SATL-2KM-11N_380_3728.txt\n",
      "20240112_192510_SN27_QUICKVIEW_VISUAL_1_1_10_SATL-2KM-11N_386_3750.txt\n",
      "20240115_213834_SN28_QUICKVIEW_VISUAL_1_1_10_SATL-2KM-11N_376_3722.txt\n",
      "20240115_213834_SN28_QUICKVIEW_VISUAL_1_1_10_SATL-2KM-11N_380_3724.txt\n",
      "20240126_173752_SN33_QUICKVIEW_VISUAL_1_1_10_SATL-2KM-11N_386_3722.txt\n",
      "20240127_190620_SN27_QUICKVIEW_VISUAL_1_1_10_SATL-2KM-11N_500_3600.txt\n",
      "20240127_190620_SN27_QUICKVIEW_VISUAL_1_1_10_SATL-2KM-11N_500_3602.txt\n",
      "20240127_190620_SN27_QUICKVIEW_VISUAL_1_1_10_SATL-2KM-11N_502_3600.txt\n",
      "20240127_190620_SN27_QUICKVIEW_VISUAL_1_1_10_SATL-2KM-11N_502_3602.txt\n",
      "20240128_213258_SN29_QUICKVIEW_VISUAL_1_1_10_SATL-2KM-11N_418_3864.txt\n",
      "20240128_213258_SN29_QUICKVIEW_VISUAL_1_1_10_SATL-2KM-11N_418_3862.txt\n",
      "20240130_173903_SN33_QUICKVIEW_VISUAL_1_1_10_SATL-2KM-11N_360_3748.txt\n",
      "20240130_173903_SN33_QUICKVIEW_VISUAL_1_1_10_SATL-2KM-11N_364_3754.txt\n",
      "20240130_173903_SN33_QUICKVIEW_VISUAL_1_1_10_SATL-2KM-11N_366_3756.txt\n",
      "20240130_215036_SN31_QUICKVIEW_VISUAL_1_1_10_SATL-2KM-11N_366_3756.txt\n",
      "20240201_075140_SN26_QUICKVIEW_VISUAL_1_1_10_SATL-2KM-39N_562_2792.txt\n",
      "20240201_075140_SN26_QUICKVIEW_VISUAL_1_1_10_SATL-2KM-39N_562_2794.txt\n",
      "20240201_075140_SN26_QUICKVIEW_VISUAL_1_1_10_SATL-2KM-39N_560_2794.txt\n",
      "20240201_075140_SN26_QUICKVIEW_VISUAL_1_1_10_SATL-2KM-39N_560_2796.txt\n",
      "20240201_075140_SN26_QUICKVIEW_VISUAL_1_1_10_SATL-2KM-39N_558_2794.txt\n",
      "20240201_075140_SN26_QUICKVIEW_VISUAL_1_1_10_SATL-2KM-39N_556_2794.txt\n",
      "20240201_075140_SN26_QUICKVIEW_VISUAL_1_1_10_SATL-2KM-39N_556_2792.txt\n",
      "20240201_075140_SN26_QUICKVIEW_VISUAL_1_1_10_SATL-2KM-39N_560_2792.txt\n",
      "20240201_075143_SN26_QUICKVIEW_VISUAL_1_1_10_SATL-2KM-39N_556_2792.txt\n",
      "20240201_075143_SN26_QUICKVIEW_VISUAL_1_1_10_SATL-2KM-39N_562_2788.txt\n",
      "20240202_184725_SN24_QUICKVIEW_VISUAL_1_1_10_SATL-2KM-11N_624_3630.txt\n",
      "20240202_191114_SN27_QUICKVIEW_VISUAL_1_1_10_SATL-2KM-11N_718_3608.txt\n",
      "20240203_173953_SN33_QUICKVIEW_VISUAL_1_1_10_SATL-2KM-11N_366_3756.txt\n",
      "20240203_173953_SN33_QUICKVIEW_VISUAL_1_1_10_SATL-2KM-11N_368_3756.txt\n",
      "20240208_184650_SN24_QUICKVIEW_VISUAL_1_1_10_SATL-2KM-11N_624_3632.txt\n",
      "20240209_212744_SN29_QUICKVIEW_VISUAL_1_1_10_SATL-2KM-11N_380_3722.txt\n",
      "20240211_211057_SN30_QUICKVIEW_VISUAL_1_1_10_SATL-2KM-11N_700_3690.txt\n",
      "20240212_213506_SN31_QUICKVIEW_VISUAL_1_1_10_SATL-2KM-11N_408_3712.txt\n",
      "20240213_212524_SN29_QUICKVIEW_VISUAL_1_1_10_SATL-2KM-11N_542_3750.txt\n",
      "20240213_212524_SN29_QUICKVIEW_VISUAL_1_1_10_SATL-2KM-11N_544_3742.txt\n",
      "20240213_212524_SN29_QUICKVIEW_VISUAL_1_1_10_SATL-2KM-11N_540_3748.txt\n",
      "20240214_184340_SN24_QUICKVIEW_VISUAL_1_1_10_SATL-2KM-11N_688_3630.txt\n",
      "20240216_213630_SN31_QUICKVIEW_VISUAL_1_1_10_SATL-2KM-11N_418_3724.txt\n",
      "20240218_180121_SN33_QUICKVIEW_VISUAL_1_1_10_SATL-2KM-10N_568_4176.txt\n",
      "20240219_214312_SN28_QUICKVIEW_VISUAL_1_1_10_SATL-2KM-11N_252_3954.txt\n",
      "20240220_190455_SN27_QUICKVIEW_VISUAL_1_1_10_SATL-2KM-11N_718_3608.txt\n",
      "20240221_190608_SN26_QUICKVIEW_VISUAL_1_1_10_SATL-2KM-11N_380_3764.txt\n",
      "20240222_074151_SN26_QUICKVIEW_VISUAL_1_1_10_SATL-2KM-39N_560_2796.txt\n",
      "20240222_074151_SN26_QUICKVIEW_VISUAL_1_1_10_SATL-2KM-39N_560_2794.txt\n",
      "20240222_074151_SN26_QUICKVIEW_VISUAL_1_1_10_SATL-2KM-39N_562_2794.txt\n",
      "20240222_074151_SN26_QUICKVIEW_VISUAL_1_1_10_SATL-2KM-39N_556_2794.txt\n",
      "20240222_074151_SN26_QUICKVIEW_VISUAL_1_1_10_SATL-2KM-39N_558_2796.txt\n",
      "20240222_074155_SN26_QUICKVIEW_VISUAL_1_1_10_SATL-2KM-39N_556_2792.txt\n",
      "20240222_074155_SN26_QUICKVIEW_VISUAL_1_1_10_SATL-2KM-39N_556_2794.txt\n",
      "20240222_074155_SN26_QUICKVIEW_VISUAL_1_1_10_SATL-2KM-39N_558_2794.txt\n",
      "20240222_074155_SN26_QUICKVIEW_VISUAL_1_1_10_SATL-2KM-39N_560_2792.txt\n",
      "20240222_074155_SN26_QUICKVIEW_VISUAL_1_1_10_SATL-2KM-39N_562_2792.txt\n",
      "20240222_074155_SN26_QUICKVIEW_VISUAL_1_1_10_SATL-2KM-39N_562_2794.txt\n",
      "20240222_074256_SN26_QUICKVIEW_VISUAL_1_1_10_SATL-2KM-39N_564_2790.txt\n",
      "20240222_212250_SN30_QUICKVIEW_VISUAL_1_1_10_SATL-2KM-11N_382_3722.txt\n",
      "20240223_025420_SN24_QUICKVIEW_VISUAL_1_1_10_SATL-2KM-51N_686_4422.txt\n",
      "20240224_214855_SN30_QUICKVIEW_VISUAL_1_1_10_SATL-2KM-10N_552_4162.txt\n",
      "20240224_214855_SN30_QUICKVIEW_VISUAL_1_1_10_SATL-2KM-10N_554_4162.txt\n",
      "20240227_214218_SN30_QUICKVIEW_VISUAL_1_1_10_SATL-2KM-10N_562_4170.txt\n",
      "20240228_213951_SN29_QUICKVIEW_VISUAL_1_1_10_SATL-2KM-11N_248_4068.txt\n",
      "20240304_212824_SN30_QUICKVIEW_VISUAL_1_2_0_SATL-2KM-11N_378_3722.txt\n",
      "20240308_191212_SN27_QUICKVIEW_VISUAL_1_2_0_SATL-2KM-11N_506_3614.txt\n",
      "20240308_211248_SN29_QUICKVIEW_VISUAL_1_2_0_SATL-2KM-11N_718_3640.txt\n",
      "20240314_220020_SN30_QUICKVIEW_VISUAL_1_2_0_SATL-2KM-10N_544_4186.txt\n",
      "20240314_220020_SN30_QUICKVIEW_VISUAL_1_2_0_SATL-2KM-10N_550_4202.txt\n",
      "20240316_191451_SN26_QUICKVIEW_VISUAL_1_2_0_SATL-2KM-11N_380_3764.txt\n",
      "20240317_215115_SN28_QUICKVIEW_VISUAL_1_2_0_SATL-2KM-10N_552_4162.txt\n",
      "20240317_215115_SN28_QUICKVIEW_VISUAL_1_2_0_SATL-2KM-10N_552_4164.txt\n",
      "20240317_215115_SN28_QUICKVIEW_VISUAL_1_2_0_SATL-2KM-10N_554_4162.txt\n",
      "20240317_221229_SN31_QUICKVIEW_VISUAL_1_2_0_SATL-2KM-10N_556_4176.txt\n",
      "20240321_190819_SN27_QUICKVIEW_VISUAL_1_2_0_SATL-2KM-11N_714_3632.txt\n",
      "20240321_220846_SN31_QUICKVIEW_VISUAL_1_2_0_SATL-2KM-10N_560_4178.txt\n",
      "20240322_184801_SN24_QUICKVIEW_VISUAL_1_2_0_SATL-2KM-11N_500_3632.txt\n",
      "20240322_184801_SN24_QUICKVIEW_VISUAL_1_2_0_SATL-2KM-11N_502_3632.txt\n",
      "20240322_212516_SN28_QUICKVIEW_VISUAL_1_2_0_SATL-2KM-11N_502_3600.txt\n",
      "20240324_180232_SN33_QUICKVIEW_VISUAL_1_2_0_SATL-2KM-10N_554_4172.txt\n",
      "20240325_173936_SN33_QUICKVIEW_VISUAL_1_2_0_SATL-2KM-11N_378_3722.txt\n",
      "20240401_032415_SN27_QUICKVIEW_VISUAL_1_2_0_SATL-2KM-51N_688_4420.txt\n",
      "20240401_175918_SN33_QUICKVIEW_VISUAL_1_2_0_SATL-2KM-10N_542_4168.txt\n",
      "20240401_175918_SN33_QUICKVIEW_VISUAL_1_2_0_SATL-2KM-10N_546_4206.txt\n",
      "20240401_175925_SN33_QUICKVIEW_VISUAL_1_2_0_SATL-2KM-10N_542_4168.txt\n",
      "20240401_221819_SN31_QUICKVIEW_VISUAL_1_2_0_SATL-2KM-10N_602_4148.txt\n",
      "20240402_184757_SN24_QUICKVIEW_VISUAL_1_2_0_SATL-2KM-11N_490_3638.txt\n",
      "20240402_184757_SN24_QUICKVIEW_VISUAL_1_2_0_SATL-2KM-11N_488_3638.txt\n",
      "20240402_184757_SN24_QUICKVIEW_VISUAL_1_2_0_SATL-2KM-11N_486_3636.txt\n",
      "20240402_184757_SN24_QUICKVIEW_VISUAL_1_2_0_SATL-2KM-11N_486_3630.txt\n",
      "20240402_215421_SN31_QUICKVIEW_VISUAL_1_2_0_SATL-2KM-11N_500_3632.txt\n",
      "20240402_215427_SN31_QUICKVIEW_VISUAL_1_2_0_SATL-2KM-11N_502_3600.txt\n",
      "20240423_190101_SN26_QUICKVIEW_VISUAL_1_5_0_SATL-2KM-11N_418_3864.txt\n",
      "20240423_190101_SN26_QUICKVIEW_VISUAL_1_5_0_SATL-2KM-11N_418_3862.txt\n",
      "20240423_190101_SN26_QUICKVIEW_VISUAL_1_5_0_SATL-2KM-11N_418_3860.txt\n",
      "20240423_190101_SN26_QUICKVIEW_VISUAL_1_5_0_SATL-2KM-11N_418_3872.txt\n",
      "20240423_190101_SN26_QUICKVIEW_VISUAL_1_5_0_SATL-2KM-11N_416_3862.txt\n",
      "20240423_190101_SN26_QUICKVIEW_VISUAL_1_5_0_SATL-2KM-11N_414_3862.txt\n",
      "20240423_190101_SN26_QUICKVIEW_VISUAL_1_5_0_SATL-2KM-11N_416_3864.txt\n",
      "20240426_215224_SN29_QUICKVIEW_VISUAL_1_5_0_SATL-2KM-11N_244_3818.txt\n",
      "20240427_221308_SN31_QUICKVIEW_VISUAL_1_5_0_SATL-2KM-10N_722_3848.txt\n",
      "20240428_191026_SN24_QUICKVIEW_VISUAL_1_5_0_SATL-2KM-11N_380_3722.txt\n",
      "20240428_215426_SN43_QUICKVIEW_VISUAL_1_5_0_SATL-2KM-10N_630_4262.txt\n",
      "20240428_215426_SN43_QUICKVIEW_VISUAL_1_5_0_SATL-2KM-10N_630_4264.txt\n",
      "20240428_215426_SN43_QUICKVIEW_VISUAL_1_5_0_SATL-2KM-10N_634_4282.txt\n",
      "20240428_215557_SN43_QUICKVIEW_VISUAL_1_5_0_SATL-2KM-10N_726_3862.txt\n",
      "20240503_214759_SN28_QUICKVIEW_VISUAL_1_5_0_SATL-2KM-11N_376_3724.txt\n",
      "20240506_192008_SN26_QUICKVIEW_VISUAL_1_5_0_SATL-2KM-10N_562_4178.txt\n",
      "20240506_213507_SN43_QUICKVIEW_VISUAL_1_5_0_SATL-2KM-11N_384_3750.txt\n",
      "20240507_191326_SN27_QUICKVIEW_VISUAL_1_5_0_SATL-2KM-11N_718_3608.txt\n",
      "20240508_194502_SN27_QUICKVIEW_VISUAL_1_5_0_SATL-2KM-11N_264_4022.txt\n",
      "20240508_194502_SN27_QUICKVIEW_VISUAL_1_5_0_SATL-2KM-11N_262_4022.txt\n",
      "20240509_193206_SN26_QUICKVIEW_VISUAL_1_5_0_SATL-2KM-10N_562_4196.txt\n",
      "20240509_212336_SN29_QUICKVIEW_VISUAL_1_5_0_SATL-2KM-11N_706_3778.txt\n",
      "20240510_191908_SN27_QUICKVIEW_VISUAL_1_5_0_SATL-2KM-11N_718_3608.txt\n",
      "20240510_191914_SN27_QUICKVIEW_VISUAL_1_5_0_SATL-2KM-11N_712_3566.txt\n",
      "20240513_212022_SN29_QUICKVIEW_VISUAL_1_5_0_SATL-2KM-11N_630_3742.txt\n",
      "20240514_052716_SN43_QUICKVIEW_VISUAL_1_5_0_SATL-2KM-51N_730_4342.txt\n",
      "20240516_190328_SN24_QUICKVIEW_VISUAL_1_5_0_SATL-2KM-11N_262_4052.txt\n",
      "20240516_211630_SN28_QUICKVIEW_VISUAL_1_5_0_SATL-2KM-11N_716_3848.txt\n",
      "20240519_184534_SN24_QUICKVIEW_VISUAL_1_5_0_SATL-2KM-11N_658_3700.txt\n",
      "20240519_191838_SN27_QUICKVIEW_VISUAL_1_5_0_SATL-2KM-11N_718_3608.txt\n",
      "20240519_214917_SN31_QUICKVIEW_VISUAL_1_5_0_SATL-2KM-11N_500_3600.txt\n",
      "20240519_214917_SN31_QUICKVIEW_VISUAL_1_5_0_SATL-2KM-11N_500_3602.txt\n",
      "20240519_214917_SN31_QUICKVIEW_VISUAL_1_5_0_SATL-2KM-11N_500_3598.txt\n",
      "20240520_194539_SN27_QUICKVIEW_VISUAL_1_5_0_SATL-2KM-10N_638_4280.txt\n",
      "20240520_194539_SN27_QUICKVIEW_VISUAL_1_5_0_SATL-2KM-10N_638_4282.txt\n",
      "20240521_052621_SN43_QUICKVIEW_VISUAL_1_6_0_SATL-2KM-51N_730_4342.txt\n",
      "20240521_101252_SN43_QUICKVIEW_VISUAL_1_6_0_SATL-2KM-39N_556_2792.txt\n",
      "20240521_101252_SN43_QUICKVIEW_VISUAL_1_6_0_SATL-2KM-39N_558_2796.txt\n",
      "20240524_213504_SN29_QUICKVIEW_VISUAL_1_6_0_SATL-2KM-11N_378_3724.txt\n",
      "20240524_213504_SN29_QUICKVIEW_VISUAL_1_6_0_SATL-2KM-11N_380_3724.txt\n",
      "20240528_191448_SN24_QUICKVIEW_VISUAL_1_6_0_SATL-2KM-11N_248_4068.txt\n",
      "20240528_191604_SN24_QUICKVIEW_VISUAL_1_6_0_SATL-2KM-11N_344_3836.txt\n",
      "20240602_215203_SN30_QUICKVIEW_VISUAL_1_6_0_SATL-2KM-10N_712_3948.txt\n",
      "20240602_215203_SN30_QUICKVIEW_VISUAL_1_6_0_SATL-2KM-10N_714_3948.txt\n",
      "20240603_215226_SN28_QUICKVIEW_VISUAL_1_6_0_SATL-2KM-11N_248_4068.txt\n",
      "20240603_215348_SN28_QUICKVIEW_VISUAL_1_6_0_SATL-2KM-11N_346_3786.txt\n",
      "20240604_214955_SN29_QUICKVIEW_VISUAL_1_7_0_SATL-2KM-10N_594_4136.txt\n",
      "20240605_212717_SN29_QUICKVIEW_VISUAL_1_7_0_SATL-2KM-11N_718_3608.txt\n",
      "20240606_180251_SN33_QUICKVIEW_VISUAL_1_7_0_SATL-2KM-10N_556_4180.txt\n",
      "20240607_200250_SN27_QUICKVIEW_VISUAL_1_7_0_SATL-2KM-10N_554_4172.txt\n",
      "20240608_214614_SN29_QUICKVIEW_VISUAL_1_7_0_SATL-2KM-11N_248_4068.txt\n",
      "20240609_191744_SN24_QUICKVIEW_VISUAL_1_7_0_SATL-2KM-10N_564_4194.txt\n",
      "20240609_191959_SN27_QUICKVIEW_VISUAL_1_7_0_SATL-2KM-11N_702_3540.txt\n",
      "20240609_214259_SN30_QUICKVIEW_VISUAL_1_7_0_SATL-2KM-11N_262_4052.txt\n",
      "20240610_191018_SN26_QUICKVIEW_VISUAL_1_7_0_SATL-2KM-11N_384_3750.txt\n",
      "20240611_025943_SN26_QUICKVIEW_VISUAL_1_7_0_SATL-2KM-51N_748_4366.txt\n",
      "20240611_025943_SN26_QUICKVIEW_VISUAL_1_7_0_SATL-2KM-51N_748_4364.txt\n",
      "20240611_215323_SN30_QUICKVIEW_VISUAL_1_7_0_SATL-2KM-10N_702_3948.txt\n",
      "20240612_053829_SN28_QUICKVIEW_VISUAL_1_7_0_SATL-2KM-51N_686_4422.txt\n",
      "20240612_053829_SN28_QUICKVIEW_VISUAL_1_7_0_SATL-2KM-51N_688_4420.txt\n",
      "20240612_185400_SN24_QUICKVIEW_VISUAL_1_7_0_SATL-2KM-11N_574_3714.txt\n",
      "20240612_185400_SN24_QUICKVIEW_VISUAL_1_7_0_SATL-2KM-11N_576_3720.txt\n",
      "20240612_185400_SN24_QUICKVIEW_VISUAL_1_7_0_SATL-2KM-11N_578_3722.txt\n",
      "20240612_185419_SN24_QUICKVIEW_VISUAL_1_7_0_SATL-2KM-11N_554_3610.txt\n",
      "20240613_053340_SN29_QUICKVIEW_VISUAL_1_7_0_SATL-2KM-51N_728_4342.txt\n",
      "20240613_053340_SN29_QUICKVIEW_VISUAL_1_7_0_SATL-2KM-51N_730_4342.txt\n",
      "20240613_192217_SN26_QUICKVIEW_VISUAL_1_7_0_SATL-2KM-10N_560_4178.txt\n",
      "20240613_214203_SN43_QUICKVIEW_VISUAL_1_7_0_SATL-2KM-11N_384_3750.txt\n",
      "20240614_221436_SN31_QUICKVIEW_VISUAL_1_7_0_SATL-2KM-10N_558_4184.txt\n",
      "20240615_173631_SN33_QUICKVIEW_VISUAL_1_7_0_SATL-2KM-11N_546_3742.txt\n",
      "20240616_081345_SN27_QUICKVIEW_VISUAL_1_7_0_SATL-2KM-39N_560_2792.txt\n",
      "20240616_081345_SN27_QUICKVIEW_VISUAL_1_7_0_SATL-2KM-39N_560_2794.txt\n",
      "20240616_081345_SN27_QUICKVIEW_VISUAL_1_7_0_SATL-2KM-39N_562_2792.txt\n",
      "20240616_081345_SN27_QUICKVIEW_VISUAL_1_7_0_SATL-2KM-39N_562_2794.txt\n",
      "20240616_102144_SN28_QUICKVIEW_VISUAL_1_7_0_SATL-2KM-39N_556_2794.txt\n",
      "20240616_102144_SN28_QUICKVIEW_VISUAL_1_7_0_SATL-2KM-39N_558_2794.txt\n",
      "20240616_102144_SN28_QUICKVIEW_VISUAL_1_7_0_SATL-2KM-39N_560_2792.txt\n",
      "20240616_213047_SN30_QUICKVIEW_VISUAL_1_7_0_SATL-2KM-11N_466_3826.txt\n",
      "20240616_213047_SN30_QUICKVIEW_VISUAL_1_7_0_SATL-2KM-11N_466_3828.txt\n",
      "20240616_213047_SN30_QUICKVIEW_VISUAL_1_7_0_SATL-2KM-11N_464_3828.txt\n",
      "20240616_213047_SN30_QUICKVIEW_VISUAL_1_7_0_SATL-2KM-11N_464_3830.txt\n",
      "20240616_213053_SN30_QUICKVIEW_VISUAL_1_7_0_SATL-2KM-11N_460_3792.txt\n",
      "20240617_052859_SN29_QUICKVIEW_VISUAL_1_7_0_SATL-2KM-51N_730_4348.txt\n",
      "20240617_184443_SN24_QUICKVIEW_VISUAL_1_7_0_SATL-2KM-11N_702_3566.txt\n",
      "20240617_211350_SN29_QUICKVIEW_VISUAL_1_7_0_SATL-2KM-11N_724_3614.txt\n",
      "20240618_193146_SN27_QUICKVIEW_VISUAL_1_7_0_SATL-2KM-11N_530_3682.txt\n",
      "20240618_215539_SN31_QUICKVIEW_VISUAL_1_7_0_SATL-2KM-11N_452_3740.txt\n",
      "20240618_215539_SN31_QUICKVIEW_VISUAL_1_7_0_SATL-2KM-11N_458_3756.txt\n",
      "20240619_052401_SN30_QUICKVIEW_VISUAL_1_7_0_SATL-2KM-52N_368_4336.txt\n",
      "20240619_185757_SN24_QUICKVIEW_VISUAL_1_7_0_SATL-2KM-11N_528_3700.txt\n",
      "20240619_215556_SN29_QUICKVIEW_VISUAL_1_7_0_SATL-2KM-10N_742_4460.txt\n",
      "20240623_193704_SN27_QUICKVIEW_VISUAL_1_7_0_SATL-2KM-11N_566_3734.txt\n",
      "20240623_215102_SN43_QUICKVIEW_VISUAL_1_7_0_SATL-2KM-11N_384_3750.txt\n",
      "20240623_215120_SN29_QUICKVIEW_VISUAL_1_7_0_SATL-2KM-10N_596_4134.txt\n"
     ]
    }
   ],
   "source": [
    "for i in indices:\n",
    "    print(ann_datetime[i][0])"
   ]
  },
  {
   "cell_type": "markdown",
   "id": "012aeb1b",
   "metadata": {
    "slideshow": {
     "slide_type": "slide"
    }
   },
   "source": [
    "### Exercise\n",
    "\n",
    "\n",
    "Reusing the same annotations we work with in the previous session, answer the following items using the libraries we saw today: \n",
    "\n",
    "1. How many annotations you have per month and year. Which month has more annotation files.\n",
    "2. Create a dictionary where each **key** is a month, and the corresponding **value** is a list containing all the annotation names with where their date corresponds to the month. \n",
    "    a. Save it following the json format, and load it again to check that everything is ok.\n",
    "    b. Save it this time using Pickle.\n",
    "    c. Instead of storing a list of all the annotation names happening that month, let's create for each annotation a dictionary with keys: name and date (using a datetime object).\n",
    "3. Print all the annotations from the oldest ones to the newest one during the seconf half of the 2024. "
   ]
  },
  {
   "cell_type": "code",
   "execution_count": 30,
   "id": "a3b7f733",
   "metadata": {},
   "outputs": [
    {
     "name": "stdout",
     "output_type": "stream",
     "text": [
      "The month with the most annotations is June, 2024.\n"
     ]
    },
    {
     "data": {
      "image/png": "[encoded data removed]",
      "text/plain": [
       "<Figure size 640x480 with 1 Axes>"
      ]
     },
     "metadata": {},
     "output_type": "display_data"
    }
   ],
   "source": [
    "# 1. How many annotations you have per month and year. Which month has more annotation files.\n",
    "\n",
    "# Get into the correct format the datetimes of the txt files.\n",
    "\n",
    "annotations = glob.glob('../Session 4/session_4/annotations/*.txt')\n",
    "\n",
    "date_times = []\n",
    "\n",
    "for annotation in glob.glob('../Session 4/session_4/annotations/*.txt'):\n",
    "\n",
    "    match = re.match(r'(\\d{8})_(\\d{6})_SN(\\d+)_QUICKVIEW_VISUAL_([\\d_]+)_([A-Za-z0-9\\-_.]+)\\.txt' , os.path.basename(annotation))\n",
    "    if match:\n",
    "        date, time, _, _, _ = match.groups()\n",
    "\n",
    "        date_times.append(datetime.strptime(date + time, \"%Y%m%d%H%M%S\"))\n",
    "\n",
    "# Create a dataframe with these datetimes.\n",
    "\n",
    "x = pd.DataFrame({\n",
    "    'year': [i.year for i in date_times],\n",
    "    'month': [i.month for i in date_times],\n",
    "    'day': [i.day for i in date_times],\n",
    "})\n",
    "\n",
    "# Group by month and year.\n",
    "\n",
    "x_counts = x.groupby(['year', 'month']).agg(count=('day', 'count')).reset_index()\n",
    "\n",
    "# Plot this to  visually answer the question.\n",
    "\n",
    "x_counts.plot(x='month', y='count', kind='bar');\n",
    "\n",
    "# Find, more specifically, the correct answer to the question.\n",
    "\n",
    "max_annotations = x_counts[x_counts['count'] == x_counts['count'].max()]\n",
    "month_name = datetime(1900, max_annotations['month'].item(), 1).strftime('%B')\n",
    "\n",
    "print(f'The month with the most annotations is {month_name}, {max_annotations['year'].item()}.')"
   ]
  },
  {
   "cell_type": "code",
   "execution_count": 34,
   "id": "d3db816e",
   "metadata": {},
   "outputs": [
    {
     "name": "stdout",
     "output_type": "stream",
     "text": [
      "Loaded annotations from JSON format: {'1': ['SATL-2KM-11N_404_3770', 'SATL-2KM-11N_404_3772', 'SATL-2KM-10N_552_4162', 'SATL-2KM-10N_552_4164', 'SATL-2KM-10N_554_4162', 'SATL-2KM-11N_392_3740', 'SATL-2KM-11N_392_3742', 'SATL-2KM-11N_396_3752', 'SATL-2KM-11N_740_3850', 'SATL-2KM-11N_690_3572', 'SATL-2KM-11N_414_3786', 'SATL-2KM-10N_556_4178', 'SATL-2KM-11N_380_3728', 'SATL-2KM-11N_386_3750', 'SATL-2KM-11N_376_3722', 'SATL-2KM-11N_380_3724', 'SATL-2KM-11N_386_3722', 'SATL-2KM-11N_500_3600', 'SATL-2KM-11N_500_3602', 'SATL-2KM-11N_502_3600', 'SATL-2KM-11N_502_3602', 'SATL-2KM-11N_418_3862', 'SATL-2KM-11N_418_3864', 'SATL-2KM-11N_360_3748', 'SATL-2KM-11N_364_3754', 'SATL-2KM-11N_366_3756', 'SATL-2KM-11N_366_3756'], '2': ['SATL-2KM-39N_556_2792', 'SATL-2KM-39N_556_2794', 'SATL-2KM-39N_558_2794', 'SATL-2KM-39N_560_2792', 'SATL-2KM-39N_560_2794', 'SATL-2KM-39N_560_2796', 'SATL-2KM-39N_562_2792', 'SATL-2KM-39N_562_2794', 'SATL-2KM-39N_556_2792', 'SATL-2KM-39N_562_2788', 'SATL-2KM-11N_624_3630', 'SATL-2KM-11N_718_3608', 'SATL-2KM-11N_366_3756', 'SATL-2KM-11N_368_3756', 'SATL-2KM-11N_624_3632', 'SATL-2KM-11N_380_3722', 'SATL-2KM-11N_700_3690', 'SATL-2KM-11N_408_3712', 'SATL-2KM-11N_540_3748', 'SATL-2KM-11N_542_3750', 'SATL-2KM-11N_544_3742', 'SATL-2KM-11N_688_3630', 'SATL-2KM-11N_418_3724', 'SATL-2KM-10N_568_4176', 'SATL-2KM-11N_252_3954', 'SATL-2KM-11N_718_3608', 'SATL-2KM-11N_380_3764', 'SATL-2KM-39N_556_2794', 'SATL-2KM-39N_558_2796', 'SATL-2KM-39N_560_2794', 'SATL-2KM-39N_560_2796', 'SATL-2KM-39N_562_2794', 'SATL-2KM-39N_556_2792', 'SATL-2KM-39N_556_2794', 'SATL-2KM-39N_558_2794', 'SATL-2KM-39N_560_2792', 'SATL-2KM-39N_562_2792', 'SATL-2KM-39N_562_2794', 'SATL-2KM-39N_564_2790', 'SATL-2KM-11N_382_3722', 'SATL-2KM-51N_686_4422', 'SATL-2KM-10N_552_4162', 'SATL-2KM-10N_554_4162', 'SATL-2KM-10N_562_4170', 'SATL-2KM-11N_248_4068'], '3': ['SATL-2KM-11N_378_3722', 'SATL-2KM-11N_506_3614', 'SATL-2KM-11N_718_3640', 'SATL-2KM-10N_544_4186', 'SATL-2KM-10N_550_4202', 'SATL-2KM-11N_380_3764', 'SATL-2KM-10N_552_4162', 'SATL-2KM-10N_552_4164', 'SATL-2KM-10N_554_4162', 'SATL-2KM-10N_556_4176', 'SATL-2KM-11N_714_3632', 'SATL-2KM-10N_560_4178', 'SATL-2KM-11N_500_3632', 'SATL-2KM-11N_502_3632', 'SATL-2KM-11N_502_3600', 'SATL-2KM-10N_554_4172', 'SATL-2KM-11N_378_3722'], '4': ['SATL-2KM-51N_688_4420', 'SATL-2KM-10N_542_4168', 'SATL-2KM-10N_546_4206', 'SATL-2KM-10N_542_4168', 'SATL-2KM-10N_602_4148', 'SATL-2KM-11N_486_3630', 'SATL-2KM-11N_486_3636', 'SATL-2KM-11N_488_3638', 'SATL-2KM-11N_490_3638', 'SATL-2KM-11N_500_3632', 'SATL-2KM-11N_502_3600', 'SATL-2KM-11N_414_3862', 'SATL-2KM-11N_416_3862', 'SATL-2KM-11N_416_3864', 'SATL-2KM-11N_418_3860', 'SATL-2KM-11N_418_3862', 'SATL-2KM-11N_418_3864', 'SATL-2KM-11N_418_3872', 'SATL-2KM-11N_244_3818', 'SATL-2KM-10N_722_3848', 'SATL-2KM-11N_380_3722', 'SATL-2KM-10N_630_4262', 'SATL-2KM-10N_630_4264', 'SATL-2KM-10N_634_4282', 'SATL-2KM-10N_726_3862'], '5': ['SATL-2KM-11N_376_3724', 'SATL-2KM-10N_562_4178', 'SATL-2KM-11N_384_3750', 'SATL-2KM-11N_718_3608', 'SATL-2KM-11N_262_4022', 'SATL-2KM-11N_264_4022', 'SATL-2KM-10N_562_4196', 'SATL-2KM-11N_706_3778', 'SATL-2KM-11N_718_3608', 'SATL-2KM-11N_712_3566', 'SATL-2KM-11N_630_3742', 'SATL-2KM-51N_730_4342', 'SATL-2KM-11N_262_4052', 'SATL-2KM-11N_716_3848', 'SATL-2KM-11N_658_3700', 'SATL-2KM-11N_718_3608', 'SATL-2KM-11N_500_3598', 'SATL-2KM-11N_500_3600', 'SATL-2KM-11N_500_3602', 'SATL-2KM-10N_638_4280', 'SATL-2KM-10N_638_4282', 'SATL-2KM-51N_730_4342', 'SATL-2KM-39N_556_2792', 'SATL-2KM-39N_558_2796', 'SATL-2KM-11N_378_3724', 'SATL-2KM-11N_380_3724', 'SATL-2KM-11N_248_4068', 'SATL-2KM-11N_344_3836'], '6': ['SATL-2KM-10N_712_3948', 'SATL-2KM-10N_714_3948', 'SATL-2KM-11N_248_4068', 'SATL-2KM-11N_346_3786', 'SATL-2KM-10N_594_4136', 'SATL-2KM-11N_718_3608', 'SATL-2KM-10N_556_4180', 'SATL-2KM-10N_554_4172', 'SATL-2KM-11N_248_4068', 'SATL-2KM-10N_564_4194', 'SATL-2KM-11N_702_3540', 'SATL-2KM-11N_262_4052', 'SATL-2KM-11N_384_3750', 'SATL-2KM-51N_748_4364', 'SATL-2KM-51N_748_4366', 'SATL-2KM-10N_702_3948', 'SATL-2KM-51N_686_4422', 'SATL-2KM-51N_688_4420', 'SATL-2KM-11N_574_3714', 'SATL-2KM-11N_576_3720', 'SATL-2KM-11N_578_3722', 'SATL-2KM-11N_554_3610', 'SATL-2KM-51N_728_4342', 'SATL-2KM-51N_730_4342', 'SATL-2KM-10N_560_4178', 'SATL-2KM-11N_384_3750', 'SATL-2KM-10N_558_4184', 'SATL-2KM-11N_546_3742', 'SATL-2KM-39N_560_2792', 'SATL-2KM-39N_560_2794', 'SATL-2KM-39N_562_2792', 'SATL-2KM-39N_562_2794', 'SATL-2KM-39N_556_2794', 'SATL-2KM-39N_558_2794', 'SATL-2KM-39N_560_2792', 'SATL-2KM-11N_464_3828', 'SATL-2KM-11N_464_3830', 'SATL-2KM-11N_466_3826', 'SATL-2KM-11N_466_3828', 'SATL-2KM-11N_460_3792', 'SATL-2KM-51N_730_4348', 'SATL-2KM-11N_702_3566', 'SATL-2KM-11N_724_3614', 'SATL-2KM-11N_530_3682', 'SATL-2KM-11N_452_3740', 'SATL-2KM-11N_458_3756', 'SATL-2KM-52N_368_4336', 'SATL-2KM-11N_528_3700', 'SATL-2KM-10N_742_4460', 'SATL-2KM-11N_566_3734', 'SATL-2KM-11N_384_3750', 'SATL-2KM-10N_596_4134']}\n",
      "Loaded annotations from Pickle: {1: ['SATL-2KM-11N_404_3770', 'SATL-2KM-11N_404_3772', 'SATL-2KM-10N_552_4162', 'SATL-2KM-10N_552_4164', 'SATL-2KM-10N_554_4162', 'SATL-2KM-11N_392_3740', 'SATL-2KM-11N_392_3742', 'SATL-2KM-11N_396_3752', 'SATL-2KM-11N_740_3850', 'SATL-2KM-11N_690_3572', 'SATL-2KM-11N_414_3786', 'SATL-2KM-10N_556_4178', 'SATL-2KM-11N_380_3728', 'SATL-2KM-11N_386_3750', 'SATL-2KM-11N_376_3722', 'SATL-2KM-11N_380_3724', 'SATL-2KM-11N_386_3722', 'SATL-2KM-11N_500_3600', 'SATL-2KM-11N_500_3602', 'SATL-2KM-11N_502_3600', 'SATL-2KM-11N_502_3602', 'SATL-2KM-11N_418_3862', 'SATL-2KM-11N_418_3864', 'SATL-2KM-11N_360_3748', 'SATL-2KM-11N_364_3754', 'SATL-2KM-11N_366_3756', 'SATL-2KM-11N_366_3756'], 2: ['SATL-2KM-39N_556_2792', 'SATL-2KM-39N_556_2794', 'SATL-2KM-39N_558_2794', 'SATL-2KM-39N_560_2792', 'SATL-2KM-39N_560_2794', 'SATL-2KM-39N_560_2796', 'SATL-2KM-39N_562_2792', 'SATL-2KM-39N_562_2794', 'SATL-2KM-39N_556_2792', 'SATL-2KM-39N_562_2788', 'SATL-2KM-11N_624_3630', 'SATL-2KM-11N_718_3608', 'SATL-2KM-11N_366_3756', 'SATL-2KM-11N_368_3756', 'SATL-2KM-11N_624_3632', 'SATL-2KM-11N_380_3722', 'SATL-2KM-11N_700_3690', 'SATL-2KM-11N_408_3712', 'SATL-2KM-11N_540_3748', 'SATL-2KM-11N_542_3750', 'SATL-2KM-11N_544_3742', 'SATL-2KM-11N_688_3630', 'SATL-2KM-11N_418_3724', 'SATL-2KM-10N_568_4176', 'SATL-2KM-11N_252_3954', 'SATL-2KM-11N_718_3608', 'SATL-2KM-11N_380_3764', 'SATL-2KM-39N_556_2794', 'SATL-2KM-39N_558_2796', 'SATL-2KM-39N_560_2794', 'SATL-2KM-39N_560_2796', 'SATL-2KM-39N_562_2794', 'SATL-2KM-39N_556_2792', 'SATL-2KM-39N_556_2794', 'SATL-2KM-39N_558_2794', 'SATL-2KM-39N_560_2792', 'SATL-2KM-39N_562_2792', 'SATL-2KM-39N_562_2794', 'SATL-2KM-39N_564_2790', 'SATL-2KM-11N_382_3722', 'SATL-2KM-51N_686_4422', 'SATL-2KM-10N_552_4162', 'SATL-2KM-10N_554_4162', 'SATL-2KM-10N_562_4170', 'SATL-2KM-11N_248_4068'], 3: ['SATL-2KM-11N_378_3722', 'SATL-2KM-11N_506_3614', 'SATL-2KM-11N_718_3640', 'SATL-2KM-10N_544_4186', 'SATL-2KM-10N_550_4202', 'SATL-2KM-11N_380_3764', 'SATL-2KM-10N_552_4162', 'SATL-2KM-10N_552_4164', 'SATL-2KM-10N_554_4162', 'SATL-2KM-10N_556_4176', 'SATL-2KM-11N_714_3632', 'SATL-2KM-10N_560_4178', 'SATL-2KM-11N_500_3632', 'SATL-2KM-11N_502_3632', 'SATL-2KM-11N_502_3600', 'SATL-2KM-10N_554_4172', 'SATL-2KM-11N_378_3722'], 4: ['SATL-2KM-51N_688_4420', 'SATL-2KM-10N_542_4168', 'SATL-2KM-10N_546_4206', 'SATL-2KM-10N_542_4168', 'SATL-2KM-10N_602_4148', 'SATL-2KM-11N_486_3630', 'SATL-2KM-11N_486_3636', 'SATL-2KM-11N_488_3638', 'SATL-2KM-11N_490_3638', 'SATL-2KM-11N_500_3632', 'SATL-2KM-11N_502_3600', 'SATL-2KM-11N_414_3862', 'SATL-2KM-11N_416_3862', 'SATL-2KM-11N_416_3864', 'SATL-2KM-11N_418_3860', 'SATL-2KM-11N_418_3862', 'SATL-2KM-11N_418_3864', 'SATL-2KM-11N_418_3872', 'SATL-2KM-11N_244_3818', 'SATL-2KM-10N_722_3848', 'SATL-2KM-11N_380_3722', 'SATL-2KM-10N_630_4262', 'SATL-2KM-10N_630_4264', 'SATL-2KM-10N_634_4282', 'SATL-2KM-10N_726_3862'], 5: ['SATL-2KM-11N_376_3724', 'SATL-2KM-10N_562_4178', 'SATL-2KM-11N_384_3750', 'SATL-2KM-11N_718_3608', 'SATL-2KM-11N_262_4022', 'SATL-2KM-11N_264_4022', 'SATL-2KM-10N_562_4196', 'SATL-2KM-11N_706_3778', 'SATL-2KM-11N_718_3608', 'SATL-2KM-11N_712_3566', 'SATL-2KM-11N_630_3742', 'SATL-2KM-51N_730_4342', 'SATL-2KM-11N_262_4052', 'SATL-2KM-11N_716_3848', 'SATL-2KM-11N_658_3700', 'SATL-2KM-11N_718_3608', 'SATL-2KM-11N_500_3598', 'SATL-2KM-11N_500_3600', 'SATL-2KM-11N_500_3602', 'SATL-2KM-10N_638_4280', 'SATL-2KM-10N_638_4282', 'SATL-2KM-51N_730_4342', 'SATL-2KM-39N_556_2792', 'SATL-2KM-39N_558_2796', 'SATL-2KM-11N_378_3724', 'SATL-2KM-11N_380_3724', 'SATL-2KM-11N_248_4068', 'SATL-2KM-11N_344_3836'], 6: ['SATL-2KM-10N_712_3948', 'SATL-2KM-10N_714_3948', 'SATL-2KM-11N_248_4068', 'SATL-2KM-11N_346_3786', 'SATL-2KM-10N_594_4136', 'SATL-2KM-11N_718_3608', 'SATL-2KM-10N_556_4180', 'SATL-2KM-10N_554_4172', 'SATL-2KM-11N_248_4068', 'SATL-2KM-10N_564_4194', 'SATL-2KM-11N_702_3540', 'SATL-2KM-11N_262_4052', 'SATL-2KM-11N_384_3750', 'SATL-2KM-51N_748_4364', 'SATL-2KM-51N_748_4366', 'SATL-2KM-10N_702_3948', 'SATL-2KM-51N_686_4422', 'SATL-2KM-51N_688_4420', 'SATL-2KM-11N_574_3714', 'SATL-2KM-11N_576_3720', 'SATL-2KM-11N_578_3722', 'SATL-2KM-11N_554_3610', 'SATL-2KM-51N_728_4342', 'SATL-2KM-51N_730_4342', 'SATL-2KM-10N_560_4178', 'SATL-2KM-11N_384_3750', 'SATL-2KM-10N_558_4184', 'SATL-2KM-11N_546_3742', 'SATL-2KM-39N_560_2792', 'SATL-2KM-39N_560_2794', 'SATL-2KM-39N_562_2792', 'SATL-2KM-39N_562_2794', 'SATL-2KM-39N_556_2794', 'SATL-2KM-39N_558_2794', 'SATL-2KM-39N_560_2792', 'SATL-2KM-11N_464_3828', 'SATL-2KM-11N_464_3830', 'SATL-2KM-11N_466_3826', 'SATL-2KM-11N_466_3828', 'SATL-2KM-11N_460_3792', 'SATL-2KM-51N_730_4348', 'SATL-2KM-11N_702_3566', 'SATL-2KM-11N_724_3614', 'SATL-2KM-11N_530_3682', 'SATL-2KM-11N_452_3740', 'SATL-2KM-11N_458_3756', 'SATL-2KM-52N_368_4336', 'SATL-2KM-11N_528_3700', 'SATL-2KM-10N_742_4460', 'SATL-2KM-11N_566_3734', 'SATL-2KM-11N_384_3750', 'SATL-2KM-10N_596_4134']}\n",
      "Annotations with name and date: {1: [{'name': 'SATL-2KM-11N_404_3770', 'date': datetime.datetime(2024, 1, 1, 17, 43, 1)}, {'name': 'SATL-2KM-11N_404_3772', 'date': datetime.datetime(2024, 1, 1, 17, 43, 1)}, {'name': 'SATL-2KM-10N_552_4162', 'date': datetime.datetime(2024, 1, 1, 19, 28, 56)}, {'name': 'SATL-2KM-10N_552_4164', 'date': datetime.datetime(2024, 1, 1, 19, 28, 56)}, {'name': 'SATL-2KM-10N_554_4162', 'date': datetime.datetime(2024, 1, 1, 19, 28, 56)}, {'name': 'SATL-2KM-11N_392_3740', 'date': datetime.datetime(2024, 1, 1, 21, 36, 1)}, {'name': 'SATL-2KM-11N_392_3742', 'date': datetime.datetime(2024, 1, 1, 21, 36, 1)}, {'name': 'SATL-2KM-11N_396_3752', 'date': datetime.datetime(2024, 1, 1, 21, 36, 1)}, {'name': 'SATL-2KM-11N_740_3850', 'date': datetime.datetime(2024, 1, 2, 18, 55, 27)}, {'name': 'SATL-2KM-11N_690_3572', 'date': datetime.datetime(2024, 1, 2, 18, 56, 5)}, {'name': 'SATL-2KM-11N_414_3786', 'date': datetime.datetime(2024, 1, 2, 18, 59, 54)}, {'name': 'SATL-2KM-10N_556_4178', 'date': datetime.datetime(2024, 1, 4, 22, 3, 39)}, {'name': 'SATL-2KM-11N_380_3728', 'date': datetime.datetime(2024, 1, 10, 19, 20, 2)}, {'name': 'SATL-2KM-11N_386_3750', 'date': datetime.datetime(2024, 1, 12, 19, 25, 10)}, {'name': 'SATL-2KM-11N_376_3722', 'date': datetime.datetime(2024, 1, 15, 21, 38, 34)}, {'name': 'SATL-2KM-11N_380_3724', 'date': datetime.datetime(2024, 1, 15, 21, 38, 34)}, {'name': 'SATL-2KM-11N_386_3722', 'date': datetime.datetime(2024, 1, 26, 17, 37, 52)}, {'name': 'SATL-2KM-11N_500_3600', 'date': datetime.datetime(2024, 1, 27, 19, 6, 20)}, {'name': 'SATL-2KM-11N_500_3602', 'date': datetime.datetime(2024, 1, 27, 19, 6, 20)}, {'name': 'SATL-2KM-11N_502_3600', 'date': datetime.datetime(2024, 1, 27, 19, 6, 20)}, {'name': 'SATL-2KM-11N_502_3602', 'date': datetime.datetime(2024, 1, 27, 19, 6, 20)}, {'name': 'SATL-2KM-11N_418_3862', 'date': datetime.datetime(2024, 1, 28, 21, 32, 58)}, {'name': 'SATL-2KM-11N_418_3864', 'date': datetime.datetime(2024, 1, 28, 21, 32, 58)}, {'name': 'SATL-2KM-11N_360_3748', 'date': datetime.datetime(2024, 1, 30, 17, 39, 3)}, {'name': 'SATL-2KM-11N_364_3754', 'date': datetime.datetime(2024, 1, 30, 17, 39, 3)}, {'name': 'SATL-2KM-11N_366_3756', 'date': datetime.datetime(2024, 1, 30, 17, 39, 3)}, {'name': 'SATL-2KM-11N_366_3756', 'date': datetime.datetime(2024, 1, 30, 21, 50, 36)}], 2: [{'name': 'SATL-2KM-39N_556_2792', 'date': datetime.datetime(2024, 2, 1, 7, 51, 40)}, {'name': 'SATL-2KM-39N_556_2794', 'date': datetime.datetime(2024, 2, 1, 7, 51, 40)}, {'name': 'SATL-2KM-39N_558_2794', 'date': datetime.datetime(2024, 2, 1, 7, 51, 40)}, {'name': 'SATL-2KM-39N_560_2792', 'date': datetime.datetime(2024, 2, 1, 7, 51, 40)}, {'name': 'SATL-2KM-39N_560_2794', 'date': datetime.datetime(2024, 2, 1, 7, 51, 40)}, {'name': 'SATL-2KM-39N_560_2796', 'date': datetime.datetime(2024, 2, 1, 7, 51, 40)}, {'name': 'SATL-2KM-39N_562_2792', 'date': datetime.datetime(2024, 2, 1, 7, 51, 40)}, {'name': 'SATL-2KM-39N_562_2794', 'date': datetime.datetime(2024, 2, 1, 7, 51, 40)}, {'name': 'SATL-2KM-39N_556_2792', 'date': datetime.datetime(2024, 2, 1, 7, 51, 43)}, {'name': 'SATL-2KM-39N_562_2788', 'date': datetime.datetime(2024, 2, 1, 7, 51, 43)}, {'name': 'SATL-2KM-11N_624_3630', 'date': datetime.datetime(2024, 2, 2, 18, 47, 25)}, {'name': 'SATL-2KM-11N_718_3608', 'date': datetime.datetime(2024, 2, 2, 19, 11, 14)}, {'name': 'SATL-2KM-11N_366_3756', 'date': datetime.datetime(2024, 2, 3, 17, 39, 53)}, {'name': 'SATL-2KM-11N_368_3756', 'date': datetime.datetime(2024, 2, 3, 17, 39, 53)}, {'name': 'SATL-2KM-11N_624_3632', 'date': datetime.datetime(2024, 2, 8, 18, 46, 50)}, {'name': 'SATL-2KM-11N_380_3722', 'date': datetime.datetime(2024, 2, 9, 21, 27, 44)}, {'name': 'SATL-2KM-11N_700_3690', 'date': datetime.datetime(2024, 2, 11, 21, 10, 57)}, {'name': 'SATL-2KM-11N_408_3712', 'date': datetime.datetime(2024, 2, 12, 21, 35, 6)}, {'name': 'SATL-2KM-11N_540_3748', 'date': datetime.datetime(2024, 2, 13, 21, 25, 24)}, {'name': 'SATL-2KM-11N_542_3750', 'date': datetime.datetime(2024, 2, 13, 21, 25, 24)}, {'name': 'SATL-2KM-11N_544_3742', 'date': datetime.datetime(2024, 2, 13, 21, 25, 24)}, {'name': 'SATL-2KM-11N_688_3630', 'date': datetime.datetime(2024, 2, 14, 18, 43, 40)}, {'name': 'SATL-2KM-11N_418_3724', 'date': datetime.datetime(2024, 2, 16, 21, 36, 30)}, {'name': 'SATL-2KM-10N_568_4176', 'date': datetime.datetime(2024, 2, 18, 18, 1, 21)}, {'name': 'SATL-2KM-11N_252_3954', 'date': datetime.datetime(2024, 2, 19, 21, 43, 12)}, {'name': 'SATL-2KM-11N_718_3608', 'date': datetime.datetime(2024, 2, 20, 19, 4, 55)}, {'name': 'SATL-2KM-11N_380_3764', 'date': datetime.datetime(2024, 2, 21, 19, 6, 8)}, {'name': 'SATL-2KM-39N_556_2794', 'date': datetime.datetime(2024, 2, 22, 7, 41, 51)}, {'name': 'SATL-2KM-39N_558_2796', 'date': datetime.datetime(2024, 2, 22, 7, 41, 51)}, {'name': 'SATL-2KM-39N_560_2794', 'date': datetime.datetime(2024, 2, 22, 7, 41, 51)}, {'name': 'SATL-2KM-39N_560_2796', 'date': datetime.datetime(2024, 2, 22, 7, 41, 51)}, {'name': 'SATL-2KM-39N_562_2794', 'date': datetime.datetime(2024, 2, 22, 7, 41, 51)}, {'name': 'SATL-2KM-39N_556_2792', 'date': datetime.datetime(2024, 2, 22, 7, 41, 55)}, {'name': 'SATL-2KM-39N_556_2794', 'date': datetime.datetime(2024, 2, 22, 7, 41, 55)}, {'name': 'SATL-2KM-39N_558_2794', 'date': datetime.datetime(2024, 2, 22, 7, 41, 55)}, {'name': 'SATL-2KM-39N_560_2792', 'date': datetime.datetime(2024, 2, 22, 7, 41, 55)}, {'name': 'SATL-2KM-39N_562_2792', 'date': datetime.datetime(2024, 2, 22, 7, 41, 55)}, {'name': 'SATL-2KM-39N_562_2794', 'date': datetime.datetime(2024, 2, 22, 7, 41, 55)}, {'name': 'SATL-2KM-39N_564_2790', 'date': datetime.datetime(2024, 2, 22, 7, 42, 56)}, {'name': 'SATL-2KM-11N_382_3722', 'date': datetime.datetime(2024, 2, 22, 21, 22, 50)}, {'name': 'SATL-2KM-51N_686_4422', 'date': datetime.datetime(2024, 2, 23, 2, 54, 20)}, {'name': 'SATL-2KM-10N_552_4162', 'date': datetime.datetime(2024, 2, 24, 21, 48, 55)}, {'name': 'SATL-2KM-10N_554_4162', 'date': datetime.datetime(2024, 2, 24, 21, 48, 55)}, {'name': 'SATL-2KM-10N_562_4170', 'date': datetime.datetime(2024, 2, 27, 21, 42, 18)}, {'name': 'SATL-2KM-11N_248_4068', 'date': datetime.datetime(2024, 2, 28, 21, 39, 51)}], 3: [{'name': 'SATL-2KM-11N_378_3722', 'date': datetime.datetime(2024, 3, 4, 21, 28, 24)}, {'name': 'SATL-2KM-11N_506_3614', 'date': datetime.datetime(2024, 3, 8, 19, 12, 12)}, {'name': 'SATL-2KM-11N_718_3640', 'date': datetime.datetime(2024, 3, 8, 21, 12, 48)}, {'name': 'SATL-2KM-10N_544_4186', 'date': datetime.datetime(2024, 3, 14, 22, 0, 20)}, {'name': 'SATL-2KM-10N_550_4202', 'date': datetime.datetime(2024, 3, 14, 22, 0, 20)}, {'name': 'SATL-2KM-11N_380_3764', 'date': datetime.datetime(2024, 3, 16, 19, 14, 51)}, {'name': 'SATL-2KM-10N_552_4162', 'date': datetime.datetime(2024, 3, 17, 21, 51, 15)}, {'name': 'SATL-2KM-10N_552_4164', 'date': datetime.datetime(2024, 3, 17, 21, 51, 15)}, {'name': 'SATL-2KM-10N_554_4162', 'date': datetime.datetime(2024, 3, 17, 21, 51, 15)}, {'name': 'SATL-2KM-10N_556_4176', 'date': datetime.datetime(2024, 3, 17, 22, 12, 29)}, {'name': 'SATL-2KM-11N_714_3632', 'date': datetime.datetime(2024, 3, 21, 19, 8, 19)}, {'name': 'SATL-2KM-10N_560_4178', 'date': datetime.datetime(2024, 3, 21, 22, 8, 46)}, {'name': 'SATL-2KM-11N_500_3632', 'date': datetime.datetime(2024, 3, 22, 18, 48, 1)}, {'name': 'SATL-2KM-11N_502_3632', 'date': datetime.datetime(2024, 3, 22, 18, 48, 1)}, {'name': 'SATL-2KM-11N_502_3600', 'date': datetime.datetime(2024, 3, 22, 21, 25, 16)}, {'name': 'SATL-2KM-10N_554_4172', 'date': datetime.datetime(2024, 3, 24, 18, 2, 32)}, {'name': 'SATL-2KM-11N_378_3722', 'date': datetime.datetime(2024, 3, 25, 17, 39, 36)}], 4: [{'name': 'SATL-2KM-51N_688_4420', 'date': datetime.datetime(2024, 4, 1, 3, 24, 15)}, {'name': 'SATL-2KM-10N_542_4168', 'date': datetime.datetime(2024, 4, 1, 17, 59, 18)}, {'name': 'SATL-2KM-10N_546_4206', 'date': datetime.datetime(2024, 4, 1, 17, 59, 18)}, {'name': 'SATL-2KM-10N_542_4168', 'date': datetime.datetime(2024, 4, 1, 17, 59, 25)}, {'name': 'SATL-2KM-10N_602_4148', 'date': datetime.datetime(2024, 4, 1, 22, 18, 19)}, {'name': 'SATL-2KM-11N_486_3630', 'date': datetime.datetime(2024, 4, 2, 18, 47, 57)}, {'name': 'SATL-2KM-11N_486_3636', 'date': datetime.datetime(2024, 4, 2, 18, 47, 57)}, {'name': 'SATL-2KM-11N_488_3638', 'date': datetime.datetime(2024, 4, 2, 18, 47, 57)}, {'name': 'SATL-2KM-11N_490_3638', 'date': datetime.datetime(2024, 4, 2, 18, 47, 57)}, {'name': 'SATL-2KM-11N_500_3632', 'date': datetime.datetime(2024, 4, 2, 21, 54, 21)}, {'name': 'SATL-2KM-11N_502_3600', 'date': datetime.datetime(2024, 4, 2, 21, 54, 27)}, {'name': 'SATL-2KM-11N_414_3862', 'date': datetime.datetime(2024, 4, 23, 19, 1, 1)}, {'name': 'SATL-2KM-11N_416_3862', 'date': datetime.datetime(2024, 4, 23, 19, 1, 1)}, {'name': 'SATL-2KM-11N_416_3864', 'date': datetime.datetime(2024, 4, 23, 19, 1, 1)}, {'name': 'SATL-2KM-11N_418_3860', 'date': datetime.datetime(2024, 4, 23, 19, 1, 1)}, {'name': 'SATL-2KM-11N_418_3862', 'date': datetime.datetime(2024, 4, 23, 19, 1, 1)}, {'name': 'SATL-2KM-11N_418_3864', 'date': datetime.datetime(2024, 4, 23, 19, 1, 1)}, {'name': 'SATL-2KM-11N_418_3872', 'date': datetime.datetime(2024, 4, 23, 19, 1, 1)}, {'name': 'SATL-2KM-11N_244_3818', 'date': datetime.datetime(2024, 4, 26, 21, 52, 24)}, {'name': 'SATL-2KM-10N_722_3848', 'date': datetime.datetime(2024, 4, 27, 22, 13, 8)}, {'name': 'SATL-2KM-11N_380_3722', 'date': datetime.datetime(2024, 4, 28, 19, 10, 26)}, {'name': 'SATL-2KM-10N_630_4262', 'date': datetime.datetime(2024, 4, 28, 21, 54, 26)}, {'name': 'SATL-2KM-10N_630_4264', 'date': datetime.datetime(2024, 4, 28, 21, 54, 26)}, {'name': 'SATL-2KM-10N_634_4282', 'date': datetime.datetime(2024, 4, 28, 21, 54, 26)}, {'name': 'SATL-2KM-10N_726_3862', 'date': datetime.datetime(2024, 4, 28, 21, 55, 57)}], 5: [{'name': 'SATL-2KM-11N_376_3724', 'date': datetime.datetime(2024, 5, 3, 21, 47, 59)}, {'name': 'SATL-2KM-10N_562_4178', 'date': datetime.datetime(2024, 5, 6, 19, 20, 8)}, {'name': 'SATL-2KM-11N_384_3750', 'date': datetime.datetime(2024, 5, 6, 21, 35, 7)}, {'name': 'SATL-2KM-11N_718_3608', 'date': datetime.datetime(2024, 5, 7, 19, 13, 26)}, {'name': 'SATL-2KM-11N_262_4022', 'date': datetime.datetime(2024, 5, 8, 19, 45, 2)}, {'name': 'SATL-2KM-11N_264_4022', 'date': datetime.datetime(2024, 5, 8, 19, 45, 2)}, {'name': 'SATL-2KM-10N_562_4196', 'date': datetime.datetime(2024, 5, 9, 19, 32, 6)}, {'name': 'SATL-2KM-11N_706_3778', 'date': datetime.datetime(2024, 5, 9, 21, 23, 36)}, {'name': 'SATL-2KM-11N_718_3608', 'date': datetime.datetime(2024, 5, 10, 19, 19, 8)}, {'name': 'SATL-2KM-11N_712_3566', 'date': datetime.datetime(2024, 5, 10, 19, 19, 14)}, {'name': 'SATL-2KM-11N_630_3742', 'date': datetime.datetime(2024, 5, 13, 21, 20, 22)}, {'name': 'SATL-2KM-51N_730_4342', 'date': datetime.datetime(2024, 5, 14, 5, 27, 16)}, {'name': 'SATL-2KM-11N_262_4052', 'date': datetime.datetime(2024, 5, 16, 19, 3, 28)}, {'name': 'SATL-2KM-11N_716_3848', 'date': datetime.datetime(2024, 5, 16, 21, 16, 30)}, {'name': 'SATL-2KM-11N_658_3700', 'date': datetime.datetime(2024, 5, 19, 18, 45, 34)}, {'name': 'SATL-2KM-11N_718_3608', 'date': datetime.datetime(2024, 5, 19, 19, 18, 38)}, {'name': 'SATL-2KM-11N_500_3598', 'date': datetime.datetime(2024, 5, 19, 21, 49, 17)}, {'name': 'SATL-2KM-11N_500_3600', 'date': datetime.datetime(2024, 5, 19, 21, 49, 17)}, {'name': 'SATL-2KM-11N_500_3602', 'date': datetime.datetime(2024, 5, 19, 21, 49, 17)}, {'name': 'SATL-2KM-10N_638_4280', 'date': datetime.datetime(2024, 5, 20, 19, 45, 39)}, {'name': 'SATL-2KM-10N_638_4282', 'date': datetime.datetime(2024, 5, 20, 19, 45, 39)}, {'name': 'SATL-2KM-51N_730_4342', 'date': datetime.datetime(2024, 5, 21, 5, 26, 21)}, {'name': 'SATL-2KM-39N_556_2792', 'date': datetime.datetime(2024, 5, 21, 10, 12, 52)}, {'name': 'SATL-2KM-39N_558_2796', 'date': datetime.datetime(2024, 5, 21, 10, 12, 52)}, {'name': 'SATL-2KM-11N_378_3724', 'date': datetime.datetime(2024, 5, 24, 21, 35, 4)}, {'name': 'SATL-2KM-11N_380_3724', 'date': datetime.datetime(2024, 5, 24, 21, 35, 4)}, {'name': 'SATL-2KM-11N_248_4068', 'date': datetime.datetime(2024, 5, 28, 19, 14, 48)}, {'name': 'SATL-2KM-11N_344_3836', 'date': datetime.datetime(2024, 5, 28, 19, 16, 4)}], 6: [{'name': 'SATL-2KM-10N_712_3948', 'date': datetime.datetime(2024, 6, 2, 21, 52, 3)}, {'name': 'SATL-2KM-10N_714_3948', 'date': datetime.datetime(2024, 6, 2, 21, 52, 3)}, {'name': 'SATL-2KM-11N_248_4068', 'date': datetime.datetime(2024, 6, 3, 21, 52, 26)}, {'name': 'SATL-2KM-11N_346_3786', 'date': datetime.datetime(2024, 6, 3, 21, 53, 48)}, {'name': 'SATL-2KM-10N_594_4136', 'date': datetime.datetime(2024, 6, 4, 21, 49, 55)}, {'name': 'SATL-2KM-11N_718_3608', 'date': datetime.datetime(2024, 6, 5, 21, 27, 17)}, {'name': 'SATL-2KM-10N_556_4180', 'date': datetime.datetime(2024, 6, 6, 18, 2, 51)}, {'name': 'SATL-2KM-10N_554_4172', 'date': datetime.datetime(2024, 6, 7, 20, 2, 50)}, {'name': 'SATL-2KM-11N_248_4068', 'date': datetime.datetime(2024, 6, 8, 21, 46, 14)}, {'name': 'SATL-2KM-10N_564_4194', 'date': datetime.datetime(2024, 6, 9, 19, 17, 44)}, {'name': 'SATL-2KM-11N_702_3540', 'date': datetime.datetime(2024, 6, 9, 19, 19, 59)}, {'name': 'SATL-2KM-11N_262_4052', 'date': datetime.datetime(2024, 6, 9, 21, 42, 59)}, {'name': 'SATL-2KM-11N_384_3750', 'date': datetime.datetime(2024, 6, 10, 19, 10, 18)}, {'name': 'SATL-2KM-51N_748_4364', 'date': datetime.datetime(2024, 6, 11, 2, 59, 43)}, {'name': 'SATL-2KM-51N_748_4366', 'date': datetime.datetime(2024, 6, 11, 2, 59, 43)}, {'name': 'SATL-2KM-10N_702_3948', 'date': datetime.datetime(2024, 6, 11, 21, 53, 23)}, {'name': 'SATL-2KM-51N_686_4422', 'date': datetime.datetime(2024, 6, 12, 5, 38, 29)}, {'name': 'SATL-2KM-51N_688_4420', 'date': datetime.datetime(2024, 6, 12, 5, 38, 29)}, {'name': 'SATL-2KM-11N_574_3714', 'date': datetime.datetime(2024, 6, 12, 18, 54)}, {'name': 'SATL-2KM-11N_576_3720', 'date': datetime.datetime(2024, 6, 12, 18, 54)}, {'name': 'SATL-2KM-11N_578_3722', 'date': datetime.datetime(2024, 6, 12, 18, 54)}, {'name': 'SATL-2KM-11N_554_3610', 'date': datetime.datetime(2024, 6, 12, 18, 54, 19)}, {'name': 'SATL-2KM-51N_728_4342', 'date': datetime.datetime(2024, 6, 13, 5, 33, 40)}, {'name': 'SATL-2KM-51N_730_4342', 'date': datetime.datetime(2024, 6, 13, 5, 33, 40)}, {'name': 'SATL-2KM-10N_560_4178', 'date': datetime.datetime(2024, 6, 13, 19, 22, 17)}, {'name': 'SATL-2KM-11N_384_3750', 'date': datetime.datetime(2024, 6, 13, 21, 42, 3)}, {'name': 'SATL-2KM-10N_558_4184', 'date': datetime.datetime(2024, 6, 14, 22, 14, 36)}, {'name': 'SATL-2KM-11N_546_3742', 'date': datetime.datetime(2024, 6, 15, 17, 36, 31)}, {'name': 'SATL-2KM-39N_560_2792', 'date': datetime.datetime(2024, 6, 16, 8, 13, 45)}, {'name': 'SATL-2KM-39N_560_2794', 'date': datetime.datetime(2024, 6, 16, 8, 13, 45)}, {'name': 'SATL-2KM-39N_562_2792', 'date': datetime.datetime(2024, 6, 16, 8, 13, 45)}, {'name': 'SATL-2KM-39N_562_2794', 'date': datetime.datetime(2024, 6, 16, 8, 13, 45)}, {'name': 'SATL-2KM-39N_556_2794', 'date': datetime.datetime(2024, 6, 16, 10, 21, 44)}, {'name': 'SATL-2KM-39N_558_2794', 'date': datetime.datetime(2024, 6, 16, 10, 21, 44)}, {'name': 'SATL-2KM-39N_560_2792', 'date': datetime.datetime(2024, 6, 16, 10, 21, 44)}, {'name': 'SATL-2KM-11N_464_3828', 'date': datetime.datetime(2024, 6, 16, 21, 30, 47)}, {'name': 'SATL-2KM-11N_464_3830', 'date': datetime.datetime(2024, 6, 16, 21, 30, 47)}, {'name': 'SATL-2KM-11N_466_3826', 'date': datetime.datetime(2024, 6, 16, 21, 30, 47)}, {'name': 'SATL-2KM-11N_466_3828', 'date': datetime.datetime(2024, 6, 16, 21, 30, 47)}, {'name': 'SATL-2KM-11N_460_3792', 'date': datetime.datetime(2024, 6, 16, 21, 30, 53)}, {'name': 'SATL-2KM-51N_730_4348', 'date': datetime.datetime(2024, 6, 17, 5, 28, 59)}, {'name': 'SATL-2KM-11N_702_3566', 'date': datetime.datetime(2024, 6, 17, 18, 44, 43)}, {'name': 'SATL-2KM-11N_724_3614', 'date': datetime.datetime(2024, 6, 17, 21, 13, 50)}, {'name': 'SATL-2KM-11N_530_3682', 'date': datetime.datetime(2024, 6, 18, 19, 31, 46)}, {'name': 'SATL-2KM-11N_452_3740', 'date': datetime.datetime(2024, 6, 18, 21, 55, 39)}, {'name': 'SATL-2KM-11N_458_3756', 'date': datetime.datetime(2024, 6, 18, 21, 55, 39)}, {'name': 'SATL-2KM-52N_368_4336', 'date': datetime.datetime(2024, 6, 19, 5, 24, 1)}, {'name': 'SATL-2KM-11N_528_3700', 'date': datetime.datetime(2024, 6, 19, 18, 57, 57)}, {'name': 'SATL-2KM-10N_742_4460', 'date': datetime.datetime(2024, 6, 19, 21, 55, 56)}, {'name': 'SATL-2KM-11N_566_3734', 'date': datetime.datetime(2024, 6, 23, 19, 37, 4)}, {'name': 'SATL-2KM-11N_384_3750', 'date': datetime.datetime(2024, 6, 23, 21, 51, 2)}, {'name': 'SATL-2KM-10N_596_4134', 'date': datetime.datetime(2024, 6, 23, 21, 51, 20)}]}\n"
     ]
    }
   ],
   "source": [
    "# 2. Create a dictionary where each **key** is a month, and the corresponding **value** is a list containing all the annotation names with where their date corresponds to the month. \n",
    "#     a. Save it following the json format, and load it again to check that everything is ok.\n",
    "#     b. Save it this time using Pickle.\n",
    "#     c. Instead of storing a list of all the annotation names happening that month, let's create for each annotation a dictionary with keys: name and date (using a datetime object).\n",
    "\n",
    "month_annotations = {}\n",
    "\n",
    "for annotation in glob.glob('../Session 4/session_4/annotations/*.txt'):\n",
    "    match = re.match(r'(\\d{8})_(\\d{6})_SN(\\d+)_QUICKVIEW_VISUAL_([\\d_]+)_([A-Za-z0-9\\-_.]+)\\.txt' , os.path.basename(annotation))\n",
    "    if match:\n",
    "        date, time, _, _, filename = match.groups()\n",
    "        date_time = datetime.strptime(date + time, \"%Y%m%d%H%M%S\")\n",
    "        month_key = date_time.month\n",
    "\n",
    "        if month_key not in month_annotations:\n",
    "            month_annotations[month_key] = []\n",
    "\n",
    "        month_annotations[month_key].append(filename)\n",
    "\n",
    "with open('month_annotations.json', 'w') as json_file:\n",
    "    json.dump(month_annotations, json_file)\n",
    "\n",
    "with open('month_annotations.json', 'r') as json_file:\n",
    "    loaded_annotations = json.load(json_file)\n",
    "\n",
    "print(\"Loaded annotations from JSON format:\", loaded_annotations)\n",
    "\n",
    "with open('month_annotations.pkl', 'wb') as pickle_file:\n",
    "    pickle.dump(month_annotations, pickle_file)\n",
    "\n",
    "with open('month_annotations.pkl', 'rb') as pickle_file:\n",
    "    loaded_annotations_pickle = pickle.load(pickle_file)\n",
    "\n",
    "print(\"Loaded annotations from Pickle:\", loaded_annotations_pickle)\n",
    "\n",
    "month_annotations_with_dates = {}\n",
    "\n",
    "for annotation in glob.glob('../Session 4/session_4/annotations/*.txt'):\n",
    "    match = re.match(r'(\\d{8})_(\\d{6})_SN(\\d+)_QUICKVIEW_VISUAL_([\\d_]+)_([A-Za-z0-9\\-_.]+)\\.txt' , os.path.basename(annotation))\n",
    "    if match:\n",
    "        date, time, _, _, filename = match.groups()\n",
    "        date_time = datetime.strptime(date + time, \"%Y%m%d%H%M%S\")\n",
    "\n",
    "        month_key = date_time.month\n",
    "        \n",
    "        annotation_data = {'name': filename, 'date': date_time}\n",
    "\n",
    "        if month_key not in month_annotations_with_dates:\n",
    "            month_annotations_with_dates[month_key] = []\n",
    "\n",
    "        month_annotations_with_dates[month_key].append(annotation_data)\n",
    "\n",
    "print(\"Annotations with name and date:\", month_annotations_with_dates)"
   ]
  },
  {
   "cell_type": "code",
   "execution_count": null,
   "id": "c8492340",
   "metadata": {},
   "outputs": [],
   "source": [
    "second_half_2024 = []\n",
    "\n",
    "for annotation in glob.glob('../Session 4/session_4/annotations/*.txt'):\n",
    "    match = re.match(r'(\\d{8})_(\\d{6})_SN(\\d+)_QUICKVIEW_VISUAL_([\\d_]+)_([A-Za-z0-9\\-_.]+)\\.txt' , os.path.basename(annotation))\n",
    "    if match:\n",
    "        date, time, _, _, filename = match.groups()\n",
    "        date_time = datetime.strptime(date + time, \"%Y%m%d%H%M%S\")\n",
    "\n",
    "        if date_time.year == 2024 and date_time.month >= 7:\n",
    "            second_half_2024.append((date_time, filename))\n",
    "\n",
    "second_half_2024_sorted = sorted(second_half_2024, key=lambda x: x[0])\n",
    "\n",
    "for date_time, filename in second_half_2024_sorted:\n",
    "    print(f\"{date_time}: {filename}\")"
   ]
  }
 ],
 "metadata": {
  "celltoolbar": "Slideshow",
  "kernelspec": {
   "display_name": "esade",
   "language": "python",
   "name": "python3"
  },
  "language_info": {
   "codemirror_mode": {
    "name": "ipython",
    "version": 3
   },
   "file_extension": ".py",
   "mimetype": "text/x-python",
   "name": "python",
   "nbconvert_exporter": "python",
   "pygments_lexer": "ipython3",
   "version": "3.12.6"
  }
 },
 "nbformat": 4,
 "nbformat_minor": 5
}
