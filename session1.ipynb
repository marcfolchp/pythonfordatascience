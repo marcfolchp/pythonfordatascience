{
 "cells": [
  {
   "cell_type": "code",
   "execution_count": 2,
   "metadata": {},
   "outputs": [
    {
     "name": "stdout",
     "output_type": "stream",
     "text": [
      "Hello, Python!\n"
     ]
    }
   ],
   "source": [
    "# 1. Write a Python program that prints a greeting message, such as \"Hello, Python!\".\n",
    "\n",
    "print('Hello, Python!')"
   ]
  },
  {
   "cell_type": "code",
   "execution_count": 6,
   "metadata": {},
   "outputs": [
    {
     "name": "stdout",
     "output_type": "stream",
     "text": [
      "13 7 30 0.3\n"
     ]
    }
   ],
   "source": [
    "# 2. Create a program that: Defines two variables, a and b, with numerical values.\n",
    "# Prints their sum, difference, product, and quotient.\n",
    "\n",
    "a = 3\n",
    "b = 10\n",
    "\n",
    "print(a+b, abs(a-b), a*b, a/b)"
   ]
  },
  {
   "cell_type": "code",
   "execution_count": 8,
   "metadata": {},
   "outputs": [
    {
     "name": "stdout",
     "output_type": "stream",
     "text": [
      "Hello, Marc!\n"
     ]
    }
   ],
   "source": [
    "# 3. Define a variable name and assign it your name. Write a program that prints a message saying\n",
    "# \"Hello, [name]!\" where [name] is the value of the variable.\n",
    "\n",
    "name = 'Marc'\n",
    "\n",
    "print(f'Hello, {name}!')"
   ]
  },
  {
   "cell_type": "code",
   "execution_count": 11,
   "metadata": {},
   "outputs": [
    {
     "name": "stdout",
     "output_type": "stream",
     "text": [
      "['ESADE', 'IESE', 'IQS', 'LA SALLE', 'ESIC']\n",
      "ESADE ESIC\n"
     ]
    }
   ],
   "source": [
    "# 4. Create a list called universities with at least five different university names.\n",
    "# Print the entire list. Print the first and last university in the list.\n",
    "\n",
    "universities = ['ESADE', 'IESE', 'IQS', 'LA SALLE', 'ESIC']\n",
    "\n",
    "print(universities)\n",
    "print(universities[0], universities[-1])"
   ]
  },
  {
   "cell_type": "code",
   "execution_count": 15,
   "metadata": {},
   "outputs": [
    {
     "name": "stdout",
     "output_type": "stream",
     "text": [
      "('name', 'Alex')\n",
      "('age', 22)\n",
      "('grade', 100)\n"
     ]
    }
   ],
   "source": [
    "# 5. Create a dictionary called student with keys: name, age, and grade, and assign appropriate values to each key.\n",
    "# Write a program that prints each key-value pair in the dictionary.\n",
    "\n",
    "student = {'name': 'Alex', 'age':22, 'grade': 100}\n",
    "\n",
    "for i in student.items():\n",
    "    print(i)"
   ]
  },
  {
   "cell_type": "code",
   "execution_count": 18,
   "metadata": {},
   "outputs": [
    {
     "name": "stdout",
     "output_type": "stream",
     "text": [
      "(3, 5)\n",
      "3\n",
      "5\n"
     ]
    }
   ],
   "source": [
    "# 6. Define a tuple called coordinates with two values representing a point in 2D space (e.g., (x, y)). \n",
    "# Print the value of coordinates and access each element by its index.\n",
    "\n",
    "coordinates = (3, 5)\n",
    "\n",
    "print(coordinates)\n",
    "print(coordinates[0])\n",
    "print(coordinates[1])"
   ]
  },
  {
   "cell_type": "code",
   "execution_count": 21,
   "metadata": {},
   "outputs": [
    {
     "name": "stdout",
     "output_type": "stream",
     "text": [
      "['red', 'green', 'blue', 'yellow', 'yellow']\n"
     ]
    },
    {
     "data": {
      "text/plain": [
       "['red', 'blue', 'yellow', 'yellow', 'red', 'blue']"
      ]
     },
     "execution_count": 21,
     "metadata": {},
     "output_type": "execute_result"
    }
   ],
   "source": [
    "# 7. Create a set called colors with the values: \"red\", \"green\", \"blue\".\n",
    "# Add another color to the set.\n",
    "# Try adding a duplicate color and observe what happens.\n",
    "# Print the set and remove one color from it.\n",
    "# Create another set named light_colors and merge colors and light_colors.\n",
    "\n",
    "colors = ['red', 'green', 'blue']\n",
    "\n",
    "colors.append('yellow')\n",
    "\n",
    "colors.append('yellow')\n",
    "\n",
    "print(colors)\n",
    "\n",
    "colors.pop(1)\n",
    "\n",
    "light_colors = ['red', 'blue']\n",
    "\n",
    "colors + light_colors"
   ]
  },
  {
   "cell_type": "code",
   "execution_count": 24,
   "metadata": {},
   "outputs": [
    {
     "name": "stdout",
     "output_type": "stream",
     "text": [
      "positive\n"
     ]
    }
   ],
   "source": [
    "# 8. Write a program that:\n",
    "# Takes an input number from the user.\n",
    "# Checks if the number is positive, negative, or zero.\n",
    "# Prints an appropriate message based on the result.\n",
    "\n",
    "x = int(input())\n",
    "\n",
    "if x > 0:\n",
    "    print('positive')\n",
    "elif x < 0:\n",
    "    print('negative')\n",
    "else:\n",
    "    print('0')"
   ]
  },
  {
   "cell_type": "code",
   "execution_count": 26,
   "metadata": {},
   "outputs": [
    {
     "name": "stdout",
     "output_type": "stream",
     "text": [
      "1\n",
      "2\n",
      "3\n",
      "4\n",
      "5\n"
     ]
    }
   ],
   "source": [
    "# 9. Create a list of numbers from 1 to 5.\n",
    "# Use a for loop to iterate through the list and print each number.\n",
    "\n",
    "x = [1, 2, 3, 4, 5]\n",
    "\n",
    "for i in x:\n",
    "    print(i)"
   ]
  },
  {
   "cell_type": "code",
   "execution_count": 28,
   "metadata": {},
   "outputs": [
    {
     "name": "stdout",
     "output_type": "stream",
     "text": [
      "1\n",
      "2\n",
      "3\n",
      "4\n",
      "5\n"
     ]
    }
   ],
   "source": [
    "# 10. Write a program that uses a while loop to print numbers from 1 to 5.\n",
    "# Ensure the loop terminates correctly.\n",
    "\n",
    "x = 0\n",
    "\n",
    "while x < 5:\n",
    "    print(x + 1)\n",
    "    x += 1"
   ]
  },
  {
   "cell_type": "code",
   "execution_count": 32,
   "metadata": {},
   "outputs": [
    {
     "name": "stdout",
     "output_type": "stream",
     "text": [
      "Needs improvement\n"
     ]
    }
   ],
   "source": [
    "# 11. Write a program that:\n",
    "# Asks the user to input a grade (e.g., \"A\", \"B\", \"C\", \"D\", or \"F\").\n",
    "# Use a match statement to print a corresponding message for each grade:\n",
    "# \"A\": \"Excellent!\"\n",
    "# \"B\": \"Good job!\"\n",
    "# \"C\": \"Fair.\"\n",
    "# \"D\": \"Needs improvement.\"\n",
    "# \"F\": \"Failing.\"\n",
    "# Handle invalid input by printing a default message\n",
    "\n",
    "grade = input('input grade:')\n",
    "\n",
    "if grade == 'A':\n",
    "    print('Excellent!')\n",
    "elif grade == 'B':\n",
    "    print('Good job!')\n",
    "elif grade == 'C':\n",
    "    print('Fair')\n",
    "elif grade == 'D':\n",
    "    print('Needs improvement')\n",
    "elif grade == 'B':\n",
    "    print('Failing.')\n",
    "else:\n",
    "    print('Wrong input')\n"
   ]
  },
  {
   "cell_type": "code",
   "execution_count": 34,
   "metadata": {},
   "outputs": [
    {
     "data": {
      "text/plain": [
       "'Hello, Marc!'"
      ]
     },
     "execution_count": 34,
     "metadata": {},
     "output_type": "execute_result"
    }
   ],
   "source": [
    "# 12. Write a function called greet that takes a name as an argument and prints \"Hello, [name]!\".\n",
    "# Call the function with your own name.\n",
    "\n",
    "def greet(x):\n",
    "    return f'Hello, {x}!'\n",
    "\n",
    "greet('Marc')"
   ]
  },
  {
   "cell_type": "code",
   "execution_count": 37,
   "metadata": {},
   "outputs": [
    {
     "data": {
      "text/plain": [
       "100"
      ]
     },
     "execution_count": 37,
     "metadata": {},
     "output_type": "execute_result"
    }
   ],
   "source": [
    "# 13. Define a function called square that takes a number as an argument and returns its square.\n",
    "# Print the result of calling this function with different numbers.\n",
    "\n",
    "def square(x):\n",
    "    return x**2\n",
    "\n",
    "square(10)"
   ]
  },
  {
   "cell_type": "code",
   "execution_count": 40,
   "metadata": {},
   "outputs": [
    {
     "data": {
      "text/plain": [
       "6"
      ]
     },
     "execution_count": 40,
     "metadata": {},
     "output_type": "execute_result"
    }
   ],
   "source": [
    "# 14. Write a function called multiply that takes two parameters, a and b, and returns their product\n",
    "# Set a default value of 1 for the parameter b.\n",
    "# Test the function with and without providing the second argument\n",
    "\n",
    "def multiply(a, b):\n",
    "    return a*b\n",
    "\n",
    "multiply(3, 2)"
   ]
  },
  {
   "cell_type": "code",
   "execution_count": 44,
   "metadata": {},
   "outputs": [
    {
     "data": {
      "text/plain": [
       "[1, 4, 9, 16, 25, 36, 49, 64, 81, 100]"
      ]
     },
     "execution_count": 44,
     "metadata": {},
     "output_type": "execute_result"
    }
   ],
   "source": [
    "# 15. Create a list of numbers from 1 to 10.\n",
    "# Use list comprehension to create a new list that contains the squares of these numbers.\n",
    "# Print the new list.\n",
    "\n",
    "numbers = [1, 2, 3, 4, 5, 6 , 7, 8, 9, 10]\n",
    "\n",
    "squares = []\n",
    "\n",
    "for i in numbers:\n",
    "    squares.append(i**2)\n",
    "\n",
    "squares"
   ]
  },
  {
   "cell_type": "code",
   "execution_count": 52,
   "metadata": {},
   "outputs": [
    {
     "name": "stdout",
     "output_type": "stream",
     "text": [
      "Alex: 100\n",
      "Marc: 91.67\n",
      "Sergi: 43.67\n"
     ]
    }
   ],
   "source": [
    "# 16. Create a dictionary where the keys are names of students and the values are lists of their grades.\n",
    "# Write a function that takes the dictionary and prints the average grade for each student.\n",
    "\n",
    "import statistics\n",
    "\n",
    "stud = {'Alex': [100, 100, 100], 'Marc': [90, 95, 90], 'Sergi':[80, 40, 11]}\n",
    "\n",
    "for i in stud.items():\n",
    "    print(f'{i[0]}: {round(statistics.mean(i[1]), 2)}')"
   ]
  },
  {
   "cell_type": "code",
   "execution_count": 55,
   "metadata": {},
   "outputs": [
    {
     "data": {
      "text/plain": [
       "5"
      ]
     },
     "execution_count": 55,
     "metadata": {},
     "output_type": "execute_result"
    }
   ],
   "source": [
    "# 17. Write a program that:\n",
    "# Defines a function calculate which takes three parameters: two numbers and an operator (+, -, *, /).\n",
    "# Performs the operation and returns the result.\n",
    "# Ask the user for the two numbers and the operator, then call the function and print the result.\n",
    "\n",
    "def calculate(x, y, z):\n",
    "    if z == '+':\n",
    "        return x + y\n",
    "    elif z == '-':\n",
    "        return x - y\n",
    "    elif z == '*':\n",
    "        return x * y\n",
    "    elif z == '/':\n",
    "        return x / y\n",
    "    else:\n",
    "        print('Something went wrong!')\n",
    "\n",
    "calculate(2, 3, '+')"
   ]
  }
 ],
 "metadata": {
  "kernelspec": {
   "display_name": "ironhack",
   "language": "python",
   "name": "python3"
  },
  "language_info": {
   "codemirror_mode": {
    "name": "ipython",
    "version": 3
   },
   "file_extension": ".py",
   "mimetype": "text/x-python",
   "name": "python",
   "nbconvert_exporter": "python",
   "pygments_lexer": "ipython3",
   "version": "3.12.6"
  }
 },
 "nbformat": 4,
 "nbformat_minor": 2
}
