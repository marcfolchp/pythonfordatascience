{
 "cells": [
  {
   "cell_type": "markdown",
   "id": "24b98369-c7ba-450b-a8b5-e34319000695",
   "metadata": {
    "slideshow": {
     "slide_type": "slide"
    },
    "tags": []
   },
   "source": [
    "# Python for Data Science\n",
    "## Session 4 \n",
    "### Basic Libraries I"
   ]
  },
  {
   "cell_type": "markdown",
   "id": "3ace1343-d73d-466d-aa07-56febbb7cbf1",
   "metadata": {
    "slideshow": {
     "slide_type": "skip"
    },
    "tags": []
   },
   "source": [
    "---"
   ]
  },
  {
   "cell_type": "markdown",
   "id": "c5ffee69-5d4d-4f1c-9ed7-083afbc931ec",
   "metadata": {
    "slideshow": {
     "slide_type": "slide"
    },
    "tags": []
   },
   "source": [
    "## Outline\n",
    "\n",
    "1. Numpy for numerical operations\n",
    "\n",
    "2. Scipy for scientific computing\n",
    "\n",
    "3. Math, os, glob, shutil "
   ]
  },
  {
   "cell_type": "markdown",
   "id": "aba315f4-e9bf-4a66-b3d3-593037c3ca70",
   "metadata": {
    "slideshow": {
     "slide_type": "skip"
    },
    "tags": []
   },
   "source": [
    "---"
   ]
  },
  {
   "cell_type": "markdown",
   "id": "8ed45dcb-2cf5-4bfa-ba6e-5da25c59757c",
   "metadata": {
    "slideshow": {
     "slide_type": "slide"
    },
    "tags": []
   },
   "source": [
    "## Basic Libraries I\n",
    " \n",
    "Numpy provides a multidimensional array **object** and various methods for fast operations on arrays (arrays and matrices). These operations include mathematical, logical, shape manipulation, sorting, selecting, I/O, discrete Fourier transforms, basic linear algebra, basic statistical operations, random simulation and much more.\n",
    "\n",
    "In this session, we will learn some of the most common ones.\n",
    "\n"
   ]
  },
  {
   "cell_type": "code",
   "execution_count": null,
   "id": "0a4f5fd5",
   "metadata": {
    "slideshow": {
     "slide_type": "subslide"
    },
    "tags": []
   },
   "outputs": [],
   "source": [
    "# To import a library we just need to use\n",
    "import numpy as np\n",
    "\n",
    "# TIP: Take a look at the references from the libraries you are using. Sometimes there are already-built methods that can save you lines and lines of code... Here the numpy as an example: https://numpy.org/doc/stable/reference/index.html"
   ]
  },
  {
   "cell_type": "code",
   "execution_count": null,
   "id": "db57c401",
   "metadata": {
    "slideshow": {
     "slide_type": "fragment"
    }
   },
   "outputs": [],
   "source": [
    "# To create a simple array, we can use a list to instantiate an object\n",
    "ar = np.array([-1, 2, 0, 6, 4])\n",
    "ar "
   ]
  },
  {
   "cell_type": "code",
   "execution_count": null,
   "id": "f8c546aa",
   "metadata": {
    "slideshow": {
     "slide_type": "fragment"
    }
   },
   "outputs": [],
   "source": [
    "# Similar to list, we can access any of elements in the array\n",
    "print(f\"This is the last number of the array: {ar[-1]}\") "
   ]
  },
  {
   "cell_type": "code",
   "execution_count": null,
   "id": "a0d5db58",
   "metadata": {
    "slideshow": {
     "slide_type": "fragment"
    }
   },
   "outputs": [],
   "source": [
    "# We can also slice them\n",
    "print(f\"These are the first three elements of the array: {ar[:3]}\")"
   ]
  },
  {
   "cell_type": "code",
   "execution_count": null,
   "id": "c89a8e48",
   "metadata": {
    "slideshow": {
     "slide_type": "fragment"
    }
   },
   "outputs": [],
   "source": [
    "# One thing, array can do, but list cannot is provide a subset of indices\n",
    "print(f\"This is a subarray formed by indices 2, 4 and 0: {ar[[2,4,0]]}\")"
   ]
  },
  {
   "cell_type": "code",
   "execution_count": null,
   "id": "e01eca8b",
   "metadata": {
    "slideshow": {
     "slide_type": "fragment"
    }
   },
   "outputs": [],
   "source": [
    "# If we try it with a list...\n",
    "l = [-1, 2, 0, 6, 4]\n",
    "print(f\"This is a sublist formed by indices 2, 4 and 0: {l[[2,4,0]]}\")"
   ]
  },
  {
   "cell_type": "markdown",
   "id": "00b01ced-eda7-423f-8522-96bd3f1a4125",
   "metadata": {
    "slideshow": {
     "slide_type": "skip"
    },
    "tags": []
   },
   "source": [
    "---"
   ]
  },
  {
   "cell_type": "markdown",
   "id": "9434c993-aac1-4655-bf69-477b9dc5d2ee",
   "metadata": {
    "slideshow": {
     "slide_type": "slide"
    },
    "tags": []
   },
   "source": [
    "## Basic Libraries I\n",
    "\n",
    "We can perform multiple mathematical operations over arrays. Some of them are similar to the built-in ones we have for lists.\n"
   ]
  },
  {
   "cell_type": "code",
   "execution_count": null,
   "id": "8e4a9f37",
   "metadata": {
    "slideshow": {
     "slide_type": "subslide"
    }
   },
   "outputs": [],
   "source": [
    "# let's create two vectors\n",
    "u = np.array([1,2,3,4])\n",
    "v = np.array([4,3,1,2])"
   ]
  },
  {
   "cell_type": "code",
   "execution_count": null,
   "id": "2bcdc200",
   "metadata": {
    "slideshow": {
     "slide_type": "fragment"
    }
   },
   "outputs": [],
   "source": [
    "# Sum or substract two vectors element by element\n",
    "u + v # equivalent to np.sum([u,v])"
   ]
  },
  {
   "cell_type": "code",
   "execution_count": null,
   "id": "2b983bad",
   "metadata": {
    "slideshow": {
     "slide_type": "fragment"
    }
   },
   "outputs": [],
   "source": [
    "u - v"
   ]
  },
  {
   "cell_type": "code",
   "execution_count": null,
   "id": "404b7cc9",
   "metadata": {
    "slideshow": {
     "slide_type": "fragment"
    }
   },
   "outputs": [],
   "source": [
    "# multiplying or dividing them\n",
    "u / v"
   ]
  },
  {
   "cell_type": "code",
   "execution_count": null,
   "id": "10d71d95",
   "metadata": {
    "slideshow": {
     "slide_type": "fragment"
    }
   },
   "outputs": [],
   "source": [
    "u * v"
   ]
  },
  {
   "cell_type": "code",
   "execution_count": null,
   "id": "3b895e82",
   "metadata": {
    "slideshow": {
     "slide_type": "fragment"
    }
   },
   "outputs": [],
   "source": [
    "# Power or sqrt\n",
    "np.pow(u, 2) # equivalent to u ** 2"
   ]
  },
  {
   "cell_type": "code",
   "execution_count": null,
   "id": "bc7eb136",
   "metadata": {
    "slideshow": {
     "slide_type": "fragment"
    }
   },
   "outputs": [],
   "source": [
    "np.sqrt(u)"
   ]
  },
  {
   "cell_type": "code",
   "execution_count": null,
   "id": "1bad2672",
   "metadata": {
    "slideshow": {
     "slide_type": "fragment"
    }
   },
   "outputs": [],
   "source": [
    "# dot product\n",
    "np.dot(u, v) # equivalent to np.sum(u*v)"
   ]
  },
  {
   "cell_type": "code",
   "execution_count": null,
   "id": "4cb733e2",
   "metadata": {
    "slideshow": {
     "slide_type": "fragment"
    }
   },
   "outputs": [],
   "source": [
    "# mean, median, std\n",
    "np.mean(u)"
   ]
  },
  {
   "cell_type": "code",
   "execution_count": null,
   "id": "ca0147f5",
   "metadata": {
    "slideshow": {
     "slide_type": "fragment"
    }
   },
   "outputs": [],
   "source": [
    "np.median(u)"
   ]
  },
  {
   "cell_type": "markdown",
   "id": "78aaa8dc",
   "metadata": {
    "slideshow": {
     "slide_type": "slide"
    }
   },
   "source": [
    "## Basic Libraries I\n",
    "\n",
    "Regarding changing ordering or sorting we have multiple options. "
   ]
  },
  {
   "cell_type": "code",
   "execution_count": null,
   "id": "cab8bb34",
   "metadata": {
    "slideshow": {
     "slide_type": "subslide"
    }
   },
   "outputs": [],
   "source": [
    "a = np.array([3, 0, 1, 4, 8])"
   ]
  },
  {
   "cell_type": "code",
   "execution_count": null,
   "id": "a71e27f9",
   "metadata": {
    "slideshow": {
     "slide_type": "fragment"
    }
   },
   "outputs": [],
   "source": [
    "# We simply need to run\n",
    "np.sort(a)"
   ]
  },
  {
   "cell_type": "code",
   "execution_count": null,
   "id": "a61321fd",
   "metadata": {
    "slideshow": {
     "slide_type": "fragment"
    }
   },
   "outputs": [],
   "source": [
    "# Same as the list, we can invert the original order by simply\n",
    "a[::-1]"
   ]
  },
  {
   "cell_type": "code",
   "execution_count": null,
   "id": "50c99518",
   "metadata": {
    "slideshow": {
     "slide_type": "fragment"
    }
   },
   "outputs": [],
   "source": [
    "# You can also select the type of algorithm to sort an array\n",
    "np.sort(a, kind='quicksort') # mergesort, heapsort"
   ]
  },
  {
   "cell_type": "code",
   "execution_count": null,
   "id": "48b1cb1c",
   "metadata": {
    "slideshow": {
     "slide_type": "fragment"
    }
   },
   "outputs": [],
   "source": [
    "# Another interesting thing we can have with sort is to order based on different fields\n",
    "values = [('Jaume', 2023, 9.4), ('James', 2021, 9.1), ('Marta', 2021, 8.3)]\n",
    "dtype = [('name', 'S10'), ('year', int), ('grade', float)]\n",
    "\n",
    "a = np.array(values, dtype=dtype)\n",
    "a"
   ]
  },
  {
   "cell_type": "code",
   "execution_count": null,
   "id": "024357af",
   "metadata": {
    "slideshow": {
     "slide_type": "fragment"
    }
   },
   "outputs": [],
   "source": [
    "# Sorting by grade\n",
    "np.sort(a, order='grade')"
   ]
  },
  {
   "cell_type": "code",
   "execution_count": null,
   "id": "d5d4130e",
   "metadata": {
    "slideshow": {
     "slide_type": "fragment"
    }
   },
   "outputs": [],
   "source": [
    "# Sorting first by year, and when they have the same year, doing it by grade\n",
    "np.sort(a, order=['year', 'grade'])"
   ]
  },
  {
   "cell_type": "code",
   "execution_count": null,
   "id": "d7a7f9cf",
   "metadata": {
    "slideshow": {
     "slide_type": "fragment"
    }
   },
   "outputs": [],
   "source": [
    "np.sort(a, order=['year'])"
   ]
  },
  {
   "cell_type": "code",
   "execution_count": null,
   "id": "5edafb6f",
   "metadata": {
    "slideshow": {
     "slide_type": "fragment"
    }
   },
   "outputs": [],
   "source": [
    "# the same way you sort, you can get the original indices sorted instead of the sorted array\n",
    "a = np.array([3, 1, 6, 5])\n",
    "np.argsort(a)"
   ]
  },
  {
   "cell_type": "code",
   "execution_count": null,
   "id": "6ae9fd50",
   "metadata": {
    "slideshow": {
     "slide_type": "fragment"
    }
   },
   "outputs": [],
   "source": [
    "# there is also a cool method called, unique, it gives you all the unique elements in a list/array\n",
    "a = np.array([1, 1, 1, 2, 5, 6, 5, 9])\n",
    "np.unique(a)"
   ]
  },
  {
   "cell_type": "markdown",
   "id": "306a3b2e",
   "metadata": {
    "slideshow": {
     "slide_type": "slide"
    }
   },
   "source": [
    "## Basic Libraries I\n",
    "\n",
    "Selecting random elements from a list can be also performed from numpy."
   ]
  },
  {
   "cell_type": "code",
   "execution_count": null,
   "id": "0008482c",
   "metadata": {
    "slideshow": {
     "slide_type": "subslide"
    }
   },
   "outputs": [],
   "source": [
    "# Randomly create integer numbers ranging from 0 to 9\n",
    "a = np.random.randint(0, 10)\n",
    "a"
   ]
  },
  {
   "cell_type": "code",
   "execution_count": null,
   "id": "0cf8be99",
   "metadata": {
    "slideshow": {
     "slide_type": "fragment"
    }
   },
   "outputs": [],
   "source": [
    "# Randomly creating an array of 10 floats from a normal distribution, mean 0 and std 1\n",
    "a = np.random.randn(10)\n",
    "a"
   ]
  },
  {
   "cell_type": "code",
   "execution_count": null,
   "id": "d2047bf8",
   "metadata": {
    "slideshow": {
     "slide_type": "fragment"
    }
   },
   "outputs": [],
   "source": [
    "# Randomly selecting a value in a list/array (using uniform distribution)\n",
    "np.random.choice(['a', 1, 'b', 0.4])"
   ]
  },
  {
   "cell_type": "code",
   "execution_count": null,
   "id": "70c2be2a",
   "metadata": {
    "slideshow": {
     "slide_type": "fragment"
    }
   },
   "outputs": [],
   "source": [
    "# Randomly generating numbers using a uniform distribution over the interval [0, 1]\n",
    "np.random.rand(10)"
   ]
  },
  {
   "cell_type": "code",
   "execution_count": null,
   "id": "58c83575",
   "metadata": {
    "slideshow": {
     "slide_type": "fragment"
    }
   },
   "outputs": [],
   "source": [
    "# Create a random permutation from a list/array\n",
    "np.random.permutation([23, 3, 2, -1])"
   ]
  },
  {
   "cell_type": "code",
   "execution_count": null,
   "id": "917101b6",
   "metadata": {
    "slideshow": {
     "slide_type": "fragment"
    }
   },
   "outputs": [],
   "source": [
    "# Important, how to reproduce your results over and over\n",
    "np.random.seed(123) # we can also pass a str, float that gets transformed into a fixed-size integer\n",
    "np.random.choice([23, 3, 2, -1, 31, 6, -34, 0])"
   ]
  },
  {
   "cell_type": "markdown",
   "id": "0729e167",
   "metadata": {
    "slideshow": {
     "slide_type": "slide"
    }
   },
   "source": [
    "## Basic Libraries I\n",
    "\n",
    "Other useful operations consist in modifying the shape and stack or concatenate elements.You can also created new arrays with buit-in methods such as **ones**, **zeros**, **ones_like**, **zeros_like**, and even define their type, **astype**."
   ]
  },
  {
   "cell_type": "code",
   "execution_count": null,
   "id": "7ed2a26e",
   "metadata": {
    "slideshow": {
     "slide_type": "subslide"
    }
   },
   "outputs": [],
   "source": [
    "a = np.array([1,2,3,4])\n",
    "b = np.array([5,6,7,8])"
   ]
  },
  {
   "cell_type": "code",
   "execution_count": null,
   "id": "e6e98db8",
   "metadata": {
    "slideshow": {
     "slide_type": "fragment"
    }
   },
   "outputs": [],
   "source": [
    "np.concatenate([a,b])"
   ]
  },
  {
   "cell_type": "code",
   "execution_count": null,
   "id": "43a2aa55",
   "metadata": {
    "slideshow": {
     "slide_type": "fragment"
    }
   },
   "outputs": [],
   "source": [
    "c = np.stack([a,b])\n",
    "c"
   ]
  },
  {
   "cell_type": "code",
   "execution_count": null,
   "id": "a38930a4",
   "metadata": {
    "slideshow": {
     "slide_type": "fragment"
    }
   },
   "outputs": [],
   "source": [
    "np.reshape(c, (1, 8))"
   ]
  },
  {
   "cell_type": "code",
   "execution_count": null,
   "id": "634dfbda",
   "metadata": {
    "slideshow": {
     "slide_type": "fragment"
    }
   },
   "outputs": [],
   "source": [
    "c.flatten()"
   ]
  },
  {
   "cell_type": "code",
   "execution_count": null,
   "id": "ca8570f6",
   "metadata": {
    "slideshow": {
     "slide_type": "fragment"
    }
   },
   "outputs": [],
   "source": [
    "c.swapaxes(0,1) # swapping the axes"
   ]
  },
  {
   "cell_type": "code",
   "execution_count": null,
   "id": "f95a426a",
   "metadata": {
    "slideshow": {
     "slide_type": "fragment"
    }
   },
   "outputs": [],
   "source": [
    "c.transpose(1,0) # tranposing multiple axes at the same time"
   ]
  },
  {
   "cell_type": "code",
   "execution_count": null,
   "id": "89932ad8-bf35-40c1-a4e5-32eb87f70184",
   "metadata": {
    "slideshow": {
     "slide_type": "fragment"
    }
   },
   "outputs": [],
   "source": [
    "ones = np.ones(4) # you can also create given a size new arrays with\n",
    "ones"
   ]
  },
  {
   "cell_type": "code",
   "execution_count": null,
   "id": "2bf65e57",
   "metadata": {
    "slideshow": {
     "slide_type": "fragment"
    }
   },
   "outputs": [],
   "source": [
    "zeros = np.zeros_like(ones).astype('uint8') # you can do it with other types, e.g. float, uint16...\n",
    "zeros"
   ]
  },
  {
   "cell_type": "markdown",
   "id": "10dd5f6d",
   "metadata": {
    "slideshow": {
     "slide_type": "slide"
    }
   },
   "source": [
    "## Basic Libraries I\n",
    "\n",
    "Logic operations are often used when handling arrays or matrices. These are some practical examples."
   ]
  },
  {
   "cell_type": "code",
   "execution_count": null,
   "id": "5916dcc0",
   "metadata": {
    "slideshow": {
     "slide_type": "subslide"
    }
   },
   "outputs": [],
   "source": [
    "# We can work with integers to create logical arrays\n",
    "u = np.array([0, 1, 0, 1, 1]) # equivalent to u = [False, True, False, True , True]\n",
    "v = np.array([1, 0, 0, 1, 0]) # you can also transform them to booleans np.bool(u)"
   ]
  },
  {
   "cell_type": "code",
   "execution_count": null,
   "id": "f8d90874",
   "metadata": {
    "slideshow": {
     "slide_type": "fragment"
    }
   },
   "outputs": [],
   "source": [
    "np.logical_and(u, v)"
   ]
  },
  {
   "cell_type": "code",
   "execution_count": null,
   "id": "63e4cca3",
   "metadata": {
    "slideshow": {
     "slide_type": "fragment"
    }
   },
   "outputs": [],
   "source": [
    "np.logical_or(u, v)"
   ]
  },
  {
   "cell_type": "code",
   "execution_count": null,
   "id": "63b67698",
   "metadata": {
    "slideshow": {
     "slide_type": "fragment"
    }
   },
   "outputs": [],
   "source": [
    "np.logical_not(u)"
   ]
  },
  {
   "cell_type": "markdown",
   "id": "8f534c84",
   "metadata": {
    "slideshow": {
     "slide_type": "slide"
    }
   },
   "source": [
    "## Basic Libraries I\n",
    "\n",
    "Numpy also provides methods to save and load numpy objects efficiently."
   ]
  },
  {
   "cell_type": "code",
   "execution_count": null,
   "id": "c54ec08e",
   "metadata": {
    "slideshow": {
     "slide_type": "subslide"
    }
   },
   "outputs": [],
   "source": [
    "a = np.array([0, 10, 14, 17, 19])"
   ]
  },
  {
   "cell_type": "code",
   "execution_count": null,
   "id": "8f63af17",
   "metadata": {
    "slideshow": {
     "slide_type": "fragment"
    }
   },
   "outputs": [],
   "source": [
    "np.save(\"session_4_array.npy\", a)"
   ]
  },
  {
   "cell_type": "code",
   "execution_count": null,
   "id": "e1f03310",
   "metadata": {
    "slideshow": {
     "slide_type": "fragment"
    }
   },
   "outputs": [],
   "source": [
    "b = np.load(\"session_4_array.npy\")\n",
    "b"
   ]
  },
  {
   "cell_type": "markdown",
   "id": "fc11ba01",
   "metadata": {
    "slideshow": {
     "slide_type": "slide"
    }
   },
   "source": [
    "## Basic Libraries I\n",
    "\n",
    "Scipy provides algorithms for statistics, optimization, integration, interpolation, algebraic equations, differential equations, and many other classes of problems. In this session, we will look at a few cases where they are normaly used. "
   ]
  },
  {
   "cell_type": "code",
   "execution_count": null,
   "id": "ee11c39d",
   "metadata": {
    "slideshow": {
     "slide_type": "subslide"
    }
   },
   "outputs": [],
   "source": [
    "# 1. Solving typical system of equations\n",
    "\n",
    "import numpy as np\n",
    "from scipy import linalg\n",
    "\n",
    "# Coefficient matrix A and constants b\n",
    "# 10x + y = 10\n",
    "# 2x + 3y = 1\n",
    "\n",
    "A = np.array([[10, 1], [2, 3]])\n",
    "b = np.array([10, 1])\n",
    "\n",
    "\n",
    "# Solve for x\n",
    "x = linalg.solve(A, b)\n",
    "print(x)\n",
    "\n",
    "print(10*x[0] + 1*x[1])\n",
    "print(2*x[0] + 3*x[1])"
   ]
  },
  {
   "cell_type": "code",
   "execution_count": null,
   "id": "e3b4f867",
   "metadata": {
    "slideshow": {
     "slide_type": "subslide"
    }
   },
   "outputs": [],
   "source": [
    "# 2. Integrating a function over an interval \n",
    "from scipy import integrate\n",
    "\n",
    "# Define a simple function to integrate\n",
    "def f(x):\n",
    "    return x**2 # x^2\n",
    "\n",
    "# Integrate f(x) from 0 to 1\n",
    "result, error = integrate.quad(f, 0, 2)\n",
    "print(result)"
   ]
  },
  {
   "cell_type": "code",
   "execution_count": null,
   "id": "c3717ca2",
   "metadata": {
    "slideshow": {
     "slide_type": "subslide"
    }
   },
   "outputs": [],
   "source": [
    "# 3. Integrating a function over an interval \n",
    "from scipy import optimize\n",
    "\n",
    "# Define a quadratic function\n",
    "def f(x):\n",
    "    return x**2 + x + 1\n",
    "\n",
    "# Find the minimum\n",
    "result = optimize.minimize(f, x0=0)  # x0 is the initial guess\n",
    "print(result.x)"
   ]
  },
  {
   "cell_type": "code",
   "execution_count": null,
   "id": "6677def1",
   "metadata": {
    "slideshow": {
     "slide_type": "subslide"
    }
   },
   "outputs": [],
   "source": [
    "# 4. Interpolating between 2D points\n",
    "\n",
    "import numpy as np\n",
    "import matplotlib.pyplot as plt\n",
    "from scipy.interpolate import interp1d\n",
    "\n",
    "# 4.1. Define some scattered 2D points (x, y) and corresponding z values\n",
    "points = np.random.rand(10, 2) * 10  # 10 random points in 2D (x, y)\n",
    "x = points[:, 0]  # Take the x-coordinates\n",
    "z = np.sin(points[:, 0]) + np.cos(points[:, 1])  # z = sin(x) + cos(y) based on x and y\n",
    "\n",
    "# 4.2 Sort x and z for proper interpolation (since x needs to be sorted)\n",
    "sorted_indices = np.argsort(x)\n",
    "x_sorted = x[sorted_indices]\n",
    "z_sorted = z[sorted_indices]\n",
    "\n",
    "# 4.3 Perform 1D interpolation along the x-axis\n",
    "interp_func = interp1d(x_sorted, z_sorted, kind='cubic')  # Cubic interpolation\n",
    "\n",
    "# 4.4. Create new x points for interpolation\n",
    "x_new = np.linspace(min(x_sorted), max(x_sorted), 100)  # 100 new points along x-axis\n",
    "z_new = interp_func(x_new)\n",
    "\n",
    "# Step 5: Plot the original points and the 1D interpolation result\n",
    "plt.figure(figsize=(8, 6))\n",
    "\n",
    "# Plot original 2D points (x, z) as scatter plot\n",
    "plt.scatter(x, z, color='red', label='Original Points')\n",
    "\n",
    "# Plot the interpolated curve\n",
    "plt.plot(x_new, z_new, label='Interpolated Curve', color='blue')\n",
    "\n",
    "plt.title('1D Interpolation of 2D Points along X-Axis')\n",
    "plt.xlabel('X')\n",
    "plt.ylabel('Z (Interpolated)')\n",
    "plt.legend()\n",
    "plt.grid(True)\n",
    "plt.show()"
   ]
  },
  {
   "cell_type": "code",
   "execution_count": null,
   "id": "236ea3f4",
   "metadata": {
    "slideshow": {
     "slide_type": "subslide"
    }
   },
   "outputs": [],
   "source": [
    "# 5. Run a simple t-test over two distributions\n",
    "\n",
    "from scipy import stats\n",
    "\n",
    "# Two samples\n",
    "sample1 = np.random.normal(loc=5, scale=1, size=100) # samples 100 points using a N(5, 1)\n",
    "sample2 = np.random.normal(loc=5.5, scale=1, size=100) # samples 100 points using a N(5.5, 1)\n",
    "\n",
    "# Perform t-test\n",
    "_, p_value = stats.ttest_ind(sample1, sample2)\n",
    "print(p_value)\n",
    "\n",
    "# If the two populations come from the same distrubution the p-value should be high, typically above 0.05. \n",
    "# It the value is close to 1, the two samples are most probably coming from the same distribution."
   ]
  },
  {
   "cell_type": "markdown",
   "id": "ab12d188",
   "metadata": {
    "slideshow": {
     "slide_type": "slide"
    }
   },
   "source": [
    "## Basic Libraries I\n",
    "\n",
    "Another library used when developing algorithms is Math. This is a **built-in** library in Python. It is worth mentioning that most of the mathematical functions and constants are covered by Scipy and Numpy. However, it is worth knowing it, since is a built-in library."
   ]
  },
  {
   "cell_type": "code",
   "execution_count": null,
   "id": "59be7327",
   "metadata": {
    "slideshow": {
     "slide_type": "subslide"
    }
   },
   "outputs": [],
   "source": [
    "import math"
   ]
  },
  {
   "cell_type": "code",
   "execution_count": null,
   "id": "524e48cf",
   "metadata": {
    "slideshow": {
     "slide_type": "fragment"
    }
   },
   "outputs": [],
   "source": [
    "# Square root, power, absolute value\n",
    "math.sqrt(16)"
   ]
  },
  {
   "cell_type": "code",
   "execution_count": null,
   "id": "e5ea73d1",
   "metadata": {
    "slideshow": {
     "slide_type": "fragment"
    }
   },
   "outputs": [],
   "source": [
    "math.pow(2, 3)"
   ]
  },
  {
   "cell_type": "code",
   "execution_count": null,
   "id": "ced6d26f",
   "metadata": {
    "slideshow": {
     "slide_type": "fragment"
    }
   },
   "outputs": [],
   "source": [
    "math.fabs(-10.5)"
   ]
  },
  {
   "cell_type": "code",
   "execution_count": null,
   "id": "b9b80906",
   "metadata": {
    "slideshow": {
     "slide_type": "fragment"
    }
   },
   "outputs": [],
   "source": [
    "# Calculate sinus, cosinus, tangent\n",
    "angle = math.pi / 4  # in gradients\n",
    "math.sin(angle) / math.cos(angle) == math.tan(angle)"
   ]
  },
  {
   "cell_type": "code",
   "execution_count": null,
   "id": "f6a30575",
   "metadata": {
    "slideshow": {
     "slide_type": "fragment"
    }
   },
   "outputs": [],
   "source": [
    "# Exponential, logarithm (ln), # Logarithm base 10\n",
    "math.exp(1)"
   ]
  },
  {
   "cell_type": "code",
   "execution_count": null,
   "id": "ec6f979b",
   "metadata": {
    "slideshow": {
     "slide_type": "fragment"
    }
   },
   "outputs": [],
   "source": [
    "math.log(10)"
   ]
  },
  {
   "cell_type": "code",
   "execution_count": null,
   "id": "07d617e0",
   "metadata": {
    "slideshow": {
     "slide_type": "fragment"
    }
   },
   "outputs": [],
   "source": [
    "math.log10(100)"
   ]
  },
  {
   "cell_type": "code",
   "execution_count": null,
   "id": "5d2585b8",
   "metadata": {
    "slideshow": {
     "slide_type": "fragment"
    }
   },
   "outputs": [],
   "source": [
    "# Rounding down (floor) and up (ceil), and factorial\n",
    "print(f\"floor value for 2.8: {math.floor(2.8)} and ceil value for 2.1: {math.ceil(2.1)}\")"
   ]
  },
  {
   "cell_type": "code",
   "execution_count": null,
   "id": "873b1d28",
   "metadata": {
    "slideshow": {
     "slide_type": "fragment"
    }
   },
   "outputs": [],
   "source": [
    "print(f\"Factorial value of 4: {math.factorial(4)}\")"
   ]
  },
  {
   "cell_type": "markdown",
   "id": "227e2907",
   "metadata": {
    "slideshow": {
     "slide_type": "slide"
    }
   },
   "source": [
    "## Basic Libraries I\n",
    "\n",
    "When manipulating files and folder, you may want to use the following **built-in** libraries: os, glob and shutil. Let's staart with **os**."
   ]
  },
  {
   "cell_type": "code",
   "execution_count": null,
   "id": "b00491ab",
   "metadata": {
    "slideshow": {
     "slide_type": "subslide"
    }
   },
   "outputs": [],
   "source": [
    "import os"
   ]
  },
  {
   "cell_type": "code",
   "execution_count": null,
   "id": "9f8f13c9",
   "metadata": {
    "slideshow": {
     "slide_type": "fragment"
    }
   },
   "outputs": [],
   "source": [
    "# Let's check what files we have in a specific folder\n",
    "os.listdir('session_4/')"
   ]
  },
  {
   "cell_type": "code",
   "execution_count": null,
   "id": "386cfa6a",
   "metadata": {
    "slideshow": {
     "slide_type": "fragment"
    }
   },
   "outputs": [],
   "source": [
    "# Let's get the absolute path\n",
    "os.getcwd()"
   ]
  },
  {
   "cell_type": "code",
   "execution_count": null,
   "id": "01967714",
   "metadata": {
    "slideshow": {
     "slide_type": "fragment"
    }
   },
   "outputs": [],
   "source": [
    "# Create a new folder\n",
    "os.mkdir('new_folder')"
   ]
  },
  {
   "cell_type": "code",
   "execution_count": null,
   "id": "ef4c3030",
   "metadata": {
    "slideshow": {
     "slide_type": "fragment"
    }
   },
   "outputs": [],
   "source": [
    "[file for file in os.listdir('.') if 'new_folder' in file]"
   ]
  },
  {
   "cell_type": "code",
   "execution_count": null,
   "id": "deae7955",
   "metadata": {
    "slideshow": {
     "slide_type": "fragment"
    }
   },
   "outputs": [],
   "source": [
    "# Remove it now\n",
    "os.rmdir('new_folder')"
   ]
  },
  {
   "cell_type": "code",
   "execution_count": null,
   "id": "15771206",
   "metadata": {
    "slideshow": {
     "slide_type": "fragment"
    }
   },
   "outputs": [],
   "source": [
    "[file for file in os.listdir('.') if 'new_folder' in file]"
   ]
  },
  {
   "cell_type": "code",
   "execution_count": null,
   "id": "889b4ad8",
   "metadata": {
    "slideshow": {
     "slide_type": "fragment"
    }
   },
   "outputs": [],
   "source": [
    "# Check if a file exists\n",
    "print(os.path.exists('session_4.ipynb'))"
   ]
  },
  {
   "cell_type": "code",
   "execution_count": null,
   "id": "ae06580e",
   "metadata": {
    "slideshow": {
     "slide_type": "fragment"
    }
   },
   "outputs": [],
   "source": [
    "# You can also join paths or get the file out of the full path\n",
    "os.path.join('session_4/', 'annotations')"
   ]
  },
  {
   "cell_type": "code",
   "execution_count": null,
   "id": "c4990139",
   "metadata": {
    "slideshow": {
     "slide_type": "fragment"
    }
   },
   "outputs": [],
   "source": [
    "os.path.basename('session_4/annotations/20240101_174301_SN33_QUICKVIEW_VISUAL_1_1_10_SATL-2KM-11N_404_3770.txt')"
   ]
  },
  {
   "cell_type": "markdown",
   "id": "54bf94e2",
   "metadata": {
    "slideshow": {
     "slide_type": "slide"
    }
   },
   "source": [
    "## Basic Libraries I\n",
    "\n",
    "Let's keep working now with **glob**."
   ]
  },
  {
   "cell_type": "code",
   "execution_count": null,
   "id": "3a70ffff",
   "metadata": {
    "slideshow": {
     "slide_type": "subslide"
    }
   },
   "outputs": [],
   "source": [
    "import glob"
   ]
  },
  {
   "cell_type": "code",
   "execution_count": null,
   "id": "79bf5c73",
   "metadata": {
    "slideshow": {
     "slide_type": "fragment"
    }
   },
   "outputs": [],
   "source": [
    "# Similar to os, you can also list files, but you can provide wildcards \n",
    "glob.glob('session_4/annotations/*.txt')"
   ]
  },
  {
   "cell_type": "code",
   "execution_count": null,
   "id": "7c30dd71",
   "metadata": {
    "slideshow": {
     "slide_type": "fragment"
    }
   },
   "outputs": [],
   "source": [
    "# It does provide a great tool to list all the files within a folder, and also do it recursively\n",
    "glob.glob('session_4/**/*.txt', recursive=True)"
   ]
  },
  {
   "cell_type": "markdown",
   "id": "1a9d64c6",
   "metadata": {
    "slideshow": {
     "slide_type": "slide"
    }
   },
   "source": [
    "## Basic Libraries I\n",
    "\n",
    "Let's finally work with shutil. This library provides the usual bash commands you have in your terminal."
   ]
  },
  {
   "cell_type": "code",
   "execution_count": null,
   "id": "6047c936",
   "metadata": {
    "slideshow": {
     "slide_type": "subslide"
    }
   },
   "outputs": [],
   "source": [
    "import shutil as sh"
   ]
  },
  {
   "cell_type": "code",
   "execution_count": null,
   "id": "8a055162",
   "metadata": {
    "slideshow": {
     "slide_type": "fragment"
    }
   },
   "outputs": [],
   "source": [
    "# Copy a file into a new place\n",
    "sh.copy('slides_install_guide.txt', 'session_4/')"
   ]
  },
  {
   "cell_type": "code",
   "execution_count": null,
   "id": "d4fb4d5b",
   "metadata": {
    "slideshow": {
     "slide_type": "fragment"
    }
   },
   "outputs": [],
   "source": [
    "# instead of listing the current directory, os.listdir('.'), we can\n",
    "ls session_4/"
   ]
  },
  {
   "cell_type": "code",
   "execution_count": null,
   "id": "41826fed",
   "metadata": {
    "slideshow": {
     "slide_type": "fragment"
    }
   },
   "outputs": [],
   "source": [
    "# Move it now outside this folder\n",
    "sh.move('session_4/slides_install_guide.txt', 'slides_install_guide_copy.txt')"
   ]
  },
  {
   "cell_type": "code",
   "execution_count": null,
   "id": "642343aa",
   "metadata": {
    "slideshow": {
     "slide_type": "fragment"
    }
   },
   "outputs": [],
   "source": [
    "ls"
   ]
  },
  {
   "cell_type": "code",
   "execution_count": null,
   "id": "2f19cb2d",
   "metadata": {
    "slideshow": {
     "slide_type": "fragment"
    }
   },
   "outputs": [],
   "source": [
    "# let's create a folder to remove later\n",
    "os.mkdir('folder_to_be_removed')"
   ]
  },
  {
   "cell_type": "code",
   "execution_count": null,
   "id": "c8ab73eb",
   "metadata": {
    "slideshow": {
     "slide_type": "fragment"
    }
   },
   "outputs": [],
   "source": [
    "# Remove a folder and its content\n",
    "sh.rmtree('folder_to_be_removed/')"
   ]
  },
  {
   "cell_type": "markdown",
   "id": "06ef9072",
   "metadata": {
    "slideshow": {
     "slide_type": "slide"
    }
   },
   "source": [
    "## Basic Libraries I\n",
    "\n",
    "Let's jump into today's exercice."
   ]
  },
  {
   "cell_type": "markdown",
   "id": "7f74cd25",
   "metadata": {
    "slideshow": {
     "slide_type": "subslide"
    }
   },
   "source": [
    "### Exercise\n",
    "\n",
    "\n",
    "Given a zip file with a subfolder with multiple annotations, where the name convention for each one of them is: \n",
    "\n",
    "{DATE}_{TIME}_SN{SATELLITE_NUMBER}_QUICKVIEW_VISUAL_{VERSION}_{UNIQUE_REGION}.txt\n",
    "\n",
    "where:\n",
    "\n",
    "- DATE expressed as YYYYMMDD (year, month and day), e.g. 20241201, 20230321 ...\n",
    "- TIME expressed as HHMMSS (hour, minutes and seconds), e.g. 2134307\n",
    "- SATELLITE_NUMBER an integer that represents the satellite number.\n",
    "- VERSION provides the version of the pipeline, e.g. \"0_1_2\", \"1_3_1\" ...\n",
    "- UNIQUE_REGION provides a unique location in the form of a string, e.g SATL-2KM-10N_552_4164\n",
    "\n",
    "Find out the following thing about your data:\n",
    "\n",
    "1. How many files the annotations folder has.\n",
    "2. How many of them follow the name convention expressed above.\n",
    "3. How many of annotations you have per month and year. Which month has more annotation files.\n",
    "4. Create a new annotations folder with multiple folders corresponding to a month.\n",
    "5. Print all the annotations from the most recent to the oldest one. \n",
    "6. How many different satellites there are, how many annotations we have per satellite number, and which one was used in the most recent annotation file. \n",
    "7. How many unique regions there are.\n",
    "\n",
    "some tips:\n",
    "- str class has a method called split, you can use it to get each field per annotation.\n",
    "- you can use sort from numpy on strings."
   ]
  },
  {
   "cell_type": "code",
   "execution_count": 2,
   "id": "839ccde5",
   "metadata": {},
   "outputs": [],
   "source": [
    "import os\n",
    "import re\n",
    "import shutil\n",
    "from collections import Counter\n",
    "\n",
    "annotations_folder = 'session_4/annotations'"
   ]
  },
  {
   "cell_type": "code",
   "execution_count": 8,
   "id": "f78a32e3",
   "metadata": {},
   "outputs": [],
   "source": [
    "files = [f for f in os.listdir(annotations_folder) if os.path.isfile(os.path.join(annotations_folder, f))]"
   ]
  },
  {
   "cell_type": "code",
   "execution_count": 9,
   "id": "5f55e3e9",
   "metadata": {},
   "outputs": [
    {
     "data": {
      "text/plain": [
       "206"
      ]
     },
     "execution_count": 9,
     "metadata": {},
     "output_type": "execute_result"
    }
   ],
   "source": [
    "# 1. How many files are in the annotations folder?\n",
    "total_files = len(files)\n",
    "total_files"
   ]
  },
  {
   "cell_type": "code",
   "execution_count": null,
   "id": "b12a0aed",
   "metadata": {},
   "outputs": [
    {
     "name": "stdout",
     "output_type": "stream",
     "text": [
      "194 files follow the name convention.\n"
     ]
    }
   ],
   "source": [
    "# 2. How many follow the naming convention?\n",
    "\n",
    "invalid_file_count = 0\n",
    "valid_files = []\n",
    "\n",
    "for filename in os.listdir(\"session_4/annotations\"):\n",
    "    parts = filename.split(\"_\")\n",
    "    if len(parts) == 11:\n",
    "        valid_files.append(parts)\n",
    "    else:\n",
    "        invalid_file_count += 1\n",
    "\n",
    "for details in valid_files:\n",
    "    is_invalid = False\n",
    "\n",
    "    file_date = details[0]\n",
    "    file_time = details[1]\n",
    "    satellite = details[2]\n",
    "    quickview = details[3] + \"_\" + details[4]\n",
    "    version_info = details[5] + \"_\" + details[6] + \"_\" + details[7]\n",
    "    region_info = \" \".join(details[8:]).replace(\".txt\", \"\")\n",
    "\n",
    "    if len(file_date) != 8:\n",
    "        is_invalid = True\n",
    "    \n",
    "    elif len(file_time) != 6:\n",
    "        is_invalid = True\n",
    "\n",
    "    elif not (len(satellite) == 4 and \"SN\" in satellite):\n",
    "        is_invalid = True\n",
    "\n",
    "    elif quickview != \"QUICKVIEW_VISUAL\":\n",
    "        is_invalid = True\n",
    "\n",
    "    else:\n",
    "        version_parts = version_info.split(\"_\")\n",
    "        for part in version_parts:\n",
    "            if not part.isdigit():\n",
    "                is_invalid = True\n",
    "                break\n",
    "\n",
    "    if \"SATL\" not in region_info:\n",
    "        is_invalid = True\n",
    "\n",
    "    if is_invalid:\n",
    "        invalid_file_count += 1\n",
    "\n",
    "valid_file_count = len(os.listdir(\"session_4/annotations\")) - invalid_file_count\n",
    "print(f\"{valid_file_count} files follow the name convention.\")"
   ]
  },
  {
   "cell_type": "code",
   "execution_count": 16,
   "id": "a4f3a14d",
   "metadata": {},
   "outputs": [
    {
     "name": "stdout",
     "output_type": "stream",
     "text": [
      "27 annotations in 202401\n",
      "45 annotations in 202402\n",
      "17 annotations in 202403\n",
      "25 annotations in 202404\n",
      "28 annotations in 202405\n",
      "52 annotations in 202406\n",
      "The month with the most annotation files is 202406, with 52 annotations.\n"
     ]
    }
   ],
   "source": [
    "# 3. Count annotations per month and year, and find the month with the most annotations\n",
    "\n",
    "from collections import Counter\n",
    "\n",
    "month_list = []\n",
    "\n",
    "for entry in valid_files:\n",
    "    entry_date = entry[0]\n",
    "    entry_month = entry_date[:6]\n",
    "    month_list.append(entry_month)\n",
    "\n",
    "month_counts = Counter(month_list)\n",
    "\n",
    "for month, count in month_counts.items():\n",
    "    print(f\"{count} annotations in {month}\")\n",
    "\n",
    "most_annotated_month = max(month_counts, key=month_counts.get)\n",
    "max_annotations = month_counts[most_annotated_month]\n",
    "\n",
    "print(f\"The month with the most annotation files is {most_annotated_month}, with {max_annotations} annotations.\")"
   ]
  },
  {
   "cell_type": "code",
   "execution_count": 19,
   "id": "5b268fdc",
   "metadata": {},
   "outputs": [],
   "source": [
    "# 4. Create new folders for each month (YYYYMM) and move the files\n",
    "\n",
    "import shutil as sh\n",
    "\n",
    "for month in set(month_list):\n",
    "    destination_path = f\"session_4/annotations/months/{month}\"\n",
    "    os.makedirs(destination_path, exist_ok=True)\n",
    "    for file_parts in valid_files:\n",
    "        file_date = file_parts[0]\n",
    "        file_month = file_date[:6]\n",
    "        if file_month == month:\n",
    "            source_file = \"_\".join(file_parts)\n",
    "            sh.copy(f\"session_4/annotations/{source_file}\", destination_path)"
   ]
  },
  {
   "cell_type": "code",
   "execution_count": 20,
   "id": "286e8233",
   "metadata": {},
   "outputs": [
    {
     "name": "stdout",
     "output_type": "stream",
     "text": [
      "20240623_215120_SN29_QUICKVIEW_VISUAL_1_7_0_SATL-2KM-10N_596_4134.txt\n",
      "20240623_215102_SN43_QUICKVIEW_VISUAL_1_7_0_SATL-2KM-11N_384_3750.txt\n",
      "20240623_193704_SN27_QUICKVIEW_VISUAL_1_7_0_SATL-2KM-11N_566_3734.txt\n",
      "20240619_215556_SN29_QUICKVIEW_VISUAL_1_7_0_SATL-2KM-10N_742_4460.txt\n",
      "20240619_185757_SN24_QUICKVIEW_VISUAL_1_7_0_SATL-2KM-11N_528_3700.txt\n",
      "20240619_052401_SN30_QUICKVIEW_VISUAL_1_7_0_SATL-2KM-52N_368_4336.txt\n",
      "20240618_215539_SN31_QUICKVIEW_VISUAL_1_7_0_SATL-2KM-11N_458_3756.txt\n",
      "20240618_215539_SN31_QUICKVIEW_VISUAL_1_7_0_SATL-2KM-11N_452_3740.txt\n",
      "20240618_193146_SN27_QUICKVIEW_VISUAL_1_7_0_SATL-2KM-11N_530_3682.txt\n",
      "20240617_211350_SN29_QUICKVIEW_VISUAL_1_7_0_SATL-2KM-11N_724_3614.txt\n",
      "20240617_184443_SN24_QUICKVIEW_VISUAL_1_7_0_SATL-2KM-11N_702_3566.txt\n",
      "20240617_052859_SN29_QUICKVIEW_VISUAL_1_7_0_SATL-2KM-51N_730_4348.txt\n",
      "20240616_213053_SN30_QUICKVIEW_VISUAL_1_7_0_SATL-2KM-11N_460_3792.txt\n",
      "20240616_213047_SN30_QUICKVIEW_VISUAL_1_7_0_SATL-2KM-11N_466_3828.txt\n",
      "20240616_213047_SN30_QUICKVIEW_VISUAL_1_7_0_SATL-2KM-11N_466_3826.txt\n",
      "20240616_213047_SN30_QUICKVIEW_VISUAL_1_7_0_SATL-2KM-11N_464_3830.txt\n",
      "20240616_213047_SN30_QUICKVIEW_VISUAL_1_7_0_SATL-2KM-11N_464_3828.txt\n",
      "20240616_102144_SN28_QUICKVIEW_VISUAL_1_7_0_SATL-2KM-39N_560_2792.txt\n",
      "20240616_102144_SN28_QUICKVIEW_VISUAL_1_7_0_SATL-2KM-39N_558_2794.txt\n",
      "20240616_102144_SN28_QUICKVIEW_VISUAL_1_7_0_SATL-2KM-39N_556_2794.txt\n",
      "20240616_081345_SN27_QUICKVIEW_VISUAL_1_7_0_SATL-2KM-39N_562_2794.txt\n",
      "20240616_081345_SN27_QUICKVIEW_VISUAL_1_7_0_SATL-2KM-39N_562_2792.txt\n",
      "20240616_081345_SN27_QUICKVIEW_VISUAL_1_7_0_SATL-2KM-39N_560_2794.txt\n",
      "20240616_081345_SN27_QUICKVIEW_VISUAL_1_7_0_SATL-2KM-39N_560_2792.txt\n",
      "20240615_173631_SN33_QUICKVIEW_VISUAL_1_7_0_SATL-2KM-11N_546_3742.txt\n",
      "20240614_221436_SN31_QUICKVIEW_VISUAL_1_7_0_SATL-2KM-10N_558_4184.txt\n",
      "20240613_214203_SN43_QUICKVIEW_VISUAL_1_7_0_SATL-2KM-11N_384_3750.txt\n",
      "20240613_192217_SN26_QUICKVIEW_VISUAL_1_7_0_SATL-2KM-10N_560_4178.txt\n",
      "20240613_053340_SN29_QUICKVIEW_VISUAL_1_7_0_SATL-2KM-51N_730_4342.txt\n",
      "20240613_053340_SN29_QUICKVIEW_VISUAL_1_7_0_SATL-2KM-51N_728_4342.txt\n",
      "20240612_185419_SN24_QUICKVIEW_VISUAL_1_7_0_SATL-2KM-11N_554_3610.txt\n",
      "20240612_185400_SN24_QUICKVIEW_VISUAL_1_7_0_SATL-2KM-11N_578_3722.txt\n",
      "20240612_185400_SN24_QUICKVIEW_VISUAL_1_7_0_SATL-2KM-11N_576_3720.txt\n",
      "20240612_185400_SN24_QUICKVIEW_VISUAL_1_7_0_SATL-2KM-11N_574_3714.txt\n",
      "20240612_053829_SN28_QUICKVIEW_VISUAL_1_7_0_SATL-2KM-51N_688_4420.txt\n",
      "20240612_053829_SN28_QUICKVIEW_VISUAL_1_7_0_SATL-2KM-51N_686_4422.txt\n",
      "20240611_215323_SN30_QUICKVIEW_VISUAL_1_7_0_SATL-2KM-10N_702_3948.txt\n",
      "20240611_025943_SN26_QUICKVIEW_VISUAL_1_7_0_SATL-2KM-51N_748_4366.txt\n",
      "20240611_025943_SN26_QUICKVIEW_VISUAL_1_7_0_SATL-2KM-51N_748_4364.txt\n",
      "20240610_191018_SN26_QUICKVIEW_VISUAL_1_7_0_SATL-2KM-11N_384_3750.txt\n",
      "20240609_214259_SN30_QUICKVIEW_VISUAL_1_7_0_SATL-2KM-11N_262_4052.txt\n",
      "20240609_191959_SN27_QUICKVIEW_VISUAL_1_7_0_SATL-2KM-11N_702_3540.txt\n",
      "20240609_191744_SN24_QUICKVIEW_VISUAL_1_7_0_SATL-2KM-10N_564_4194.txt\n",
      "20240608_214614_SN29_QUICKVIEW_VISUAL_1_7_0_SATL-2KM-11N_248_4068.txt\n",
      "20240607_200250_SN27_QUICKVIEW_VISUAL_1_7_0_SATL-2KM-10N_554_4172.txt\n",
      "20240606_180251_SN33_QUICKVIEW_VISUAL_1_7_0_SATL-2KM-10N_556_4180.txt\n",
      "20240605_212717_SN29_QUICKVIEW_VISUAL_1_7_0_SATL-2KM-11N_718_3608.txt\n",
      "20240604_214955_SN29_QUICKVIEW_VISUAL_1_7_0_SATL-2KM-10N_594_4136.txt\n",
      "20240603_215348_SN28_QUICKVIEW_VISUAL_1_6_0_SATL-2KM-11N_346_3786.txt\n",
      "20240603_215226_SN28_QUICKVIEW_VISUAL_1_6_0_SATL-2KM-11N_248_4068.txt\n",
      "20240602_215203_SN30_QUICKVIEW_VISUAL_1_6_0_SATL-2KM-10N_714_3948.txt\n",
      "20240602_215203_SN30_QUICKVIEW_VISUAL_1_6_0_SATL-2KM-10N_712_3948.txt\n",
      "20240528_191604_SN24_QUICKVIEW_VISUAL_1_6_0_SATL-2KM-11N_344_3836.txt\n",
      "20240528_191448_SN24_QUICKVIEW_VISUAL_1_6_0_SATL-2KM-11N_248_4068.txt\n",
      "20240524_213504_SN29_QUICKVIEW_VISUAL_1_6_0_SATL-2KM-11N_380_3724.txt\n",
      "20240524_213504_SN29_QUICKVIEW_VISUAL_1_6_0_SATL-2KM-11N_378_3724.txt\n",
      "20240521_101252_SN43_QUICKVIEW_VISUAL_1_6_0_SATL-2KM-39N_558_2796.txt\n",
      "20240521_101252_SN43_QUICKVIEW_VISUAL_1_6_0_SATL-2KM-39N_556_2792.txt\n",
      "20240521_052621_SN43_QUICKVIEW_VISUAL_1_6_0_SATL-2KM-51N_730_4342.txt\n",
      "20240520_194539_SN27_QUICKVIEW_VISUAL_1_5_0_SATL-2KM-10N_638_4282.txt\n",
      "20240520_194539_SN27_QUICKVIEW_VISUAL_1_5_0_SATL-2KM-10N_638_4280.txt\n",
      "20240519_214917_SN31_QUICKVIEW_VISUAL_1_5_0_SATL-2KM-11N_500_3602.txt\n",
      "20240519_214917_SN31_QUICKVIEW_VISUAL_1_5_0_SATL-2KM-11N_500_3600.txt\n",
      "20240519_214917_SN31_QUICKVIEW_VISUAL_1_5_0_SATL-2KM-11N_500_3598.txt\n",
      "20240519_191838_SN27_QUICKVIEW_VISUAL_1_5_0_SATL-2KM-11N_718_3608.txt\n",
      "20240519_184534_SN24_QUICKVIEW_VISUAL_1_5_0_SATL-2KM-11N_658_3700.txt\n",
      "20240516_211630_SN28_QUICKVIEW_VISUAL_1_5_0_SATL-2KM-11N_716_3848.txt\n",
      "20240516_190328_SN24_QUICKVIEW_VISUAL_1_5_0_SATL-2KM-11N_262_4052.txt\n",
      "20240514_052716_SN43_QUICKVIEW_VISUAL_1_5_0_SATL-2KM-51N_730_4342.txt\n",
      "20240513_212022_SN29_QUICKVIEW_VISUAL_1_5_0_SATL-2KM-11N_630_3742.txt\n",
      "20240510_191914_SN27_QUICKVIEW_VISUAL_1_5_0_SATL-2KM-11N_712_3566.txt\n",
      "20240510_191908_SN27_QUICKVIEW_VISUAL_1_5_0_SATL-2KM-11N_718_3608.txt\n",
      "20240509_212336_SN29_QUICKVIEW_VISUAL_1_5_0_SATL-2KM-11N_706_3778.txt\n",
      "20240509_193206_SN26_QUICKVIEW_VISUAL_1_5_0_SATL-2KM-10N_562_4196.txt\n",
      "20240508_194502_SN27_QUICKVIEW_VISUAL_1_5_0_SATL-2KM-11N_264_4022.txt\n",
      "20240508_194502_SN27_QUICKVIEW_VISUAL_1_5_0_SATL-2KM-11N_262_4022.txt\n",
      "20240507_191326_SN27_QUICKVIEW_VISUAL_1_5_0_SATL-2KM-11N_718_3608.txt\n",
      "20240506_213507_SN43_QUICKVIEW_VISUAL_1_5_0_SATL-2KM-11N_384_3750.txt\n",
      "20240506_192008_SN26_QUICKVIEW_VISUAL_1_5_0_SATL-2KM-10N_562_4178.txt\n",
      "20240503_214759_SN28_QUICKVIEW_VISUAL_1_5_0_SATL-2KM-11N_376_3724.txt\n",
      "20240428_215557_SN43_QUICKVIEW_VISUAL_1_5_0_SATL-2KM-10N_726_3862.txt\n",
      "20240428_215426_SN43_QUICKVIEW_VISUAL_1_5_0_SATL-2KM-10N_634_4282.txt\n",
      "20240428_215426_SN43_QUICKVIEW_VISUAL_1_5_0_SATL-2KM-10N_630_4264.txt\n",
      "20240428_215426_SN43_QUICKVIEW_VISUAL_1_5_0_SATL-2KM-10N_630_4262.txt\n",
      "20240428_191026_SN24_QUICKVIEW_VISUAL_1_5_0_SATL-2KM-11N_380_3722.txt\n",
      "20240427_221308_SN31_QUICKVIEW_VISUAL_1_5_0_SATL-2KM-10N_722_3848.txt\n",
      "20240426_215224_SN29_QUICKVIEW_VISUAL_1_5_0_SATL-2KM-11N_244_3818.txt\n",
      "20240423_190101_SN26_QUICKVIEW_VISUAL_1_5_0_SATL-2KM-11N_418_3872.txt\n",
      "20240423_190101_SN26_QUICKVIEW_VISUAL_1_5_0_SATL-2KM-11N_418_3864.txt\n",
      "20240423_190101_SN26_QUICKVIEW_VISUAL_1_5_0_SATL-2KM-11N_418_3862.txt\n",
      "20240423_190101_SN26_QUICKVIEW_VISUAL_1_5_0_SATL-2KM-11N_418_3860.txt\n",
      "20240423_190101_SN26_QUICKVIEW_VISUAL_1_5_0_SATL-2KM-11N_416_3864.txt\n",
      "20240423_190101_SN26_QUICKVIEW_VISUAL_1_5_0_SATL-2KM-11N_416_3862.txt\n",
      "20240423_190101_SN26_QUICKVIEW_VISUAL_1_5_0_SATL-2KM-11N_414_3862.txt\n",
      "20240402_215427_SN31_QUICKVIEW_VISUAL_1_2_0_SATL-2KM-11N_502_3600.txt\n",
      "20240402_215421_SN31_QUICKVIEW_VISUAL_1_2_0_SATL-2KM-11N_500_3632.txt\n",
      "20240402_184757_SN24_QUICKVIEW_VISUAL_1_2_0_SATL-2KM-11N_490_3638.txt\n",
      "20240402_184757_SN24_QUICKVIEW_VISUAL_1_2_0_SATL-2KM-11N_488_3638.txt\n",
      "20240402_184757_SN24_QUICKVIEW_VISUAL_1_2_0_SATL-2KM-11N_486_3636.txt\n",
      "20240402_184757_SN24_QUICKVIEW_VISUAL_1_2_0_SATL-2KM-11N_486_3630.txt\n",
      "20240401_221819_SN31_QUICKVIEW_VISUAL_1_2_0_SATL-2KM-10N_602_4148.txt\n",
      "20240401_175925_SN33_QUICKVIEW_VISUAL_1_2_0_SATL-2KM-10N_542_4168.txt\n",
      "20240401_175918_SN33_QUICKVIEW_VISUAL_1_2_0_SATL-2KM-10N_546_4206.txt\n",
      "20240401_175918_SN33_QUICKVIEW_VISUAL_1_2_0_SATL-2KM-10N_542_4168.txt\n",
      "20240401_032415_SN27_QUICKVIEW_VISUAL_1_2_0_SATL-2KM-51N_688_4420.txt\n",
      "20240325_173936_SN33_QUICKVIEW_VISUAL_1_2_0_SATL-2KM-11N_378_3722.txt\n",
      "20240324_180232_SN33_QUICKVIEW_VISUAL_1_2_0_SATL-2KM-10N_554_4172.txt\n",
      "20240322_212516_SN28_QUICKVIEW_VISUAL_1_2_0_SATL-2KM-11N_502_3600.txt\n",
      "20240322_184801_SN24_QUICKVIEW_VISUAL_1_2_0_SATL-2KM-11N_502_3632.txt\n",
      "20240322_184801_SN24_QUICKVIEW_VISUAL_1_2_0_SATL-2KM-11N_500_3632.txt\n",
      "20240321_220846_SN31_QUICKVIEW_VISUAL_1_2_0_SATL-2KM-10N_560_4178.txt\n",
      "20240321_190819_SN27_QUICKVIEW_VISUAL_1_2_0_SATL-2KM-11N_714_3632.txt\n",
      "20240317_221229_SN31_QUICKVIEW_VISUAL_1_2_0_SATL-2KM-10N_556_4176.txt\n",
      "20240317_215115_SN28_QUICKVIEW_VISUAL_1_2_0_SATL-2KM-10N_554_4162.txt\n",
      "20240317_215115_SN28_QUICKVIEW_VISUAL_1_2_0_SATL-2KM-10N_552_4164.txt\n",
      "20240317_215115_SN28_QUICKVIEW_VISUAL_1_2_0_SATL-2KM-10N_552_4162.txt\n",
      "20240316_191451_SN26_QUICKVIEW_VISUAL_1_2_0_SATL-2KM-11N_380_3764.txt\n",
      "20240314_220020_SN30_QUICKVIEW_VISUAL_1_2_0_SATL-2KM-10N_550_4202.txt\n",
      "20240314_220020_SN30_QUICKVIEW_VISUAL_1_2_0_SATL-2KM-10N_544_4186.txt\n",
      "20240308_211248_SN29_QUICKVIEW_VISUAL_1_2_0_SATL-2KM-11N_718_3640.txt\n",
      "20240308_191212_SN27_QUICKVIEW_VISUAL_1_2_0_SATL-2KM-11N_506_3614.txt\n",
      "20240304_212824_SN30_QUICKVIEW_VISUAL_1_2_0_SATL-2KM-11N_378_3722.txt\n",
      "20240228_213951_SN29_QUICKVIEW_VISUAL_1_1_10_SATL-2KM-11N_248_4068.txt\n",
      "20240227_214218_SN30_QUICKVIEW_VISUAL_1_1_10_SATL-2KM-10N_562_4170.txt\n",
      "20240224_214855_SN30_QUICKVIEW_VISUAL_1_1_10_SATL-2KM-10N_554_4162.txt\n",
      "20240224_214855_SN30_QUICKVIEW_VISUAL_1_1_10_SATL-2KM-10N_552_4162.txt\n",
      "20240223_025420_SN24_QUICKVIEW_VISUAL_1_1_10_SATL-2KM-51N_686_4422.txt\n",
      "20240222_212250_SN30_QUICKVIEW_VISUAL_1_1_10_SATL-2KM-11N_382_3722.txt\n",
      "20240222_074256_SN26_QUICKVIEW_VISUAL_1_1_10_SATL-2KM-39N_564_2790.txt\n",
      "20240222_074155_SN26_QUICKVIEW_VISUAL_1_1_10_SATL-2KM-39N_562_2794.txt\n",
      "20240222_074155_SN26_QUICKVIEW_VISUAL_1_1_10_SATL-2KM-39N_562_2792.txt\n",
      "20240222_074155_SN26_QUICKVIEW_VISUAL_1_1_10_SATL-2KM-39N_560_2792.txt\n",
      "20240222_074155_SN26_QUICKVIEW_VISUAL_1_1_10_SATL-2KM-39N_558_2794.txt\n",
      "20240222_074155_SN26_QUICKVIEW_VISUAL_1_1_10_SATL-2KM-39N_556_2794.txt\n",
      "20240222_074155_SN26_QUICKVIEW_VISUAL_1_1_10_SATL-2KM-39N_556_2792.txt\n",
      "20240222_074151_SN26_QUICKVIEW_VISUAL_1_1_10_SATL-2KM-39N_562_2794.txt\n",
      "20240222_074151_SN26_QUICKVIEW_VISUAL_1_1_10_SATL-2KM-39N_560_2796.txt\n",
      "20240222_074151_SN26_QUICKVIEW_VISUAL_1_1_10_SATL-2KM-39N_560_2794.txt\n",
      "20240222_074151_SN26_QUICKVIEW_VISUAL_1_1_10_SATL-2KM-39N_558_2796.txt\n",
      "20240222_074151_SN26_QUICKVIEW_VISUAL_1_1_10_SATL-2KM-39N_556_2794.txt\n",
      "20240221_190608_SN26_QUICKVIEW_VISUAL_1_1_10_SATL-2KM-11N_380_3764.txt\n",
      "20240220_190455_SN27_QUICKVIEW_VISUAL_1_1_10_SATL-2KM-11N_718_3608.txt\n",
      "20240219_214312_SN28_QUICKVIEW_VISUAL_1_1_10_SATL-2KM-11N_252_3954.txt\n",
      "20240218_180121_SN33_QUICKVIEW_VISUAL_1_1_10_SATL-2KM-10N_568_4176.txt\n",
      "20240216_213630_SN31_QUICKVIEW_VISUAL_1_1_10_SATL-2KM-11N_418_3724.txt\n",
      "20240214_184340_SN24_QUICKVIEW_VISUAL_1_1_10_SATL-2KM-11N_688_3630.txt\n",
      "20240213_212524_SN29_QUICKVIEW_VISUAL_1_1_10_SATL-2KM-11N_544_3742.txt\n",
      "20240213_212524_SN29_QUICKVIEW_VISUAL_1_1_10_SATL-2KM-11N_542_3750.txt\n",
      "20240213_212524_SN29_QUICKVIEW_VISUAL_1_1_10_SATL-2KM-11N_540_3748.txt\n",
      "20240212_213506_SN31_QUICKVIEW_VISUAL_1_1_10_SATL-2KM-11N_408_3712.txt\n",
      "20240211_211057_SN30_QUICKVIEW_VISUAL_1_1_10_SATL-2KM-11N_700_3690.txt\n",
      "20240209_212744_SN29_QUICKVIEW_VISUAL_1_1_10_SATL-2KM-11N_380_3722.txt\n",
      "20240208_184650_SN24_QUICKVIEW_VISUAL_1_1_10_SATL-2KM-11N_624_3632.txt\n",
      "20240203_173953_SN33_QUICKVIEW_VISUAL_1_1_10_SATL-2KM-11N_368_3756.txt\n",
      "20240203_173953_SN33_QUICKVIEW_VISUAL_1_1_10_SATL-2KM-11N_366_3756.txt\n",
      "20240202_191114_SN27_QUICKVIEW_VISUAL_1_1_10_SATL-2KM-11N_718_3608.txt\n",
      "20240202_184725_SN24_QUICKVIEW_VISUAL_1_1_10_SATL-2KM-11N_624_3630.txt\n",
      "20240201_075143_SN26_QUICKVIEW_VISUAL_1_1_10_SATL-2KM-39N_562_2788.txt\n",
      "20240201_075143_SN26_QUICKVIEW_VISUAL_1_1_10_SATL-2KM-39N_556_2792.txt\n",
      "20240201_075140_SN26_QUICKVIEW_VISUAL_1_1_10_SATL-2KM-39N_562_2794.txt\n",
      "20240201_075140_SN26_QUICKVIEW_VISUAL_1_1_10_SATL-2KM-39N_562_2792.txt\n",
      "20240201_075140_SN26_QUICKVIEW_VISUAL_1_1_10_SATL-2KM-39N_560_2796.txt\n",
      "20240201_075140_SN26_QUICKVIEW_VISUAL_1_1_10_SATL-2KM-39N_560_2794.txt\n",
      "20240201_075140_SN26_QUICKVIEW_VISUAL_1_1_10_SATL-2KM-39N_560_2792.txt\n",
      "20240201_075140_SN26_QUICKVIEW_VISUAL_1_1_10_SATL-2KM-39N_558_2794.txt\n",
      "20240201_075140_SN26_QUICKVIEW_VISUAL_1_1_10_SATL-2KM-39N_556_2794.txt\n",
      "20240201_075140_SN26_QUICKVIEW_VISUAL_1_1_10_SATL-2KM-39N_556_2792.txt\n",
      "20240130_215036_SN31_QUICKVIEW_VISUAL_1_1_10_SATL-2KM-11N_366_3756.txt\n",
      "20240130_173903_SN33_QUICKVIEW_VISUAL_1_1_10_SATL-2KM-11N_366_3756.txt\n",
      "20240130_173903_SN33_QUICKVIEW_VISUAL_1_1_10_SATL-2KM-11N_364_3754.txt\n",
      "20240130_173903_SN33_QUICKVIEW_VISUAL_1_1_10_SATL-2KM-11N_360_3748.txt\n",
      "20240128_213258_SN29_QUICKVIEW_VISUAL_1_1_10_SATL-2KM-11N_418_3864.txt\n",
      "20240128_213258_SN29_QUICKVIEW_VISUAL_1_1_10_SATL-2KM-11N_418_3862.txt\n",
      "20240127_190620_SN27_QUICKVIEW_VISUAL_1_1_10_SATL-2KM-11N_502_3602.txt\n",
      "20240127_190620_SN27_QUICKVIEW_VISUAL_1_1_10_SATL-2KM-11N_502_3600.txt\n",
      "20240127_190620_SN27_QUICKVIEW_VISUAL_1_1_10_SATL-2KM-11N_500_3602.txt\n",
      "20240127_190620_SN27_QUICKVIEW_VISUAL_1_1_10_SATL-2KM-11N_500_3600.txt\n",
      "20240126_173752_SN33_QUICKVIEW_VISUAL_1_1_10_SATL-2KM-11N_386_3722.txt\n",
      "20240115_213834_SN28_QUICKVIEW_VISUAL_1_1_10_SATL-2KM-11N_380_3724.txt\n",
      "20240115_213834_SN28_QUICKVIEW_VISUAL_1_1_10_SATL-2KM-11N_376_3722.txt\n",
      "20240112_192510_SN27_QUICKVIEW_VISUAL_1_1_10_SATL-2KM-11N_386_3750.txt\n",
      "20240110_192002_SN27_QUICKVIEW_VISUAL_1_1_10_SATL-2KM-11N_380_3728.txt\n",
      "20240104_220339_SN31_QUICKVIEW_VISUAL_1_1_10_SATL-2KM-10N_556_4178.txt\n",
      "20240102_185954_SN24_QUICKVIEW_VISUAL_1_1_10_SATL-2KM-11N_414_3786.txt\n",
      "20240102_185605_SN27_QUICKVIEW_VISUAL_1_1_10_SATL-2KM-11N_690_3572.txt\n",
      "20240102_185527_SN27_QUICKVIEW_VISUAL_1_1_10_SATL-2KM-11N_740_3850.txt\n",
      "20240101_213601_SN31_QUICKVIEW_VISUAL_1_1_10_SATL-2KM-11N_396_3752.txt\n",
      "20240101_213601_SN31_QUICKVIEW_VISUAL_1_1_10_SATL-2KM-11N_392_3742.txt\n",
      "20240101_213601_SN31_QUICKVIEW_VISUAL_1_1_10_SATL-2KM-11N_392_3740.txt\n",
      "20240101_192856_SN24_QUICKVIEW_VISUAL_1_1_10_SATL-2KM-10N_554_4162.txt\n",
      "20240101_192856_SN24_QUICKVIEW_VISUAL_1_1_10_SATL-2KM-10N_552_4164.txt\n",
      "20240101_192856_SN24_QUICKVIEW_VISUAL_1_1_10_SATL-2KM-10N_552_4162.txt\n",
      "20240101_174301_SN33_QUICKVIEW_VISUAL_1_1_10_SATL-2KM-11N_404_3772.txt\n",
      "20240101_174301_SN33_QUICKVIEW_VISUAL_1_1_10_SATL-2KM-11N_404_3770.txt\n"
     ]
    }
   ],
   "source": [
    "# 5. Print all the annotations from the most recent to the oldest\n",
    "\n",
    "sorted_files = sorted(valid_files, reverse=True)\n",
    "for file_parts in sorted_files:\n",
    "    formatted_name = \"_\".join(file_parts)\n",
    "    print(formatted_name)"
   ]
  },
  {
   "cell_type": "code",
   "execution_count": 21,
   "id": "0f3a7f56",
   "metadata": {},
   "outputs": [
    {
     "name": "stdout",
     "output_type": "stream",
     "text": [
      "There are 9 different satellites.\n",
      "We have 37 annotations for satellite number SN26.\n",
      "We have 18 annotations for satellite number SN30.\n",
      "We have 11 annotations for satellite number SN43.\n",
      "We have 29 annotations for satellite number SN27.\n",
      "We have 19 annotations for satellite number SN31.\n",
      "We have 26 annotations for satellite number SN24.\n",
      "We have 22 annotations for satellite number SN29.\n",
      "We have 16 annotations for satellite number SN33.\n",
      "We have 16 annotations for satellite number SN28.\n",
      "The satellite with the most annotation files is SN26, with 37 annotations.\n"
     ]
    }
   ],
   "source": [
    "# 6. Count different satellites and which one was used in the most recent annotation\n",
    "\n",
    "satellites = []\n",
    "\n",
    "for entry in valid_files:\n",
    "    satellite = entry[2]\n",
    "    satellites.append(satellite)\n",
    "\n",
    "unique_satellites = set(satellites)\n",
    "print(f\"There are {len(unique_satellites)} different satellites.\")\n",
    "\n",
    "satellite_counts = {}\n",
    "\n",
    "for sat in unique_satellites:\n",
    "    satellite_counts[sat] = satellites.count(sat)\n",
    "\n",
    "for sat, count in satellite_counts.items():\n",
    "    print(f\"We have {count} annotations for satellite number {sat}.\")\n",
    "\n",
    "most_annotations_sat = max(satellite_counts, key=satellite_counts.get)\n",
    "most_annotations_count = satellite_counts[most_annotations_sat]\n",
    "\n",
    "print(f\"The satellite with the most annotation files is {most_annotations_sat}, with {most_annotations_count} annotations.\")"
   ]
  },
  {
   "cell_type": "code",
   "execution_count": 22,
   "id": "24445d28",
   "metadata": {},
   "outputs": [
    {
     "name": "stdout",
     "output_type": "stream",
     "text": [
      "There are 137 unique regions.\n"
     ]
    }
   ],
   "source": [
    "# 7. Count unique regions\n",
    "\n",
    "region_list = []\n",
    "\n",
    "for file_parts in valid_files:\n",
    "    region_name = \"_\".join(file_parts[8:]).replace(\".txt\", \"\")\n",
    "    region_list.append(region_name)\n",
    "\n",
    "unique_regions = set(region_list)\n",
    "print(f\"There are {len(unique_regions)} unique regions.\")"
   ]
  }
 ],
 "metadata": {
  "celltoolbar": "Slideshow",
  "kernelspec": {
   "display_name": "esade",
   "language": "python",
   "name": "python3"
  },
  "language_info": {
   "codemirror_mode": {
    "name": "ipython",
    "version": 3
   },
   "file_extension": ".py",
   "mimetype": "text/x-python",
   "name": "python",
   "nbconvert_exporter": "python",
   "pygments_lexer": "ipython3",
   "version": "3.12.6"
  }
 },
 "nbformat": 4,
 "nbformat_minor": 5
}
